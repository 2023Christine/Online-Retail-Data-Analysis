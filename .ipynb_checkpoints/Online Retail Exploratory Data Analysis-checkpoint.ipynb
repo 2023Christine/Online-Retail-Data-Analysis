{
 "cells": [
  {
   "cell_type": "markdown",
   "id": "854a904d",
   "metadata": {},
   "source": [
    "# Online Retail Dataset Exploratory Data Analysis\n",
    "<hr style=\"border: 2px solid #000000;\">"
   ]
  },
  {
   "cell_type": "code",
   "execution_count": 1,
   "id": "896b58d5",
   "metadata": {},
   "outputs": [],
   "source": [
    "import numpy as np\n",
    "import pandas as pd\n",
    "import matplotlib.pyplot as plt \n",
    "import seaborn as sns"
   ]
  },
  {
   "cell_type": "markdown",
   "id": "b6e71cf2",
   "metadata": {},
   "source": [
    "---\n",
    "\n",
    "# Table of Contents\n",
    "1. [Introduction](#I.-Introduction)\n",
    "2. [Customer Analysis](#II.-Country-Analysis)\n",
    "3. [Product Analysis](#III.-Product-Analysis)\n",
    "4. [Time Analysis](#IV.-Time-Analysis)\n",
    "5. [Country Analysis](#V.-Country-Analysis)\n",
    "5. [Conclusion](#VI.-Conclusion)\n",
    "\n",
    "---"
   ]
  },
  {
   "cell_type": "markdown",
   "id": "73919324",
   "metadata": {},
   "source": [
    "# Introduction"
   ]
  },
  {
   "cell_type": "markdown",
   "id": "ed06abc9",
   "metadata": {},
   "source": [
    "Welcome to the \"Online Retail Exploratory Data Analysis\" Notebook for the UCI Machine Learning Repository dataset. This phase represents a crucial step in preparing the dataset for in-depth analysis and modeling. The dataset, a rich source of information, demands a nuanced exploration to extract meaningful patterns and correlations. Through meticulous examination and the application of statistical techniques, the objective is to unravel the narrative concealed within the data, shedding light on customer preferences, product dynamics, temporal trends, and the impact of different countries on the study.\n",
    "\n",
    "Readers are invited to join this journey through the various facets of the dataset, navigating through Customer Analysis, Product Analysis, Time Analysis, and Country Analysis. By the conclusion of this EDA phase, the goal is to provide a well-understood, meticulously analyzed dataset, laying the groundwork for conclusive findings and actionable insights for the audience."
   ]
  },
  {
   "cell_type": "markdown",
   "id": "776efefb",
   "metadata": {},
   "source": [
    "This data set which contains transactions occurring between 01/12/2010 and 09/12/2011 for a UK-based and registered non-store online retail. Source: http://archive.ics.uci.edu/ml/datasets/Online+Retail\n",
    "\n",
    "The dataset underwent a thorough cleaning process in the Online Retail Data Cleaning Notebook, where various measures were implemented to enhance its quality and usability. Additionally, several key features were incorporated to facilitate a more insightful and comprehensive analysis in subsequent phases. This preparatory step ensures that the dataset is primed for a detailed exploration of customer behavior, product dynamics, time trends, and country-specific insights during the Exploratory Data Analysis (EDA) phase.\n",
    "\n",
    "Each key feature in the dataset represents a unique transaction, and understanding its structure is essential for subsequent data analysis and cleaning.\n",
    "\n",
    "Examination of the fundamental features that characterize each transaction reveals:\n",
    "\n",
    "- **InvoiceNo:** A 6-digit integral number serving as a unique identifier for each transaction. \n",
    "- **StockCode:** A 5-digit integral number assigned to each distinct product, uniquely identifying items in the dataset.\n",
    "- **Description:** The nominal field that holds the product or item name.\n",
    "- **Quantity:** Numeric field representing the quantities of each product per transaction.\n",
    "- **InvoiceDate:** Numeric field indicating the date and time when a transaction occurred.\n",
    "- **UnitPrice:** Numeric field denoting the unit price of each product in sterling (£).\n",
    "- **CustomerID:** A 5-digit integral number serving as a unique identifier for each customer.\n",
    "- **Country:** Nominal field indicating the country where a customer resides.\n",
    "- **TotalPrice:** This column represents the total monetary value of each transaction, calculated by multiplying the quantity of items purchased by their respective unit prices.\n",
    "- **Hour:** Specific hour of the day when each transaction occurred, extracted from the 'InvoiceDate' timestamp.\n",
    "- **Day:** Day of the week (0 for Monday, 1 for Tuesday, and so on) when each transaction took place, derived from the 'InvoiceDate' timestamp.\n",
    "- **Month:** Numerical representation of the month when each transaction occurred, extracted from the 'InvoiceDate' timestamp."
   ]
  },
  {
   "cell_type": "markdown",
   "id": "9f8cef8d",
   "metadata": {},
   "source": [
    "### Overview of Dataset Characteristics"
   ]
  },
  {
   "cell_type": "markdown",
   "id": "e31bfcdb",
   "metadata": {},
   "source": [
    "Before delving into more specific analyses, a pause is taken to examine the cleaned dataset and its fundamental features. This initial exploration is designed to provide a snapshot of the dataset's characteristics, enabling a quick understanding of its structure and distribution. By inspecting basic features, the stage is set for a more in-depth exploration, facilitating the extraction of meaningful insights during the subsequent phases of the analysis."
   ]
  },
  {
   "cell_type": "code",
   "execution_count": 2,
   "id": "10e23f36",
   "metadata": {},
   "outputs": [
    {
     "data": {
      "text/html": [
       "<div>\n",
       "<style scoped>\n",
       "    .dataframe tbody tr th:only-of-type {\n",
       "        vertical-align: middle;\n",
       "    }\n",
       "\n",
       "    .dataframe tbody tr th {\n",
       "        vertical-align: top;\n",
       "    }\n",
       "\n",
       "    .dataframe thead th {\n",
       "        text-align: right;\n",
       "    }\n",
       "</style>\n",
       "<table border=\"1\" class=\"dataframe\">\n",
       "  <thead>\n",
       "    <tr style=\"text-align: right;\">\n",
       "      <th></th>\n",
       "      <th>InvoiceNo</th>\n",
       "      <th>StockCode</th>\n",
       "      <th>Description</th>\n",
       "      <th>Quantity</th>\n",
       "      <th>InvoiceDate</th>\n",
       "      <th>UnitPrice</th>\n",
       "      <th>CustomerID</th>\n",
       "      <th>Country</th>\n",
       "      <th>TotalPrice</th>\n",
       "      <th>Hour</th>\n",
       "      <th>Day</th>\n",
       "      <th>Month</th>\n",
       "      <th>IsRepeatCustomer</th>\n",
       "    </tr>\n",
       "  </thead>\n",
       "  <tbody>\n",
       "    <tr>\n",
       "      <th>0</th>\n",
       "      <td>536365</td>\n",
       "      <td>85123A</td>\n",
       "      <td>WHITE HANGING HEART T-LIGHT HOLDER</td>\n",
       "      <td>6</td>\n",
       "      <td>2010-12-01 08:26:00</td>\n",
       "      <td>2.55</td>\n",
       "      <td>17850.0</td>\n",
       "      <td>United Kingdom</td>\n",
       "      <td>15.30</td>\n",
       "      <td>8</td>\n",
       "      <td>2</td>\n",
       "      <td>12</td>\n",
       "      <td>True</td>\n",
       "    </tr>\n",
       "    <tr>\n",
       "      <th>1</th>\n",
       "      <td>536365</td>\n",
       "      <td>71053</td>\n",
       "      <td>WHITE METAL LANTERN</td>\n",
       "      <td>6</td>\n",
       "      <td>2010-12-01 08:26:00</td>\n",
       "      <td>3.39</td>\n",
       "      <td>17850.0</td>\n",
       "      <td>United Kingdom</td>\n",
       "      <td>20.34</td>\n",
       "      <td>8</td>\n",
       "      <td>2</td>\n",
       "      <td>12</td>\n",
       "      <td>True</td>\n",
       "    </tr>\n",
       "    <tr>\n",
       "      <th>2</th>\n",
       "      <td>536365</td>\n",
       "      <td>84406B</td>\n",
       "      <td>CREAM CUPID HEARTS COAT HANGER</td>\n",
       "      <td>8</td>\n",
       "      <td>2010-12-01 08:26:00</td>\n",
       "      <td>2.75</td>\n",
       "      <td>17850.0</td>\n",
       "      <td>United Kingdom</td>\n",
       "      <td>22.00</td>\n",
       "      <td>8</td>\n",
       "      <td>2</td>\n",
       "      <td>12</td>\n",
       "      <td>True</td>\n",
       "    </tr>\n",
       "    <tr>\n",
       "      <th>3</th>\n",
       "      <td>536365</td>\n",
       "      <td>84029G</td>\n",
       "      <td>KNITTED UNION FLAG HOT WATER BOTTLE</td>\n",
       "      <td>6</td>\n",
       "      <td>2010-12-01 08:26:00</td>\n",
       "      <td>3.39</td>\n",
       "      <td>17850.0</td>\n",
       "      <td>United Kingdom</td>\n",
       "      <td>20.34</td>\n",
       "      <td>8</td>\n",
       "      <td>2</td>\n",
       "      <td>12</td>\n",
       "      <td>True</td>\n",
       "    </tr>\n",
       "    <tr>\n",
       "      <th>4</th>\n",
       "      <td>536365</td>\n",
       "      <td>84029E</td>\n",
       "      <td>RED WOOLLY HOTTIE WHITE HEART.</td>\n",
       "      <td>6</td>\n",
       "      <td>2010-12-01 08:26:00</td>\n",
       "      <td>3.39</td>\n",
       "      <td>17850.0</td>\n",
       "      <td>United Kingdom</td>\n",
       "      <td>20.34</td>\n",
       "      <td>8</td>\n",
       "      <td>2</td>\n",
       "      <td>12</td>\n",
       "      <td>True</td>\n",
       "    </tr>\n",
       "  </tbody>\n",
       "</table>\n",
       "</div>"
      ],
      "text/plain": [
       "   InvoiceNo StockCode                          Description  Quantity  \\\n",
       "0     536365    85123A   WHITE HANGING HEART T-LIGHT HOLDER         6   \n",
       "1     536365     71053                  WHITE METAL LANTERN         6   \n",
       "2     536365    84406B       CREAM CUPID HEARTS COAT HANGER         8   \n",
       "3     536365    84029G  KNITTED UNION FLAG HOT WATER BOTTLE         6   \n",
       "4     536365    84029E       RED WOOLLY HOTTIE WHITE HEART.         6   \n",
       "\n",
       "           InvoiceDate  UnitPrice  CustomerID         Country  TotalPrice  \\\n",
       "0  2010-12-01 08:26:00       2.55     17850.0  United Kingdom       15.30   \n",
       "1  2010-12-01 08:26:00       3.39     17850.0  United Kingdom       20.34   \n",
       "2  2010-12-01 08:26:00       2.75     17850.0  United Kingdom       22.00   \n",
       "3  2010-12-01 08:26:00       3.39     17850.0  United Kingdom       20.34   \n",
       "4  2010-12-01 08:26:00       3.39     17850.0  United Kingdom       20.34   \n",
       "\n",
       "   Hour  Day  Month  IsRepeatCustomer  \n",
       "0     8    2     12              True  \n",
       "1     8    2     12              True  \n",
       "2     8    2     12              True  \n",
       "3     8    2     12              True  \n",
       "4     8    2     12              True  "
      ]
     },
     "execution_count": 2,
     "metadata": {},
     "output_type": "execute_result"
    }
   ],
   "source": [
    "#read in dataset\n",
    "cleaned_data = pd.read_csv('CleanedData.csv',encoding='latin1',low_memory=False)\n",
    "cleaned_data.head(5)"
   ]
  },
  {
   "cell_type": "code",
   "execution_count": 3,
   "id": "b6d5c838",
   "metadata": {},
   "outputs": [
    {
     "name": "stdout",
     "output_type": "stream",
     "text": [
      "<class 'pandas.core.frame.DataFrame'>\n",
      "RangeIndex: 392692 entries, 0 to 392691\n",
      "Data columns (total 13 columns):\n",
      " #   Column            Non-Null Count   Dtype  \n",
      "---  ------            --------------   -----  \n",
      " 0   InvoiceNo         392692 non-null  int64  \n",
      " 1   StockCode         392692 non-null  object \n",
      " 2   Description       392692 non-null  object \n",
      " 3   Quantity          392692 non-null  int64  \n",
      " 4   InvoiceDate       392692 non-null  object \n",
      " 5   UnitPrice         392692 non-null  float64\n",
      " 6   CustomerID        392692 non-null  float64\n",
      " 7   Country           392692 non-null  object \n",
      " 8   TotalPrice        392692 non-null  float64\n",
      " 9   Hour              392692 non-null  int64  \n",
      " 10  Day               392692 non-null  int64  \n",
      " 11  Month             392692 non-null  int64  \n",
      " 12  IsRepeatCustomer  392692 non-null  bool   \n",
      "dtypes: bool(1), float64(3), int64(5), object(4)\n",
      "memory usage: 36.3+ MB\n"
     ]
    }
   ],
   "source": [
    "#view data information\n",
    "cleaned_data.info()"
   ]
  },
  {
   "cell_type": "code",
   "execution_count": 4,
   "id": "2e1c3f05",
   "metadata": {
    "scrolled": true
   },
   "outputs": [
    {
     "data": {
      "text/html": [
       "<div>\n",
       "<style scoped>\n",
       "    .dataframe tbody tr th:only-of-type {\n",
       "        vertical-align: middle;\n",
       "    }\n",
       "\n",
       "    .dataframe tbody tr th {\n",
       "        vertical-align: top;\n",
       "    }\n",
       "\n",
       "    .dataframe thead th {\n",
       "        text-align: right;\n",
       "    }\n",
       "</style>\n",
       "<table border=\"1\" class=\"dataframe\">\n",
       "  <thead>\n",
       "    <tr style=\"text-align: right;\">\n",
       "      <th></th>\n",
       "      <th>InvoiceNo</th>\n",
       "      <th>Quantity</th>\n",
       "      <th>UnitPrice</th>\n",
       "      <th>CustomerID</th>\n",
       "      <th>TotalPrice</th>\n",
       "      <th>Hour</th>\n",
       "      <th>Day</th>\n",
       "      <th>Month</th>\n",
       "    </tr>\n",
       "  </thead>\n",
       "  <tbody>\n",
       "    <tr>\n",
       "      <th>count</th>\n",
       "      <td>392692.000000</td>\n",
       "      <td>392692.000000</td>\n",
       "      <td>392692.000000</td>\n",
       "      <td>392692.000000</td>\n",
       "      <td>392692.000000</td>\n",
       "      <td>392692.000000</td>\n",
       "      <td>392692.000000</td>\n",
       "      <td>392692.000000</td>\n",
       "    </tr>\n",
       "    <tr>\n",
       "      <th>mean</th>\n",
       "      <td>560590.875047</td>\n",
       "      <td>13.119702</td>\n",
       "      <td>3.125914</td>\n",
       "      <td>15287.843865</td>\n",
       "      <td>22.631500</td>\n",
       "      <td>12.721532</td>\n",
       "      <td>2.606911</td>\n",
       "      <td>7.601871</td>\n",
       "    </tr>\n",
       "    <tr>\n",
       "      <th>std</th>\n",
       "      <td>13087.063759</td>\n",
       "      <td>180.492832</td>\n",
       "      <td>22.241836</td>\n",
       "      <td>1713.539549</td>\n",
       "      <td>311.099224</td>\n",
       "      <td>2.276661</td>\n",
       "      <td>1.923929</td>\n",
       "      <td>3.415015</td>\n",
       "    </tr>\n",
       "    <tr>\n",
       "      <th>min</th>\n",
       "      <td>536365.000000</td>\n",
       "      <td>1.000000</td>\n",
       "      <td>0.001000</td>\n",
       "      <td>12346.000000</td>\n",
       "      <td>0.001000</td>\n",
       "      <td>6.000000</td>\n",
       "      <td>0.000000</td>\n",
       "      <td>1.000000</td>\n",
       "    </tr>\n",
       "    <tr>\n",
       "      <th>25%</th>\n",
       "      <td>549234.000000</td>\n",
       "      <td>2.000000</td>\n",
       "      <td>1.250000</td>\n",
       "      <td>13955.000000</td>\n",
       "      <td>4.950000</td>\n",
       "      <td>11.000000</td>\n",
       "      <td>1.000000</td>\n",
       "      <td>5.000000</td>\n",
       "    </tr>\n",
       "    <tr>\n",
       "      <th>50%</th>\n",
       "      <td>561874.000000</td>\n",
       "      <td>6.000000</td>\n",
       "      <td>1.950000</td>\n",
       "      <td>15150.000000</td>\n",
       "      <td>12.450000</td>\n",
       "      <td>13.000000</td>\n",
       "      <td>2.000000</td>\n",
       "      <td>8.000000</td>\n",
       "    </tr>\n",
       "    <tr>\n",
       "      <th>75%</th>\n",
       "      <td>572061.000000</td>\n",
       "      <td>12.000000</td>\n",
       "      <td>3.750000</td>\n",
       "      <td>16791.000000</td>\n",
       "      <td>19.800000</td>\n",
       "      <td>14.000000</td>\n",
       "      <td>4.000000</td>\n",
       "      <td>11.000000</td>\n",
       "    </tr>\n",
       "    <tr>\n",
       "      <th>max</th>\n",
       "      <td>581587.000000</td>\n",
       "      <td>80995.000000</td>\n",
       "      <td>8142.750000</td>\n",
       "      <td>18287.000000</td>\n",
       "      <td>168469.600000</td>\n",
       "      <td>20.000000</td>\n",
       "      <td>6.000000</td>\n",
       "      <td>12.000000</td>\n",
       "    </tr>\n",
       "  </tbody>\n",
       "</table>\n",
       "</div>"
      ],
      "text/plain": [
       "           InvoiceNo       Quantity      UnitPrice     CustomerID  \\\n",
       "count  392692.000000  392692.000000  392692.000000  392692.000000   \n",
       "mean   560590.875047      13.119702       3.125914   15287.843865   \n",
       "std     13087.063759     180.492832      22.241836    1713.539549   \n",
       "min    536365.000000       1.000000       0.001000   12346.000000   \n",
       "25%    549234.000000       2.000000       1.250000   13955.000000   \n",
       "50%    561874.000000       6.000000       1.950000   15150.000000   \n",
       "75%    572061.000000      12.000000       3.750000   16791.000000   \n",
       "max    581587.000000   80995.000000    8142.750000   18287.000000   \n",
       "\n",
       "          TotalPrice           Hour            Day          Month  \n",
       "count  392692.000000  392692.000000  392692.000000  392692.000000  \n",
       "mean       22.631500      12.721532       2.606911       7.601871  \n",
       "std       311.099224       2.276661       1.923929       3.415015  \n",
       "min         0.001000       6.000000       0.000000       1.000000  \n",
       "25%         4.950000      11.000000       1.000000       5.000000  \n",
       "50%        12.450000      13.000000       2.000000       8.000000  \n",
       "75%        19.800000      14.000000       4.000000      11.000000  \n",
       "max    168469.600000      20.000000       6.000000      12.000000  "
      ]
     },
     "execution_count": 4,
     "metadata": {},
     "output_type": "execute_result"
    }
   ],
   "source": [
    "#quantitative data\n",
    "cleaned_data.describe()"
   ]
  },
  {
   "cell_type": "markdown",
   "id": "3b8f0608",
   "metadata": {},
   "source": [
    "---"
   ]
  },
  {
   "cell_type": "markdown",
   "id": "cf60fdc7",
   "metadata": {},
   "source": [
    "## Customer Analysis"
   ]
  },
  {
   "cell_type": "markdown",
   "id": "f38a8d51",
   "metadata": {},
   "source": [
    "This section is devoted to unraveling the intricacies of customer behavior and preferences. Delving into key metrics such as customer retention, transaction frequenct, and top customers, the analysis aspires to construct a comprehensive portrayal of the customer base. Through insightful analytics, the objective is to identify loyal patrons, discern trends in purchasing behavior, and, ultimately, inform strategies to better meet the needs and expectations of diverse customer segments. Readers are invited to observe the exploration of data that unveils compelling stories about valued customers, setting the stage for targeted marketing initiatives and elevated customer satisfaction."
   ]
  },
  {
   "cell_type": "code",
   "execution_count": 5,
   "id": "c00a985b",
   "metadata": {},
   "outputs": [
    {
     "name": "stdout",
     "output_type": "stream",
     "text": [
      "Number of customers: 4338\n"
     ]
    }
   ],
   "source": [
    "#Unique Customers\n",
    "print(\"Number of customers:\",cleaned_data['CustomerID'].nunique())"
   ]
  },
  {
   "cell_type": "markdown",
   "id": "70ac5b69",
   "metadata": {},
   "source": [
    "The analysis begins by calculating the number of unique customers, revealing a total of 4338 individuals to be the focus of our examination. This sizable customer base sets the foundation for a comprehensive exploration of purchasing behavior, preferences."
   ]
  },
  {
   "cell_type": "markdown",
   "id": "b9327b4b",
   "metadata": {},
   "source": [
    "### Customer Retention Rate"
   ]
  },
  {
   "cell_type": "code",
   "execution_count": 10,
   "id": "5374e317",
   "metadata": {},
   "outputs": [
    {
     "name": "stdout",
     "output_type": "stream",
     "text": [
      "Retention Rate: 65.58%\n"
     ]
    }
   ],
   "source": [
    "# Calculate the total number of customers\n",
    "total_customers = cleaned_data['CustomerID'].nunique()\n",
    "\n",
    "# Calculate the number of repeat customers\n",
    "repeat_customers = cleaned_data[cleaned_data['IsRepeatCustomer']]['CustomerID'].nunique()\n",
    "\n",
    "# Calculate the retention rate\n",
    "retention_rate = (repeat_customers / total_customers) * 100\n",
    "\n",
    "print(f'Retention Rate: {retention_rate:.2f}%')"
   ]
  },
  {
   "cell_type": "markdown",
   "id": "1e7c422a",
   "metadata": {},
   "source": [
    "The analysis of the modified dataset revealed valuable insights into customer retention for our online retail business. With a total customer base of 4338, it was found that 65.58%, have made repeat purchases. This signifies a positive trend in customer loyalty, providing a key indicator of our business's effectiveness in retaining customers over time. A higher retention rate implies a strong level of customer loyalty, which could be attributed to successful marketing campaigns, excellent customer service, or enticing loyalty programs. This analysis provides a foundation for strategic decision-making, allowing us to tailor marketing efforts, enhance customer experience, and ultimately drive long-term business success. Regular monitoring of these metrics will enable us to adapt and refine our business strategies in response to evolving customer behaviors and market dynamics."
   ]
  },
  {
   "cell_type": "markdown",
   "id": "c3eb3c05",
   "metadata": {},
   "source": [
    "### Transaction Frequency"
   ]
  },
  {
   "cell_type": "code",
   "execution_count": 6,
   "id": "ba964b09",
   "metadata": {},
   "outputs": [
    {
     "data": {
      "image/png": "[encoded data removed]",
      "text/plain": [
       "<Figure size 576x576 with 1 Axes>"
      ]
     },
     "metadata": {},
     "output_type": "display_data"
    }
   ],
   "source": [
    "#Transaction Frequency\n",
    "transaction_frequency = cleaned_data.groupby('CustomerID')['InvoiceNo'].nunique()\n",
    "\n",
    "# Define segments based on transaction frequency\n",
    "bins = [0, 1, 5, 10, np.inf]\n",
    "labels = ['1', '2-5', '6-10', '11+']\n",
    "cleaned_data['TransactionFrequency'] = pd.cut(transaction_frequency, bins=bins, labels=labels)\n",
    "\n",
    "# Now, analyze each segment\n",
    "segment_counts = cleaned_data['TransactionFrequency'].value_counts()\n",
    "\n",
    "# Plotting a pie chart\n",
    "plt.figure(figsize=(8, 8))\n",
    "plt.pie(segment_counts, labels=labels, autopct='%1.1f%%', startangle=90, colors=['lightcoral', 'peachpuff', 'lightskyblue', 'lightgreen'])\n",
    "plt.title('Customer Segmentation by Transaction Frequency')\n",
    "plt.show()"
   ]
  },
  {
   "cell_type": "markdown",
   "id": "b02189e2",
   "metadata": {},
   "source": [
    "The analysis initiates with an exploration of transaction frequency, wherein customers are categorized into groups based on the number of transactions. Notably, 45.5% of customers make a single purchase, 34.4% engage in 2-5 transactions, 12.3% exhibit 6-10 transactions, and 7.8% are characterized by 11 or more transactions. This segmentation provides valuable insights into the distribution of customer engagement levels, laying the groundwork for a more detailed investigation into the behaviors and preferences of distinct customer segments.\n",
    "\n",
    "1. **Majority of One-Time Buyers:** The significant percentage (45.5%) of customers making a single purchase suggests a substantial portion of the customer base engages in isolated transactions. Understanding the characteristics and preferences of this group may uncover opportunities for targeted promotions or incentives to encourage repeat business.\n",
    "\n",
    "2. **Potential for Loyalty Programs:** The 12.3% of customers exhibiting 6-10 transactions indicate a group with higher-than-average engagement. Exploring this segment further can reveal patterns of loyalty and potential interest in loyalty programs, encouraging sustained customer relationships.\n",
    "\n",
    "3. **Diverse Engagement Levels Across Segments:** The segmented analysis highlights a spectrum of customer engagement levels, ranging from one-time buyers to those making 11 or more transactions. This diversity suggests that implementing a one-size-fits-all approach to marketing and customer engagement may not be optimal. Instead, tailoring strategies based on the distinct needs and preferences within each segment can lead to more effective and personalized interactions. \n",
    "\n",
    "Overall, this segmentation provides a foundation for deeper investigations into the behaviors and preferences of distinct customer segments. It can guide targeted marketing strategies, customer retention initiatives, and the development of personalized approaches to enhance the overall customer experience.\n"
   ]
  },
  {
   "cell_type": "markdown",
   "id": "93e83aec",
   "metadata": {},
   "source": [
    "### Top Customers"
   ]
  },
  {
   "cell_type": "code",
   "execution_count": null,
   "id": "056a9399",
   "metadata": {},
   "outputs": [],
   "source": [
    "# Total spending per customer\n",
    "total_spending = cleaned_data.groupby('CustomerID')['TotalPrice'].sum()\n",
    "\n",
    "# Sorting to get top customers\n",
    "top_customers = total_spending.sort_values(ascending=False).head(10)\n",
    "\n",
    "# Total spending per customer\n",
    "total_spending = cleaned_data.groupby('CustomerID')['TotalPrice'].sum()\n",
    "\n",
    "# Sorting to get top customers\n",
    "top_customers = total_spending.sort_values(ascending=False).head(10)\n",
    "top_customers"
   ]
  },
  {
   "cell_type": "markdown",
   "id": "c6f73069",
   "metadata": {},
   "source": [
    "Identifying the top customers within our dataset provides profound insights into the dynamics of customer spending. The process involves calculating the total spending per customer and sorting the data to unveil the customers who contribute significantly to our revenue. In this context, the code snippet computes the total spending for each customer and identifies the top 10 customers based on their spending amounts. Delving into the spending patterns of these top customers reveals valuable information about their preferences, favored product categories, and overall purchasing behavior. These insights not only aid in recognizing and appreciating our most valuable clientele but also lay the groundwork for personalized marketing approaches, loyalty programs, and tailored services. \n",
    "\n",
    "By understanding the most purchased products by these high-value customers, the company can refine its offerings to better meet the specific needs and preferences of its most valued clientele, fostering stronger and more profitable customer relationships."
   ]
  },
  {
   "cell_type": "code",
   "execution_count": null,
   "id": "1eb683ae",
   "metadata": {},
   "outputs": [],
   "source": [
    "# Create a DataFrame to store the most purchased product and its cost for each top customer\n",
    "most_purchased_product_info = top_customers_data.groupby('CustomerID').apply(lambda x: x.loc[x['Description'] == x['Description'].mode().iloc[0], ['Description', 'TotalPrice']])\n",
    "most_purchased_product_info.reset_index(drop=True, inplace=True)\n",
    "\n",
    "# Display the top ten most purchased products and their costs for each top customer\n",
    "top_ten_most_purchased = most_purchased_product_info.groupby('Description')['TotalPrice'].mean().sort_values(ascending=False).head(10)\n",
    "print(\"\\nTop Ten Most Purchased Products and Their Costs by Each Top Customer:\")\n",
    "print(top_ten_most_purchased)\n",
    "\n"
   ]
  },
  {
   "cell_type": "markdown",
   "id": "e1e69aa6",
   "metadata": {},
   "source": [
    "It appears that these customers are categorized as \"top customers\" primarily because of their substantial purchases of high-value items."
   ]
  },
  {
   "cell_type": "markdown",
   "id": "7810b716",
   "metadata": {},
   "source": [
    "## Product Analysis"
   ]
  },
  {
   "cell_type": "code",
   "execution_count": null,
   "id": "ecfd005f",
   "metadata": {},
   "outputs": [],
   "source": [
    "#Unique Products\n",
    "print(\"Number of products:\",cleaned_data['StockCode'].nunique())"
   ]
  },
  {
   "cell_type": "markdown",
   "id": "76aa7afc",
   "metadata": {},
   "source": [
    "### Top Products"
   ]
  },
  {
   "cell_type": "markdown",
   "id": "cdeae1bc",
   "metadata": {},
   "source": [
    "#### Top Products By Quantity Sold"
   ]
  },
  {
   "cell_type": "code",
   "execution_count": null,
   "id": "bbb3fb93",
   "metadata": {},
   "outputs": [],
   "source": [
    "# Calculate total quantity sold for the entire dataset\n",
    "total_quantity = cleaned_data['Quantity'].sum()\n",
    "\n",
    "# Print the total quantity\n",
    "print(f\"Overall Total Quantity Sold: {total_quantity}\")\n",
    "\n",
    "\n",
    "# Top 10 products by quantity sold\n",
    "top_products_quantity = cleaned_data.groupby('Description')['Quantity'].sum().sort_values(ascending=False).head(10)\n",
    "\n",
    "# Bar chart for top products by quantity\n",
    "plt.figure(figsize=(12, 6))\n",
    "top_products_quantity.plot(kind='bar', color='lightcoral')\n",
    "plt.title('Top 10 Products by Quantity Sold')\n",
    "plt.xlabel('Product Description')\n",
    "plt.ylabel('Quantity Sold')\n",
    "plt.show()"
   ]
  },
  {
   "cell_type": "markdown",
   "id": "4a589031",
   "metadata": {},
   "source": [
    "### Top Product By Revenue Generated"
   ]
  },
  {
   "cell_type": "code",
   "execution_count": null,
   "id": "8bf19b52",
   "metadata": {},
   "outputs": [],
   "source": [
    "# Calculate total revenue for the entire dataset\n",
    "total_revenue = cleaned_data['TotalPrice'].sum()\n",
    "\n",
    "# Print the total revenue\n",
    "print(f\"Overall Total Revenue: {total_revenue:.2f}\")\n",
    "\n",
    "# Top 10 products by total revenue\n",
    "top_products_revenue = cleaned_data.groupby('Description')['TotalPrice'].sum().sort_values(ascending=False).head(10)\n",
    "\n",
    "# Bar chart for top products by revenue\n",
    "plt.figure(figsize=(12, 6))\n",
    "top_products_revenue.plot(kind='bar', color='skyblue')\n",
    "plt.title('Top 10 Products by Total Revenue')\n",
    "plt.xlabel('Product Description')\n",
    "plt.ylabel('Total Revenue')\n",
    "plt.show()"
   ]
  },
  {
   "cell_type": "markdown",
   "id": "4cbf3a24",
   "metadata": {},
   "source": [
    "## Time Analysis"
   ]
  },
  {
   "cell_type": "code",
   "execution_count": null,
   "id": "e86c66a8",
   "metadata": {},
   "outputs": [],
   "source": [
    "# Monthly sales trends\n",
    "monthly_sales = cleaned_data.groupby('Month')['Quantity'].sum()\n",
    "\n",
    "# Set month names as index\n",
    "monthly_sales.index = ['January', 'February', 'March', 'April', 'May', 'June', 'July', 'August', 'September', 'October', 'November', 'December']\n",
    "\n",
    "# Plotting the bar graph\n",
    "plt.figure(figsize=(10, 6))\n",
    "monthly_sales.plot(kind='bar', color='lightcoral')\n",
    "plt.title('Monthly Sales Trends')\n",
    "plt.xlabel('Month')\n",
    "plt.ylabel('Total Quantity Sold')\n",
    "plt.show()"
   ]
  },
  {
   "cell_type": "code",
   "execution_count": null,
   "id": "044f5a73",
   "metadata": {},
   "outputs": [],
   "source": [
    "# Daily sales trends\n",
    "daily_sales = cleaned_data.groupby('Day')['Quantity'].sum()\n",
    "\n",
    "# Bar chart for daily sales trends\n",
    "plt.figure(figsize=(10, 6))\n",
    "daily_sales.plot(kind='bar', color='lightskyblue')\n",
    "plt.title('Daily Sales Trends')\n",
    "plt.xlabel('Day of the Week')\n",
    "plt.ylabel('Quantity Sold')\n",
    "\n",
    "# Set xticks with specified labels\n",
    "plt.xticks(range(7), ['Mon', 'Tue', 'Wed', 'Thu', 'Fri', 'Sat', 'Sun'], rotation=0)\n",
    "\n",
    "plt.show()\n"
   ]
  },
  {
   "cell_type": "code",
   "execution_count": null,
   "id": "c8f4289f",
   "metadata": {},
   "outputs": [],
   "source": [
    "# Hourly sales trends\n",
    "hourly_sales = cleaned_data.groupby('Hour')['Quantity'].sum()\n",
    "\n",
    "# Line chart for hourly sales trends\n",
    "plt.figure(figsize=(10, 6))\n",
    "hourly_sales.plot(kind='bar', color='lightgreen')\n",
    "plt.title('Hourly Sales Trends')\n",
    "plt.xlabel('Hour of the Day')\n",
    "plt.ylabel('Quantity Sold')\n",
    "plt.show()\n"
   ]
  },
  {
   "cell_type": "markdown",
   "id": "49e12342",
   "metadata": {},
   "source": [
    "## Country Analysis"
   ]
  },
  {
   "cell_type": "code",
   "execution_count": null,
   "id": "846d8a95",
   "metadata": {},
   "outputs": [],
   "source": [
    "# Group by 'Country' and calculate total sales\n",
    "country_sales = cleaned_data.groupby('Country')['TotalPrice'].sum()\n",
    "\n",
    "# Sort the total sales\n",
    "sorted_country_sales = country_sales.sort_values(ascending=False)\n",
    "\n",
    "# Display the top 5 countries by total sales\n",
    "top_5_country_sales = sorted_country_sales.head(5)\n",
    "print(top_5_country_sales)"
   ]
  },
  {
   "cell_type": "code",
   "execution_count": null,
   "id": "0890fa53",
   "metadata": {},
   "outputs": [],
   "source": [
    "# Exclude entries for the United Kingdom\n",
    "countries_excluding_uk = cleaned_data[cleaned_data['Country'] != 'United Kingdom']\n",
    "\n",
    "# Group by 'Country' and calculate total sales\n",
    "country_sales_excluding_uk = countries_excluding_uk.groupby('Country')['TotalPrice'].sum()\n",
    "\n",
    "# Bar chart for country-wise sales excluding the United Kingdom\n",
    "plt.figure(figsize=(12, 6))\n",
    "country_sales_excluding_uk.sort_values(ascending=False).plot(kind='bar', color='lightcoral')\n",
    "plt.title('Country-wise Sales (Excluding United Kingdom)')\n",
    "plt.xlabel('Country')\n",
    "plt.ylabel('Total Sales')\n",
    "plt.show()\n"
   ]
  },
  {
   "cell_type": "code",
   "execution_count": null,
   "id": "cd53ef98",
   "metadata": {},
   "outputs": [],
   "source": [
    "# Group by 'Country' and calculate the number of unique customers\n",
    "customer_count_per_country = cleaned_data.groupby('Country')['CustomerID'].nunique()\n",
    "\n",
    "# Sort the customer counts\n",
    "sorted_customer_count = customer_count_per_country.sort_values(ascending=False)\n",
    "\n",
    "# Display the top 5 countries by the number of unique customers\n",
    "top_5_customer_count = sorted_customer_count.head(5)\n",
    "print(top_5_customer_count)\n"
   ]
  },
  {
   "cell_type": "code",
   "execution_count": null,
   "id": "9dbd01f4",
   "metadata": {},
   "outputs": [],
   "source": [
    "# Group by 'Country' and calculate total sales\n",
    "country_CID_excluding_uk = countries_excluding_uk.groupby('Country')['CustomerID'].sum()\n",
    "\n",
    "# Bar chart for country-wise sales excluding the United Kingdom\n",
    "plt.figure(figsize=(12, 6))\n",
    "country_CID_excluding_uk.sort_values(ascending=False).plot(kind='bar', color='lightskyblue')\n",
    "plt.title('Country-wise Sales (Excluding United Kingdom)')\n",
    "plt.xlabel('Country')\n",
    "plt.ylabel('Total Sales')\n",
    "plt.show()"
   ]
  },
  {
   "cell_type": "code",
   "execution_count": null,
   "id": "9aa5be49",
   "metadata": {},
   "outputs": [],
   "source": [
    "# Group by 'Country' and calculate the average transaction value\n",
    "avg_transaction_value = cleaned_data.groupby('Country')['TotalPrice'].mean()\n",
    "\n",
    "# Sort the average transaction values\n",
    "sorted_avg_transaction_value = avg_transaction_value.sort_values(ascending=False)\n",
    "\n",
    "# Display the top 5 countries by the average transaction value\n",
    "top_5_avg_transaction_value = sorted_avg_transaction_value.head(5)\n",
    "print(top_5_avg_transaction_value)\n"
   ]
  },
  {
   "cell_type": "code",
   "execution_count": null,
   "id": "1d8813f6",
   "metadata": {},
   "outputs": [],
   "source": [
    "# Calculate average transaction value per country\n",
    "avg_transaction_value = cleaned_data.groupby('Country')['TotalPrice'].mean()\n",
    "\n",
    "# Bar chart for average transaction value per country\n",
    "plt.figure(figsize=(12, 6))\n",
    "avg_transaction_value.sort_values(ascending=False).plot(kind='bar', color='lightgreen')\n",
    "plt.title('Average Transaction Value per Country')\n",
    "plt.xlabel('Country')\n",
    "plt.ylabel('Average Transaction Value')\n",
    "plt.show()"
   ]
  },
  {
   "cell_type": "code",
   "execution_count": null,
   "id": "ce7fecd8",
   "metadata": {},
   "outputs": [],
   "source": [
    "# Count transaction frequency per country\n",
    "transaction_frequency = cleaned_data.groupby('Country')['InvoiceNo'].nunique()\n",
    "\n",
    "# Sort the transaction frequencies\n",
    "sorted_transaction_frequency = transaction_frequency.sort_values(ascending=False)\n",
    "\n",
    "# Display the top 5 transaction frequencies\n",
    "top_5_transaction_frequency = sorted_transaction_frequency.head(5)\n",
    "print(top_5_transaction_frequency)"
   ]
  },
  {
   "cell_type": "code",
   "execution_count": null,
   "id": "b0052128",
   "metadata": {},
   "outputs": [],
   "source": [
    "# Group by 'Country' and calculate total sales\n",
    "country_sales_excluding_uk = countries_excluding_uk.groupby('Country')['TotalPrice'].sum()\n",
    "\n",
    "# Bar chart for country-wise sales excluding the United Kingdom\n",
    "plt.figure(figsize=(12, 6))\n",
    "country_sales_excluding_uk.sort_values(ascending=False).plot(kind='bar', color='peachpuff')\n",
    "plt.title('Country-wise Sales (Excluding United Kingdom)')\n",
    "plt.xlabel('Country')\n",
    "plt.ylabel('Total Sales')\n",
    "plt.show()\n"
   ]
  }
 ],
 "metadata": {
  "kernelspec": {
   "display_name": "Python 3 (ipykernel)",
   "language": "python",
   "name": "python3"
  },
  "language_info": {
   "codemirror_mode": {
    "name": "ipython",
    "version": 3
   },
   "file_extension": ".py",
   "mimetype": "text/x-python",
   "name": "python",
   "nbconvert_exporter": "python",
   "pygments_lexer": "ipython3",
   "version": "3.9.12"
  }
 },
 "nbformat": 4,
 "nbformat_minor": 5
}
