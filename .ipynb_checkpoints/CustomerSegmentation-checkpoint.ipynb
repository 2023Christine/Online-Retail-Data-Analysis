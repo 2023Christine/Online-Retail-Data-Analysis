{
 "cells": [
  {
   "cell_type": "code",
   "execution_count": null,
   "id": "c4da3131",
   "metadata": {},
   "outputs": [],
   "source": [
    "import numpy as np\n",
    "import pandas as pd\n",
    "import matplotlib.pyplot as plt \n",
    "import seaborn as sns\n",
    "from sklearn.cluster import KMeans\n",
    "from sklearn.preprocessing import StandardScaler"
   ]
  },
  {
   "cell_type": "markdown",
   "id": "370d62fe",
   "metadata": {},
   "source": [
    "## Exploratory Data Analysis"
   ]
  },
  {
   "cell_type": "code",
   "execution_count": 2,
   "id": "19fdbebc",
   "metadata": {},
   "outputs": [
    {
     "name": "stdout",
     "output_type": "stream",
     "text": [
      "  InvoiceNo StockCode                          Description  Quantity  \\\n",
      "0    536365    85123A   WHITE HANGING HEART T-LIGHT HOLDER         6   \n",
      "1    536365     71053                  WHITE METAL LANTERN         6   \n",
      "2    536365    84406B       CREAM CUPID HEARTS COAT HANGER         8   \n",
      "3    536365    84029G  KNITTED UNION FLAG HOT WATER BOTTLE         6   \n",
      "4    536365    84029E       RED WOOLLY HOTTIE WHITE HEART.         6   \n",
      "\n",
      "      InvoiceDate  UnitPrice  CustomerID         Country  \n",
      "0  12/1/2010 8:26       2.55     17850.0  United Kingdom  \n",
      "1  12/1/2010 8:26       3.39     17850.0  United Kingdom  \n",
      "2  12/1/2010 8:26       2.75     17850.0  United Kingdom  \n",
      "3  12/1/2010 8:26       3.39     17850.0  United Kingdom  \n",
      "4  12/1/2010 8:26       3.39     17850.0  United Kingdom  \n"
     ]
    }
   ],
   "source": [
    "df = pd.read_csv('OnlineRetail.csv',encoding='latin1')\n",
    "df=df.dropna()\n",
    "print(df.head())"
   ]
  },
  {
   "cell_type": "code",
   "execution_count": 3,
   "id": "127fcd45",
   "metadata": {},
   "outputs": [],
   "source": [
    "# Convert 'float_column' to int64\n",
    "df['CustomerID'] = df['CustomerID'].astype('int64')\n",
    "df['Quantity'] = df['Quantity'].astype('int64')\n",
    "df['UnitPrice'] = df['UnitPrice'].astype('int64')"
   ]
  },
  {
   "cell_type": "code",
   "execution_count": 4,
   "id": "a69ee72c",
   "metadata": {},
   "outputs": [
    {
     "name": "stdout",
     "output_type": "stream",
     "text": [
      "<class 'pandas.core.frame.DataFrame'>\n",
      "Int64Index: 406829 entries, 0 to 541908\n",
      "Data columns (total 8 columns):\n",
      " #   Column       Non-Null Count   Dtype \n",
      "---  ------       --------------   ----- \n",
      " 0   InvoiceNo    406829 non-null  object\n",
      " 1   StockCode    406829 non-null  object\n",
      " 2   Description  406829 non-null  object\n",
      " 3   Quantity     406829 non-null  int64 \n",
      " 4   InvoiceDate  406829 non-null  object\n",
      " 5   UnitPrice    406829 non-null  int64 \n",
      " 6   CustomerID   406829 non-null  int64 \n",
      " 7   Country      406829 non-null  object\n",
      "dtypes: int64(3), object(5)\n",
      "memory usage: 27.9+ MB\n",
      "None\n",
      "            Quantity      UnitPrice     CustomerID\n",
      "count  406829.000000  406829.000000  406829.000000\n",
      "mean       12.061303       2.885689   15287.690570\n",
      "std       248.693370      69.314654    1713.600303\n",
      "min    -80995.000000       0.000000   12346.000000\n",
      "25%         2.000000       1.000000   13953.000000\n",
      "50%         5.000000       1.000000   15152.000000\n",
      "75%        12.000000       3.000000   16791.000000\n",
      "max     80995.000000   38970.000000   18287.000000\n"
     ]
    }
   ],
   "source": [
    "# Get general information about the dataset\n",
    "print(df.info())\n",
    "\n",
    "# Get summary statistics for numerical columns\n",
    "print(df.describe())"
   ]
  },
  {
   "cell_type": "code",
   "execution_count": 29,
   "id": "61538fff",
   "metadata": {},
   "outputs": [
    {
     "data": {
      "text/html": [
       "<div>\n",
       "<style scoped>\n",
       "    .dataframe tbody tr th:only-of-type {\n",
       "        vertical-align: middle;\n",
       "    }\n",
       "\n",
       "    .dataframe tbody tr th {\n",
       "        vertical-align: top;\n",
       "    }\n",
       "\n",
       "    .dataframe thead th {\n",
       "        text-align: right;\n",
       "    }\n",
       "</style>\n",
       "<table border=\"1\" class=\"dataframe\">\n",
       "  <thead>\n",
       "    <tr style=\"text-align: right;\">\n",
       "      <th></th>\n",
       "      <th>InvoiceNo</th>\n",
       "      <th>StockCode</th>\n",
       "      <th>Description</th>\n",
       "      <th>Quantity</th>\n",
       "      <th>InvoiceDate</th>\n",
       "      <th>UnitPrice</th>\n",
       "      <th>CustomerID</th>\n",
       "      <th>Country</th>\n",
       "      <th>Cluster</th>\n",
       "    </tr>\n",
       "  </thead>\n",
       "  <tbody>\n",
       "    <tr>\n",
       "      <th>141</th>\n",
       "      <td>C536379</td>\n",
       "      <td>D</td>\n",
       "      <td>Discount</td>\n",
       "      <td>-1</td>\n",
       "      <td>2010-12-01 09:41:00</td>\n",
       "      <td>27</td>\n",
       "      <td>14527</td>\n",
       "      <td>United Kingdom</td>\n",
       "      <td>2</td>\n",
       "    </tr>\n",
       "    <tr>\n",
       "      <th>154</th>\n",
       "      <td>C536383</td>\n",
       "      <td>35004C</td>\n",
       "      <td>SET OF 3 COLOURED  FLYING DUCKS</td>\n",
       "      <td>-1</td>\n",
       "      <td>2010-12-01 09:49:00</td>\n",
       "      <td>4</td>\n",
       "      <td>15311</td>\n",
       "      <td>United Kingdom</td>\n",
       "      <td>0</td>\n",
       "    </tr>\n",
       "    <tr>\n",
       "      <th>235</th>\n",
       "      <td>C536391</td>\n",
       "      <td>22556</td>\n",
       "      <td>PLASTERS IN TIN CIRCUS PARADE</td>\n",
       "      <td>-12</td>\n",
       "      <td>2010-12-01 10:24:00</td>\n",
       "      <td>1</td>\n",
       "      <td>17548</td>\n",
       "      <td>United Kingdom</td>\n",
       "      <td>0</td>\n",
       "    </tr>\n",
       "    <tr>\n",
       "      <th>236</th>\n",
       "      <td>C536391</td>\n",
       "      <td>21984</td>\n",
       "      <td>PACK OF 12 PINK PAISLEY TISSUES</td>\n",
       "      <td>-24</td>\n",
       "      <td>2010-12-01 10:24:00</td>\n",
       "      <td>0</td>\n",
       "      <td>17548</td>\n",
       "      <td>United Kingdom</td>\n",
       "      <td>0</td>\n",
       "    </tr>\n",
       "    <tr>\n",
       "      <th>237</th>\n",
       "      <td>C536391</td>\n",
       "      <td>21983</td>\n",
       "      <td>PACK OF 12 BLUE PAISLEY TISSUES</td>\n",
       "      <td>-24</td>\n",
       "      <td>2010-12-01 10:24:00</td>\n",
       "      <td>0</td>\n",
       "      <td>17548</td>\n",
       "      <td>United Kingdom</td>\n",
       "      <td>0</td>\n",
       "    </tr>\n",
       "  </tbody>\n",
       "</table>\n",
       "</div>"
      ],
      "text/plain": [
       "    InvoiceNo StockCode                       Description  Quantity  \\\n",
       "141   C536379         D                          Discount        -1   \n",
       "154   C536383    35004C   SET OF 3 COLOURED  FLYING DUCKS        -1   \n",
       "235   C536391     22556    PLASTERS IN TIN CIRCUS PARADE        -12   \n",
       "236   C536391     21984  PACK OF 12 PINK PAISLEY TISSUES        -24   \n",
       "237   C536391     21983  PACK OF 12 BLUE PAISLEY TISSUES        -24   \n",
       "\n",
       "            InvoiceDate  UnitPrice  CustomerID         Country  Cluster  \n",
       "141 2010-12-01 09:41:00         27       14527  United Kingdom        2  \n",
       "154 2010-12-01 09:49:00          4       15311  United Kingdom        0  \n",
       "235 2010-12-01 10:24:00          1       17548  United Kingdom        0  \n",
       "236 2010-12-01 10:24:00          0       17548  United Kingdom        0  \n",
       "237 2010-12-01 10:24:00          0       17548  United Kingdom        0  "
      ]
     },
     "execution_count": 29,
     "metadata": {},
     "output_type": "execute_result"
    }
   ],
   "source": [
    "C = df[df['InvoiceNo'].astype(str).str.contains('C')]\n",
    "C.head()"
   ]
  },
  {
   "cell_type": "code",
   "execution_count": 32,
   "id": "70ce142c",
   "metadata": {},
   "outputs": [],
   "source": [
    "\n",
    "data = df[(df['UnitPrice'] > 0) & (df['Quantity']>0)]"
   ]
  },
  {
   "cell_type": "code",
   "execution_count": 5,
   "id": "07a28a69",
   "metadata": {},
   "outputs": [],
   "source": [
    "from scipy import stats\n",
    "\n",
    "# Calculate the Z-scores for each column in the DataFrame\n",
    "z_scores = np.abs(stats.zscore(df[['Quantity', 'UnitPrice']]))\n",
    "\n",
    "# Set a threshold (e.g., 3) for outlier detection\n",
    "threshold = 3\n",
    "\n",
    "# Filter out rows with any Z-score beyond the threshold\n",
    "df = df[(z_scores < threshold).all(axis=1)]\n"
   ]
  },
  {
   "cell_type": "code",
   "execution_count": 6,
   "id": "f70096df",
   "metadata": {},
   "outputs": [
    {
     "name": "stdout",
     "output_type": "stream",
     "text": [
      "CustomerID\n",
      "12347    380\n",
      "12348    167\n",
      "12349    261\n",
      "12350     58\n",
      "12352    842\n",
      "Name: UnitPrice, dtype: int64\n"
     ]
    }
   ],
   "source": [
    "#Customer Spending Analysis\n",
    "\n",
    "#total spending per customer\n",
    "customer_spending = df.groupby('CustomerID')['UnitPrice'].sum()\n",
    "\n",
    "print(customer_spending.head())"
   ]
  },
  {
   "cell_type": "code",
   "execution_count": 7,
   "id": "1962e812",
   "metadata": {},
   "outputs": [
    {
     "name": "stdout",
     "output_type": "stream",
     "text": [
      "            Recency  Frequency  Monetary\n",
      "CustomerID                              \n",
      "12347             1        182       380\n",
      "12348            74         31       167\n",
      "12349            18         72       261\n",
      "12350           309         17        58\n",
      "12352            35         91       842\n"
     ]
    }
   ],
   "source": [
    "# Convert InvoiceDate to datetime\n",
    "df['InvoiceDate'] = pd.to_datetime(df['InvoiceDate'])\n",
    "\n",
    "# Calculate RFM metrics\n",
    "today_date = df['InvoiceDate'].max()\n",
    "\n",
    "rfm = df.groupby('CustomerID').agg({\n",
    "    'InvoiceDate': lambda x: (today_date - x.max()).days,\n",
    "    'InvoiceNo': 'count',\n",
    "    'UnitPrice': 'sum'\n",
    "}).rename(columns={\n",
    "    'InvoiceDate': 'Recency',\n",
    "    'InvoiceNo': 'Frequency',\n",
    "    'UnitPrice': 'Monetary'\n",
    "})\n",
    "\n",
    "# Display the RFM metrics\n",
    "print(rfm.head())"
   ]
  },
  {
   "cell_type": "code",
   "execution_count": 8,
   "id": "929de27c",
   "metadata": {},
   "outputs": [
    {
     "name": "stdout",
     "output_type": "stream",
     "text": [
      "Country\n",
      "Australia                  9\n",
      "Austria                   11\n",
      "Bahrain                    2\n",
      "Belgium                   25\n",
      "Brazil                     1\n",
      "Canada                     4\n",
      "Channel Islands            9\n",
      "Cyprus                     8\n",
      "Czech Republic             1\n",
      "Denmark                    9\n",
      "EIRE                       3\n",
      "European Community         1\n",
      "Finland                   12\n",
      "France                    87\n",
      "Germany                   95\n",
      "Greece                     4\n",
      "Iceland                    1\n",
      "Israel                     4\n",
      "Italy                     15\n",
      "Japan                      8\n",
      "Lebanon                    1\n",
      "Lithuania                  1\n",
      "Malta                      2\n",
      "Netherlands                9\n",
      "Norway                    10\n",
      "Poland                     6\n",
      "Portugal                  19\n",
      "RSA                        1\n",
      "Saudi Arabia               1\n",
      "Singapore                  1\n",
      "Spain                     30\n",
      "Sweden                     8\n",
      "Switzerland               21\n",
      "USA                        4\n",
      "United Arab Emirates       2\n",
      "United Kingdom          3936\n",
      "Unspecified                4\n",
      "Name: CustomerID, dtype: int64\n"
     ]
    }
   ],
   "source": [
    "# Analyze customer behavior based on the country attribute\n",
    "country_segments = df.groupby('Country')['CustomerID'].nunique()\n",
    "\n",
    "# Display the number of unique customers per country\n",
    "print(country_segments)\n"
   ]
  },
  {
   "cell_type": "code",
   "execution_count": 9,
   "id": "37d32a05",
   "metadata": {},
   "outputs": [
    {
     "name": "stdout",
     "output_type": "stream",
     "text": [
      "Description\n",
      "REGENCY CAKESTAND 3 TIER              887\n",
      "WHITE HANGING HEART T-LIGHT HOLDER    857\n",
      "PARTY BUNTING                         708\n",
      "ASSORTED COLOUR BIRD ORNAMENT         678\n",
      "SET OF 3 CAKE TINS PANTRY DESIGN      640\n",
      "Name: CustomerID, dtype: int64\n"
     ]
    }
   ],
   "source": [
    "# Analyze the types of products purchased by different customers\n",
    "product_segments = df.groupby('Description')['CustomerID'].nunique().sort_values(ascending=False)\n",
    "\n",
    "# Display the number of unique customers per product\n",
    "print(product_segments.head())"
   ]
  },
  {
   "cell_type": "markdown",
   "id": "a9262271",
   "metadata": {},
   "source": [
    "## K Means"
   ]
  },
  {
   "cell_type": "code",
   "execution_count": 10,
   "id": "4f4022bf",
   "metadata": {},
   "outputs": [],
   "source": [
    "# Extract relevant features for clustering\n",
    "features = df[['Quantity', 'UnitPrice']]\n",
    "\n",
    "# Standardize the features\n",
    "scaler = StandardScaler()\n",
    "scaled_features = scaler.fit_transform(features)"
   ]
  },
  {
   "cell_type": "code",
   "execution_count": 11,
   "id": "4be78270",
   "metadata": {},
   "outputs": [
    {
     "data": {
      "image/png": "[encoded data removed]",
      "text/plain": [
       "<Figure size 432x288 with 1 Axes>"
      ]
     },
     "metadata": {
      "needs_background": "light"
     },
     "output_type": "display_data"
    }
   ],
   "source": [
    "# Choose the number of clusters to test (e.g., 2 to 10)\n",
    "k_values = range(2, 15)\n",
    "\n",
    "# Fit KMeans for each k and calculate inertia\n",
    "inertia_values = []\n",
    "for k in k_values:\n",
    "    kmeans = KMeans(n_clusters=k, random_state=42)\n",
    "    kmeans.fit(scaled_features)\n",
    "    inertia_values.append(kmeans.inertia_)\n",
    "\n",
    "# Plot the Elbow Method graph\n",
    "plt.plot(k_values, inertia_values, marker='o')\n",
    "plt.xlabel('Number of Clusters (K)')\n",
    "plt.ylabel('Inertia')\n",
    "plt.title('Elbow Method to Find Optimal K')\n",
    "plt.show()"
   ]
  },
  {
   "cell_type": "code",
   "execution_count": 20,
   "id": "3e15761c",
   "metadata": {},
   "outputs": [
    {
     "name": "stderr",
     "output_type": "stream",
     "text": [
      "C:\\Users\\asaic\\anaconda\\lib\\site-packages\\sklearn\\cluster\\_kmeans.py:1036: UserWarning: KMeans is known to have a memory leak on Windows with MKL, when there are less chunks than available threads. You can avoid it by setting the environment variable OMP_NUM_THREADS=2.\n",
      "  warnings.warn(\n",
      "C:\\Users\\asaic\\anaconda\\lib\\site-packages\\sklearn\\cluster\\_kmeans.py:1036: UserWarning: KMeans is known to have a memory leak on Windows with MKL, when there are less chunks than available threads. You can avoid it by setting the environment variable OMP_NUM_THREADS=2.\n",
      "  warnings.warn(\n",
      "C:\\Users\\asaic\\anaconda\\lib\\site-packages\\sklearn\\cluster\\_kmeans.py:1036: UserWarning: KMeans is known to have a memory leak on Windows with MKL, when there are less chunks than available threads. You can avoid it by setting the environment variable OMP_NUM_THREADS=2.\n",
      "  warnings.warn(\n",
      "C:\\Users\\asaic\\anaconda\\lib\\site-packages\\sklearn\\cluster\\_kmeans.py:1036: UserWarning: KMeans is known to have a memory leak on Windows with MKL, when there are less chunks than available threads. You can avoid it by setting the environment variable OMP_NUM_THREADS=2.\n",
      "  warnings.warn(\n",
      "C:\\Users\\asaic\\anaconda\\lib\\site-packages\\sklearn\\cluster\\_kmeans.py:1036: UserWarning: KMeans is known to have a memory leak on Windows with MKL, when there are less chunks than available threads. You can avoid it by setting the environment variable OMP_NUM_THREADS=2.\n",
      "  warnings.warn(\n",
      "C:\\Users\\asaic\\anaconda\\lib\\site-packages\\sklearn\\cluster\\_kmeans.py:1036: UserWarning: KMeans is known to have a memory leak on Windows with MKL, when there are less chunks than available threads. You can avoid it by setting the environment variable OMP_NUM_THREADS=2.\n",
      "  warnings.warn(\n",
      "C:\\Users\\asaic\\anaconda\\lib\\site-packages\\sklearn\\cluster\\_kmeans.py:1036: UserWarning: KMeans is known to have a memory leak on Windows with MKL, when there are less chunks than available threads. You can avoid it by setting the environment variable OMP_NUM_THREADS=2.\n",
      "  warnings.warn(\n",
      "C:\\Users\\asaic\\anaconda\\lib\\site-packages\\sklearn\\cluster\\_kmeans.py:1036: UserWarning: KMeans is known to have a memory leak on Windows with MKL, when there are less chunks than available threads. You can avoid it by setting the environment variable OMP_NUM_THREADS=2.\n",
      "  warnings.warn(\n",
      "C:\\Users\\asaic\\anaconda\\lib\\site-packages\\sklearn\\cluster\\_kmeans.py:1036: UserWarning: KMeans is known to have a memory leak on Windows with MKL, when there are less chunks than available threads. You can avoid it by setting the environment variable OMP_NUM_THREADS=2.\n",
      "  warnings.warn(\n",
      "C:\\Users\\asaic\\anaconda\\lib\\site-packages\\sklearn\\cluster\\_kmeans.py:1036: UserWarning: KMeans is known to have a memory leak on Windows with MKL, when there are less chunks than available threads. You can avoid it by setting the environment variable OMP_NUM_THREADS=2.\n",
      "  warnings.warn(\n",
      "C:\\Users\\asaic\\anaconda\\lib\\site-packages\\sklearn\\cluster\\_kmeans.py:1036: UserWarning: KMeans is known to have a memory leak on Windows with MKL, when there are less chunks than available threads. You can avoid it by setting the environment variable OMP_NUM_THREADS=2.\n",
      "  warnings.warn(\n"
     ]
    },
    {
     "data": {
      "image/png": "[encoded data removed]",
      "text/plain": [
       "<Figure size 432x288 with 1 Axes>"
      ]
     },
     "metadata": {
      "needs_background": "light"
     },
     "output_type": "display_data"
    }
   ],
   "source": [
    "##Silhouete score was to computationally expensive\n",
    "from sklearn.datasets import make_blobs\n",
    "from sklearn.metrics import pairwise_distances_argmin_min\n",
    "import matplotlib.pyplot as plt\n",
    "\n",
    "def generate_reference_datasets(data, n_reference=10):\n",
    "    n_samples, n_features = data.shape\n",
    "    reference_datasets = []\n",
    "\n",
    "    for _ in range(n_reference):\n",
    "        reference_data = np.random.rand(n_samples, n_features)\n",
    "        reference_datasets.append(reference_data)\n",
    "\n",
    "    return reference_datasets\n",
    "\n",
    "def calculate_wss(data, labels, centroids):\n",
    "    wss = 0\n",
    "    for i in range(len(centroids)):\n",
    "        cluster_points = data[labels == i]\n",
    "        wss += np.sum(np.linalg.norm(cluster_points - centroids[i], axis=1)**2)\n",
    "    return wss\n",
    "\n",
    "def calculate_gap_statistic(data, reference_datasets, cluster_range):\n",
    "    gap_stats = []\n",
    "\n",
    "    for k in cluster_range:\n",
    "        kmeans = KMeans(n_clusters=k)\n",
    "        kmeans.fit(data)\n",
    "\n",
    "        wss = calculate_wss(data, kmeans.labels_, kmeans.cluster_centers_)\n",
    "\n",
    "        reference_wss_avg = 0\n",
    "        for reference_data in reference_datasets:\n",
    "            reference_kmeans = KMeans(n_clusters=k)\n",
    "            reference_kmeans.fit(reference_data)\n",
    "            reference_wss_avg += calculate_wss(reference_data, reference_kmeans.labels_, reference_kmeans.cluster_centers_)\n",
    "        reference_wss_avg /= len(reference_datasets)\n",
    "\n",
    "        gap_stat = np.log(reference_wss_avg) - np.log(wss)\n",
    "        gap_stats.append(gap_stat)\n",
    "\n",
    "    return gap_stats\n",
    "\n",
    "# Generate synthetic data for demonstration purposes\n",
    "data, _ = make_blobs(n_samples=300, centers=4, random_state=42)\n",
    "\n",
    "# Set the range of cluster numbers to explore\n",
    "cluster_range = range(1, 10)\n",
    "\n",
    "# Generate reference datasets\n",
    "reference_datasets = generate_reference_datasets(data, n_reference=10)\n",
    "\n",
    "# Calculate gap statistics\n",
    "gap_stats = calculate_gap_statistic(data, reference_datasets, cluster_range)\n",
    "\n",
    "# Plot the results\n",
    "plt.plot(cluster_range, gap_stats, marker='o')\n",
    "plt.xlabel('Number of Clusters')\n",
    "plt.ylabel('Gap Statistic')\n",
    "plt.title('Gap Statistic for Optimal Clusters')\n",
    "plt.show()"
   ]
  },
  {
   "cell_type": "code",
   "execution_count": 27,
   "id": "1dc8a506",
   "metadata": {},
   "outputs": [],
   "source": [
    "# Choose the optimal K based on the Elbow Method\n",
    "optimal_k = 4\n",
    "\n",
    "# Fit KMeans with optimal K\n",
    "kmeans = KMeans(n_clusters=optimal_k, random_state=42)\n",
    "df['Cluster'] = kmeans.fit_predict(scaled_features)"
   ]
  },
  {
   "cell_type": "code",
   "execution_count": 28,
   "id": "8d10c3bf",
   "metadata": {},
   "outputs": [
    {
     "data": {
      "image/png": "[encoded data removed]",
      "text/plain": [
       "<Figure size 432x288 with 1 Axes>"
      ]
     },
     "metadata": {
      "needs_background": "light"
     },
     "output_type": "display_data"
    }
   ],
   "source": [
    "# Example: Analyze the mean values for each cluster\n",
    "cluster_analysis = df.groupby('Cluster').mean()\n",
    "\n",
    "# Visualize clusters\n",
    "plt.scatter(df['Quantity'], df['UnitPrice'], c=df['Cluster'], cmap='viridis')\n",
    "plt.xlabel('Quantity')\n",
    "plt.ylabel('Unit Price')\n",
    "plt.title('Customer Segmentation')\n",
    "plt.show()"
   ]
  },
  {
   "cell_type": "markdown",
   "id": "c41413b5",
   "metadata": {},
   "source": [
    "## Things from Processing I might add to EDA"
   ]
  },
  {
   "cell_type": "code",
   "execution_count": 1,
   "id": "192f269e",
   "metadata": {},
   "outputs": [
    {
     "ename": "NameError",
     "evalue": "name 'canceled_filtered' is not defined",
     "output_type": "error",
     "traceback": [
      "\u001b[1;31m---------------------------------------------------------------------------\u001b[0m",
      "\u001b[1;31mNameError\u001b[0m                                 Traceback (most recent call last)",
      "Input \u001b[1;32mIn [1]\u001b[0m, in \u001b[0;36m<cell line: 2>\u001b[1;34m()\u001b[0m\n\u001b[0;32m      1\u001b[0m \u001b[38;5;66;03m#Check for unique values\u001b[39;00m\n\u001b[1;32m----> 2\u001b[0m \u001b[38;5;28mprint\u001b[39m(\u001b[38;5;124m\"\u001b[39m\u001b[38;5;124mNumber of transactions:\u001b[39m\u001b[38;5;124m\"\u001b[39m,\u001b[43mcanceled_filtered\u001b[49m[\u001b[38;5;124m'\u001b[39m\u001b[38;5;124mInvoiceNo\u001b[39m\u001b[38;5;124m'\u001b[39m]\u001b[38;5;241m.\u001b[39mnunique())\n\u001b[0;32m      3\u001b[0m \u001b[38;5;28mprint\u001b[39m(\u001b[38;5;124m\"\u001b[39m\u001b[38;5;124mNumber of products:\u001b[39m\u001b[38;5;124m\"\u001b[39m,canceled_filtered[\u001b[38;5;124m'\u001b[39m\u001b[38;5;124mStockCode\u001b[39m\u001b[38;5;124m'\u001b[39m]\u001b[38;5;241m.\u001b[39mnunique())\n\u001b[0;32m      4\u001b[0m \u001b[38;5;28mprint\u001b[39m(\u001b[38;5;124m\"\u001b[39m\u001b[38;5;124mNumber of customers:\u001b[39m\u001b[38;5;124m\"\u001b[39m,canceled_filtered[\u001b[38;5;124m'\u001b[39m\u001b[38;5;124mCustomerID\u001b[39m\u001b[38;5;124m'\u001b[39m]\u001b[38;5;241m.\u001b[39mnunique())\n",
      "\u001b[1;31mNameError\u001b[0m: name 'canceled_filtered' is not defined"
     ]
    }
   ],
   "source": [
    "#Check for unique values\n",
    "print(\"Number of transactions:\",canceled_filtered['InvoiceNo'].nunique())\n",
    "print(\"Number of products:\",canceled_filtered['StockCode'].nunique())\n",
    "print(\"Number of customers:\",canceled_filtered['CustomerID'].nunique())\n",
    "print(\"Number of countries:\",canceled_filtered['Country'].nunique())"
   ]
  },
  {
   "cell_type": "code",
   "execution_count": null,
   "id": "009194e0",
   "metadata": {},
   "outputs": [],
   "source": []
  }
 ],
 "metadata": {
  "kernelspec": {
   "display_name": "Python 3 (ipykernel)",
   "language": "python",
   "name": "python3"
  },
  "language_info": {
   "codemirror_mode": {
    "name": "ipython",
    "version": 3
   },
   "file_extension": ".py",
   "mimetype": "text/x-python",
   "name": "python",
   "nbconvert_exporter": "python",
   "pygments_lexer": "ipython3",
   "version": "3.9.12"
  }
 },
 "nbformat": 4,
 "nbformat_minor": 5
}
