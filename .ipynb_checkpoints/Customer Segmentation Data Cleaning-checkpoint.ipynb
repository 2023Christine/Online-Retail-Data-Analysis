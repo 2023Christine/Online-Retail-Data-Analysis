{
 "cells": [
  {
   "cell_type": "markdown",
   "id": "da73fd59",
   "metadata": {},
   "source": [
    "# Online Retail Dataset Data Cleaning\n",
    "<hr style=\"border: 2px solid #000000;\">"
   ]
  },
  {
   "cell_type": "code",
   "execution_count": null,
   "id": "d56253e8",
   "metadata": {},
   "outputs": [],
   "source": [
    "import numpy as np\n",
    "import pandas as pd\n",
    "import matplotlib.pyplot as plt \n",
    "import seaborn as sns\n",
    "from scipy.stats import zscore"
   ]
  },
  {
   "cell_type": "markdown",
   "id": "262a45ba",
   "metadata": {},
   "source": [
    "---\n",
    "\n",
    "# Table of Contents\n",
    "1. [Introduction](#II.-Introduction)\n",
    "2. [Data Exploration](#II.-Data-Exploration)\n",
    "3. [Canceled Orders](#III.-Canceled-Orders)\n",
    "4. [Preprocessing](#IV.-Preprocessing)\n",
    "5. [Conclusion](#V.-Conclusion)\n",
    "\n",
    "---"
   ]
  },
  {
   "cell_type": "markdown",
   "id": "3fecad15",
   "metadata": {},
   "source": [
    "## I. Introduction"
   ]
  },
  {
   "cell_type": "markdown",
   "id": "78524f41",
   "metadata": {},
   "source": [
    "Welcome to the \"Data Cleaning Notebook\" for the UCI Machine Learning Repository dataset. This notebook addresses the essential task of refining and preparing the dataset for analysis. The UCI dataset, regarded as a valuable resource, may exhibit imperfections like missing values, outliers, and inconsistencies. The objective is to systematically address these issues, ensuring the creation of a clean and reliable dataset.\n",
    "\n",
    "The cleaning process plays a vital role in establishing a robust foundation for subsequent data analysis and modeling. Throughout this notebook, we explore the intricacies of the UCI dataset, applying strategies to handle missing data, outliers, and other common challenges. By the conclusion of this process, the goal is to present a meticulously cleaned dataset, ready for meaningful insights and advanced analytics.\\"
   ]
  },
  {
   "cell_type": "markdown",
   "id": "7c22cb20",
   "metadata": {},
   "source": [
    "This data set which contains transactions occurring between 01/12/2010 and 09/12/2011 for a UK-based and registered non-store online retail. Source: http://archive.ics.uci.edu/ml/datasets/Online+Retail\n",
    "\n",
    "Each key feature in the dataset represents a unique transaction, and understanding its structure is essential for subsequent data analysis and cleaning.\n",
    "\n",
    "Examination of the fundamental features that characterize each transaction reveals:\n",
    "\n",
    "- **InvoiceNo:** A 6-digit integral number serving as a unique identifier for each transaction. If it begins with the letter 'c', it signifies a cancellation.\n",
    "- **StockCode:** A 5-digit integral number assigned to each distinct product, uniquely identifying items in the dataset.\n",
    "- **Description:** The nominal field that holds the product or item name.\n",
    "- **Quantity:** Numeric field representing the quantities of each product per transaction.\n",
    "- **InvoiceDate:** Numeric field indicating the date and time when a transaction occurred.\n",
    "- **UnitPrice:** Numeric field denoting the unit price of each product in sterling (£).\n",
    "- **CustomerID:** A 5-digit integral number serving as a unique identifier for each customer.\n",
    "- **Country:** Nominal field indicating the country where a customer resides.\n",
    "\n",
    "---"
   ]
  },
  {
   "cell_type": "markdown",
   "id": "5a98e5f8",
   "metadata": {},
   "source": [
    "## II. Data Exploration"
   ]
  },
  {
   "cell_type": "markdown",
   "id": "a5ae64fc",
   "metadata": {},
   "source": [
    "Now that we have gained an initial understanding of the dataset features, it is time to delve into the exploration phase. Data exploration plays a pivotal role in uncovering patterns, trends, and potential challenges within the dataset. By closely examining the distribution and characteristics of our variables, we aim to gain valuable insights that will inform subsequent steps in our analysis."
   ]
  },
  {
   "cell_type": "markdown",
   "id": "10145b54",
   "metadata": {},
   "source": [
    "### Overview of Dataset Characteristics"
   ]
  },
  {
   "cell_type": "code",
   "execution_count": null,
   "id": "02d4844d",
   "metadata": {},
   "outputs": [],
   "source": [
    "#read in dataset\n",
    "raw_OR = pd.read_csv('OnlineRetail.csv',encoding='latin1')"
   ]
  },
  {
   "cell_type": "code",
   "execution_count": null,
   "id": "36733b65",
   "metadata": {},
   "outputs": [],
   "source": [
    "#viewing head of dataset\n",
    "raw_OR.head(5)"
   ]
  },
  {
   "cell_type": "code",
   "execution_count": null,
   "id": "f3128872",
   "metadata": {},
   "outputs": [],
   "source": [
    "#changing InvoiceDate to datetime format\n",
    "raw_OR = raw_OR.copy()\n",
    "raw_OR.loc[:, 'InvoiceDate'] = pd.to_datetime(raw_OR['InvoiceDate'])"
   ]
  },
  {
   "cell_type": "code",
   "execution_count": null,
   "id": "ac982b18",
   "metadata": {},
   "outputs": [],
   "source": [
    "#data information\n",
    "raw_OR.info()"
   ]
  },
  {
   "cell_type": "code",
   "execution_count": null,
   "id": "0a031481",
   "metadata": {},
   "outputs": [],
   "source": [
    "#convert CustomerID to object \n",
    "raw_OR['CustomerID'] = raw_OR['CustomerID'].astype(object)"
   ]
  },
  {
   "cell_type": "code",
   "execution_count": null,
   "id": "675e4463",
   "metadata": {},
   "outputs": [],
   "source": [
    "#quanitative data\n",
    "raw_OR.describe()"
   ]
  },
  {
   "cell_type": "markdown",
   "id": "34733733",
   "metadata": {},
   "source": [
    "Upon initial inspection of the dataset, several noteworthy observations come to light.\n",
    "\n",
    "Firstly, the current **InvoiceDate** lacks a datetime format, which may impede the analysis process. To enhance analytical capabilities, it is data is transformed into the appropriate datetime format.\n",
    "\n",
    "Additionally, the data type for **CustomerID** appears to be set as a float. Given that CustomerID serves as an identifying label, despite its numerical representation, it would be more appropriate to treat it as an object, aligning with the nature of other identification columns.\n",
    "\n",
    "Also, there are instances of negative values in both **Quantity** and **UnitPrice**. This occurrence is likely associated with canceled orders. To facilitate a more nuanced analysis, it is advisable to segregate canceled and non-canceled orders into distinct datasets. This distinction will allow for a more targeted exploration of each subset and better insights into the underlying patterns within the data.\n",
    "\n",
    "Finally, it's worth noting the presence of null values in the **Description** and **CustomerID** fields, which necessitates attention and resolution in the upcoming steps of our data preparation."
   ]
  },
  {
   "cell_type": "markdown",
   "id": "2e21461b",
   "metadata": {},
   "source": [
    "### Cleaning Data"
   ]
  },
  {
   "cell_type": "markdown",
   "id": "75b7cbc2",
   "metadata": {},
   "source": [
    "Before proceeding to address canceled orders, it's essential to examine the dataset for any duplicated entries. This check ensures the integrity of our analysis by identifying and resolving potential issues arising from redundant order records."
   ]
  },
  {
   "cell_type": "code",
   "execution_count": null,
   "id": "08f989e7",
   "metadata": {},
   "outputs": [],
   "source": [
    "#check for duplicates\n",
    "duplicated=raw_OR[raw_OR.duplicated()]\n",
    "duplicated.shape[0]"
   ]
  },
  {
   "cell_type": "code",
   "execution_count": null,
   "id": "566999cb",
   "metadata": {},
   "outputs": [],
   "source": [
    "#remove duplicate orders\n",
    "OR_no_dups=raw_OR.drop_duplicates()"
   ]
  },
  {
   "cell_type": "markdown",
   "id": "f1f13e71",
   "metadata": {},
   "source": [
    "A total of 5268 duplicate entries have been identified. To maintain the integrity of our analysis, these duplicates are removed to prevent any interference with subsequent data exploration and modeling.\n",
    "\n",
    "With these duplicates removed, we can now examine the information and description of the enhanced dataset."
   ]
  },
  {
   "cell_type": "code",
   "execution_count": null,
   "id": "55d40797",
   "metadata": {},
   "outputs": [],
   "source": [
    "#view data information\n",
    "OR_no_dups.info()"
   ]
  },
  {
   "cell_type": "code",
   "execution_count": null,
   "id": "fd7f4f58",
   "metadata": {},
   "outputs": [],
   "source": [
    "#quantitative Data\n",
    "OR_no_dups.describe()"
   ]
  },
  {
   "cell_type": "markdown",
   "id": "31819845",
   "metadata": {},
   "source": [
    "The previously identified concerns involving negative values in **Quantity** and **UnitPrice**, as well as the presence of null values, persist in our refined dataset and require further attention and resolution.\n",
    "\n",
    "---"
   ]
  },
  {
   "cell_type": "markdown",
   "id": "3c244793",
   "metadata": {},
   "source": [
    "## III. Canceled Orders"
   ]
  },
  {
   "cell_type": "markdown",
   "id": "4590f5be",
   "metadata": {},
   "source": [
    "The dataset description reveals that orders with an InvoiceNo starting with the letter 'C' indicate cancellations. The next step involves isolating these canceled transactions into a distinct dataset for further exploration."
   ]
  },
  {
   "cell_type": "code",
   "execution_count": null,
   "id": "672b3928",
   "metadata": {},
   "outputs": [],
   "source": [
    "#create new dataset for cancelled transactions\n",
    "canceled = OR_no_dups[OR_no_dups['InvoiceNo'].astype(str).str.contains('C')]\n",
    "canceled.head(5)"
   ]
  },
  {
   "cell_type": "code",
   "execution_count": null,
   "id": "e6312a77",
   "metadata": {},
   "outputs": [],
   "source": [
    "#ensure that no canceled orders have positive values\n",
    "canceled[canceled['Quantity']>0].shape[0]"
   ]
  },
  {
   "cell_type": "markdown",
   "id": "0a4a54f7",
   "metadata": {},
   "source": [
    "### Exploring Cancelled Orders"
   ]
  },
  {
   "cell_type": "markdown",
   "id": "876f4ceb",
   "metadata": {},
   "source": [
    "Exploring the distinct dataset further, the initial analysis will aim to identify the products with the highest number of canceled orders."
   ]
  },
  {
   "cell_type": "code",
   "execution_count": null,
   "id": "80eee883",
   "metadata": {},
   "outputs": [],
   "source": [
    "#group by product and count canceled orders\n",
    "canceled_product_counts = canceled.groupby('StockCode').size().reset_index(name='CanceledCount')\n",
    "\n",
    "#sort products by the number of canceled orders in descending order\n",
    "canceled_product_counts = canceled.groupby(['StockCode', 'Description']).size().reset_index(name='CanceledCount')\n",
    "\n",
    "#sort products by the number of canceled orders in descending order\n",
    "canceled_product_counts = canceled_product_counts.sort_values(by='CanceledCount', ascending=False)\n",
    "\n",
    "#display the top products with the most canceled orders\n",
    "print(canceled_product_counts.head(5))"
   ]
  },
  {
   "cell_type": "markdown",
   "id": "c859e2a6",
   "metadata": {},
   "source": [
    "From this analysis, it becomes evident that many of the cancellations are not valid canceled orders and do not contribute to total sales. Specifically, entries categorized as \"Manual,\" \"Postage,\" \"Discounts,\" and \"Samples\" with non-numerical StockCodes fall into this category. The next step involves removing these stock codes from our dataset as they do not contribute to the overall sales figures."
   ]
  },
  {
   "cell_type": "code",
   "execution_count": null,
   "id": "15861b2f",
   "metadata": {},
   "outputs": [],
   "source": [
    "#identify rows with non-numerical product IDs\n",
    "non_numerical_ids = canceled[canceled['StockCode'].astype(str).str.isalpha()]\n",
    "\n",
    "#display non-numerical product IDs and their descriptions\n",
    "print(non_numerical_ids[['StockCode', 'Description']].drop_duplicates())"
   ]
  },
  {
   "cell_type": "code",
   "execution_count": null,
   "id": "4908b9b3",
   "metadata": {},
   "outputs": [],
   "source": [
    "#specify stock codes to remove\n",
    "stock_codes_to_remove = ['D', 'POST', 'S','AMAZONFEE','M','DOT','CRUK'] "
   ]
  },
  {
   "cell_type": "code",
   "execution_count": null,
   "id": "02cbb9af",
   "metadata": {},
   "outputs": [],
   "source": [
    "#remove rows with specified stock codes\n",
    "canceled_filtered = canceled[~canceled['StockCode'].isin(stock_codes_to_remove)]"
   ]
  },
  {
   "cell_type": "markdown",
   "id": "5f75121c",
   "metadata": {},
   "source": [
    "The cleaned data frame is now ready for examination."
   ]
  },
  {
   "cell_type": "code",
   "execution_count": null,
   "id": "659f1c06",
   "metadata": {},
   "outputs": [],
   "source": [
    "#display the resulting dataframe\n",
    "canceled_filtered.head(5)"
   ]
  },
  {
   "cell_type": "code",
   "execution_count": null,
   "id": "dc3ccf92",
   "metadata": {},
   "outputs": [],
   "source": [
    "#view data information\n",
    "canceled_filtered.info()"
   ]
  },
  {
   "cell_type": "code",
   "execution_count": null,
   "id": "5d294155",
   "metadata": {},
   "outputs": [],
   "source": [
    "#quantitative data\n",
    "canceled_filtered.describe()"
   ]
  },
  {
   "cell_type": "markdown",
   "id": "8970f8b2",
   "metadata": {},
   "source": [
    "## Removing Canceled Orders"
   ]
  },
  {
   "cell_type": "markdown",
   "id": "7de9cf21",
   "metadata": {},
   "source": [
    "Having identified the canceled orders, the next step involves removing them from the **OR_no_dups** data frame. Subsequently, a new data frame will be created specifically for non-canceled orders."
   ]
  },
  {
   "cell_type": "code",
   "execution_count": null,
   "id": "d73a3c3e",
   "metadata": {},
   "outputs": [],
   "source": [
    "#remove canceled orders\n",
    "non_canceled = OR_no_dups[~OR_no_dups['InvoiceNo'].astype(str).str.contains('C')]\n",
    "\n",
    "non_canceled.head(5)"
   ]
  },
  {
   "cell_type": "code",
   "execution_count": null,
   "id": "e6d9ef83",
   "metadata": {},
   "outputs": [],
   "source": [
    "#view data information\n",
    "non_canceled.info()"
   ]
  },
  {
   "cell_type": "code",
   "execution_count": null,
   "id": "52a7d9c9",
   "metadata": {},
   "outputs": [],
   "source": [
    "#quantitative data\n",
    "non_canceled.describe()"
   ]
  },
  {
   "cell_type": "markdown",
   "id": "5a4725cc",
   "metadata": {},
   "source": [
    "Upon a brief sampling of the provided descriptions, it is evident that certain entries represent non-standard sale transactions. Consequently, these entries will be removed from our dataset to ensure the integrity of our analysis."
   ]
  },
  {
   "cell_type": "markdown",
   "id": "dc583585",
   "metadata": {},
   "source": [
    "## IV. Preprocessing"
   ]
  },
  {
   "cell_type": "markdown",
   "id": "83b67800",
   "metadata": {},
   "source": [
    "### Addressing Negative Quantity"
   ]
  },
  {
   "cell_type": "markdown",
   "id": "34a728f2",
   "metadata": {},
   "source": [
    "Even after addressing canceled orders, the refined dataset still contains negative quantities. The following analysis will investigate this issue further."
   ]
  },
  {
   "cell_type": "code",
   "execution_count": null,
   "id": "6ffd1c7a",
   "metadata": {},
   "outputs": [],
   "source": [
    "#check for entries with negative quantity\n",
    "non_canceled[non_canceled['Quantity']<0].head(5)"
   ]
  },
  {
   "cell_type": "code",
   "execution_count": null,
   "id": "034de4eb",
   "metadata": {},
   "outputs": [],
   "source": [
    "#view data information\n",
    "non_canceled[non_canceled['Quantity']<0].info()"
   ]
  },
  {
   "cell_type": "markdown",
   "id": "977e9667",
   "metadata": {},
   "source": [
    "Upon investigation into negative quantities, it is observed that these entries lack a CustomerID, and some also lack a Description. This aligns with one of the previously noted concerns. Unfortunately, as StockCode consists only of numbers, it cannot offer insights into the negative quantities. The focus will now shift to examining the Description field for additional context."
   ]
  },
  {
   "cell_type": "code",
   "execution_count": null,
   "id": "c2d162d4",
   "metadata": {},
   "outputs": [],
   "source": [
    "non_canceled[non_canceled['Quantity'] < 0]['Description'].unique()[:50]"
   ]
  },
  {
   "cell_type": "markdown",
   "id": "c64a6bb2",
   "metadata": {},
   "source": [
    "Upon a brief sampling of the provided descriptions, it is evident that certain entries represent non-standard sale transactions. These entries will be removed from our dataset to ensure the integrity of our analysis."
   ]
  },
  {
   "cell_type": "code",
   "execution_count": null,
   "id": "89f52ad5",
   "metadata": {},
   "outputs": [],
   "source": [
    "#only use positive quantities\n",
    "positive_quantity=non_canceled[non_canceled['Quantity']>0]\n",
    "positive_quantity.head()"
   ]
  },
  {
   "cell_type": "code",
   "execution_count": null,
   "id": "20cd13b3",
   "metadata": {},
   "outputs": [],
   "source": [
    "#view data information\n",
    "positive_quantity.info()"
   ]
  },
  {
   "cell_type": "code",
   "execution_count": null,
   "id": "38b0342d",
   "metadata": {},
   "outputs": [],
   "source": [
    "#quantitative data\n",
    "positive_quantity.describe()"
   ]
  },
  {
   "cell_type": "markdown",
   "id": "387b2938",
   "metadata": {},
   "source": [
    "The issue of negative **Quantity** has been addressed. The previously identified concerns involving negative values in **UnitPrice**, as well as the presence of null values, persist in our refined dataset and require further attention and resolution."
   ]
  },
  {
   "cell_type": "markdown",
   "id": "8ab19d6a",
   "metadata": {},
   "source": [
    "### Addressing Negative Unit Price"
   ]
  },
  {
   "cell_type": "code",
   "execution_count": null,
   "id": "15422091",
   "metadata": {},
   "outputs": [],
   "source": [
    "#checking for negative unit price\n",
    "positive_quantity[positive_quantity['UnitPrice']<0]"
   ]
  },
  {
   "cell_type": "markdown",
   "id": "3764a450",
   "metadata": {},
   "source": [
    "**Description**s related to negative **UnitPrice**s show non standard transactions and can be removed from the refined dataser.Descriptions associated with negative UnitPrices indicate non-standard transactions and can be safely removed from the refined dataset."
   ]
  },
  {
   "cell_type": "code",
   "execution_count": null,
   "id": "8283ed8b",
   "metadata": {},
   "outputs": [],
   "source": [
    "positive_quantity=positive_quantity[positive_quantity['UnitPrice']>0]\n",
    "positive_quantity.head(5)"
   ]
  },
  {
   "cell_type": "markdown",
   "id": "373d1378",
   "metadata": {},
   "source": [
    "### Addressing Null Values"
   ]
  },
  {
   "cell_type": "markdown",
   "id": "146f2bac",
   "metadata": {},
   "source": [
    "Without clear information on the reasons for missing customer ID values, it remains essential to remove such data from the dataset. Although the underlying causes for the missing data are uncertain, its removal is a necessary step. By eliminating missing data, we ensure that the dataset remains sizable for analysis, and the presence of null values would have hindered a thorough and accurate analysis."
   ]
  },
  {
   "cell_type": "code",
   "execution_count": null,
   "id": "d7fc2e91",
   "metadata": {},
   "outputs": [],
   "source": [
    "cleaned_data=positive_quantity.dropna()\n",
    "cleaned_data.head(5)"
   ]
  },
  {
   "cell_type": "code",
   "execution_count": null,
   "id": "25c6b4eb",
   "metadata": {},
   "outputs": [],
   "source": [
    "#view data information\n",
    "cleaned_data.info()"
   ]
  },
  {
   "cell_type": "code",
   "execution_count": null,
   "id": "9ff94318",
   "metadata": {},
   "outputs": [],
   "source": [
    "#quantitative data\n",
    "cleaned_data.describe()"
   ]
  },
  {
   "cell_type": "markdown",
   "id": "a5dc9373",
   "metadata": {},
   "source": [
    "### Additional Preprocessing"
   ]
  },
  {
   "cell_type": "markdown",
   "id": "3ea74a72",
   "metadata": {},
   "source": [
    "All identified concerns with the data have been successfully addressed. Moving forward, we can perform additional preprocessing to facilitate easier analysis. Specifically, we will add new columns for total price, hour, day of the week, and month to enhance the dataset for more insightful analysis."
   ]
  },
  {
   "cell_type": "code",
   "execution_count": null,
   "id": "2f5fe4d0",
   "metadata": {},
   "outputs": [],
   "source": [
    "#create copy of data frame\n",
    "cleaned_data = cleaned_data.copy()\n",
    "\n",
    "# Create a new column for TotalPrice\n",
    "cleaned_data['TotalPrice'] = cleaned_data['Quantity'] * cleaned_data['UnitPrice']\n",
    "\n",
    "# Assuming 'InvoiceDate' is the name of the datetime column\n",
    "cleaned_data['InvoiceDate'] = pd.to_datetime(cleaned_data['InvoiceDate'])\n",
    "\n",
    "# Extract hour from 'InvoiceDate'\n",
    "cleaned_data['Hour'] = cleaned_data['InvoiceDate'].dt.hour\n",
    "\n",
    "# Extract day from 'InvoiceDate'\n",
    "cleaned_data['Day'] = cleaned_data['InvoiceDate'].dt.dayofweek\n",
    "\n",
    "# Extract day from 'InvoiceDate'\n",
    "cleaned_data['Month'] = cleaned_data['InvoiceDate'].dt.month\n"
   ]
  },
  {
   "cell_type": "markdown",
   "id": "4e198a9f",
   "metadata": {},
   "source": [
    "Added fundamental features:\n",
    "\n",
    "- **TotalPrice:** This column represents the total monetary value of each transaction, calculated by multiplying the quantity of items purchased by their respective unit prices.\n",
    "- **Hour:** Specific hour of the day when each transaction occurred, extracted from the 'InvoiceDate' timestamp.\n",
    "- **Day:** Day of the week (0 for Monday, 1 for Tuesday, and so on) when each transaction took place, derived from the 'InvoiceDate' timestamp.\n",
    "- **Month:** Numerical representation of the month when each transaction occurred, extracted from the 'InvoiceDate' timestamp."
   ]
  },
  {
   "cell_type": "code",
   "execution_count": null,
   "id": "cf3176cf",
   "metadata": {
    "scrolled": true
   },
   "outputs": [],
   "source": [
    "#save cleaned dataset\n",
    "cleaned_data.to_csv('CleanedData.csv', index=False)"
   ]
  },
  {
   "cell_type": "markdown",
   "id": "6ea60c80",
   "metadata": {},
   "source": [
    "## V. Conclusion"
   ]
  },
  {
   "cell_type": "code",
   "execution_count": null,
   "id": "c661d0f6",
   "metadata": {},
   "outputs": [],
   "source": []
  }
 ],
 "metadata": {
  "kernelspec": {
   "display_name": "Python 3 (ipykernel)",
   "language": "python",
   "name": "python3"
  },
  "language_info": {
   "codemirror_mode": {
    "name": "ipython",
    "version": 3
   },
   "file_extension": ".py",
   "mimetype": "text/x-python",
   "name": "python",
   "nbconvert_exporter": "python",
   "pygments_lexer": "ipython3",
   "version": "3.9.12"
  }
 },
 "nbformat": 4,
 "nbformat_minor": 5
}
