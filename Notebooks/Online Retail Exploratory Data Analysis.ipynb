{
 "cells": [
  {
   "cell_type": "markdown",
   "id": "0feca5b8",
   "metadata": {},
   "source": [
    "# Online Retail Dataset Exploratory Data Analysis\n",
    "<hr style=\"border: 2px solid #000000;\">"
   ]
  },
  {
   "cell_type": "code",
   "execution_count": 1,
   "id": "896b58d5",
   "metadata": {},
   "outputs": [],
   "source": [
    "import numpy as np\n",
    "import pandas as pd\n",
    "import matplotlib.pyplot as plt \n",
    "import seaborn as sns\n",
    "import os"
   ]
  },
  {
   "cell_type": "markdown",
   "id": "b5ef1fef",
   "metadata": {},
   "source": [
    "---\n",
    "\n",
    "# Table of Contents\n",
    "1. [Introduction](#I.-Introduction)\n",
    "2. [Customer Analysis](#II.-Customer-Analysis)\n",
    "3. [Product Analysis](#III.-Product-Analysis)\n",
    "4. [Temporal Analysis](#IV.-Temporal-Analysis)\n",
    "5. [Country Analysis](#V.-Country-Analysis)\n",
    "6. [Canceled Orders](#VI.-Canceled-Orders)\n",
    "7. [Conclusion](#VII.-Conclusion)\n",
    "\n",
    "---"
   ]
  },
  {
   "cell_type": "markdown",
   "id": "73919324",
   "metadata": {},
   "source": [
    "## I. Introduction"
   ]
  },
  {
   "cell_type": "markdown",
   "id": "c04d5780",
   "metadata": {},
   "source": [
    "Welcome to the \"Online Retail Exploratory Data Analysis\" Notebook for the UCI Machine Learning Repository dataset. This phase represents a crucial step in preparing the dataset for in-depth analysis and modeling. The dataset, a rich source of information, demands a nuanced exploration to extract meaningful patterns and correlations. Through meticulous examination and the application of statistical techniques, the objective is to unravel the narrative concealed within the data, shedding light on customer preferences, product dynamics, temporal trends, and the impact of different countries on the study.\n",
    "\n",
    "Readers are invited to join this journey through the various facets of the dataset, navigating through Customer Analysis, Product Analysis, Time Analysis, and Country Analysis. By the conclusion of this EDA phase, the goal is to provide a well-understood, meticulously analyzed dataset, laying the groundwork for conclusive findings and actionable insights for the audience."
   ]
  },
  {
   "cell_type": "markdown",
   "id": "3c4f184c",
   "metadata": {},
   "source": [
    "This data set which contains transactions occurring between 01/12/2010 and 09/12/2011 for a UK-based and registered non-store online retail. Source: http://archive.ics.uci.edu/ml/datasets/Online+Retail\n",
    "\n",
    "The dataset underwent a thorough cleaning process in the Online Retail Data Cleaning Notebook, where various measures were implemented to enhance its quality and usability. Additionally, several key features were incorporated to facilitate a more insightful and comprehensive analysis in subsequent phases. This preparatory step ensures that the dataset is primed for a detailed exploration of customer behavior, product dynamics, time trends, and country-specific insights during the Exploratory Data Analysis (EDA) phase.\n",
    "\n",
    "Each key feature in the dataset represents a unique transaction, and understanding its structure is essential for subsequent data analysis and cleaning.\n",
    "\n",
    "Examination of the fundamental features that characterize each transaction reveals:\n",
    "\n",
    "- **InvoiceNo:** A 6-digit integral number serving as a unique identifier for each transaction. \n",
    "- **StockCode:** A 5-digit integral number assigned to each distinct product, uniquely identifying items in the dataset.\n",
    "- **Description:** The nominal field that holds the product or item name.\n",
    "- **Quantity:** Numeric field representing the quantities of each product per transaction.\n",
    "- **InvoiceDate:** Numeric field indicating the date and time when a transaction occurred.\n",
    "- **UnitPrice:** Numeric field denoting the unit price of each product in sterling (£).\n",
    "- **CustomerID:** A 5-digit integral number serving as a unique identifier for each customer.\n",
    "- **Country:** Nominal field indicating the country where a customer resides.\n",
    "- **TotalPrice:** This column represents the total monetary value of each transaction, calculated by multiplying the quantity of items purchased by their respective unit prices.\n",
    "- **Hour:** Specific hour of the day when each transaction occurred, extracted from the 'InvoiceDate' timestamp.\n",
    "- **Day:** Day of the week (0 for Monday, 1 for Tuesday, and so on) when each transaction took place, derived from the 'InvoiceDate' timestamp.\n",
    "- **Month:** Numerical representation of the month when each transaction occurred, extracted from the 'InvoiceDate' timestamp.\n",
    "- **IsRepeatCustomer:** Binary flag, indicating whether a customer has made more than one purchase ('True') or only a single purchase ('False')."
   ]
  },
  {
   "cell_type": "markdown",
   "id": "f53192a5",
   "metadata": {},
   "source": [
    "### Overview of Dataset Characteristics"
   ]
  },
  {
   "cell_type": "markdown",
   "id": "37801360",
   "metadata": {},
   "source": [
    "Before delving into more specific analyses, a pause is taken to examine the cleaned dataset and its fundamental features. This initial exploration is designed to provide a snapshot of the dataset's characteristics, enabling a quick understanding of its structure and distribution. By inspecting basic features, the stage is set for a more in-depth exploration, facilitating the extraction of meaningful insights during the subsequent phases of the analysis."
   ]
  },
  {
   "cell_type": "code",
   "execution_count": 2,
   "id": "10e23f36",
   "metadata": {},
   "outputs": [
    {
     "data": {
      "text/html": [
       "<div>\n",
       "<style scoped>\n",
       "    .dataframe tbody tr th:only-of-type {\n",
       "        vertical-align: middle;\n",
       "    }\n",
       "\n",
       "    .dataframe tbody tr th {\n",
       "        vertical-align: top;\n",
       "    }\n",
       "\n",
       "    .dataframe thead th {\n",
       "        text-align: right;\n",
       "    }\n",
       "</style>\n",
       "<table border=\"1\" class=\"dataframe\">\n",
       "  <thead>\n",
       "    <tr style=\"text-align: right;\">\n",
       "      <th></th>\n",
       "      <th>InvoiceNo</th>\n",
       "      <th>StockCode</th>\n",
       "      <th>Description</th>\n",
       "      <th>Quantity</th>\n",
       "      <th>InvoiceDate</th>\n",
       "      <th>UnitPrice</th>\n",
       "      <th>CustomerID</th>\n",
       "      <th>Country</th>\n",
       "      <th>TotalPrice</th>\n",
       "      <th>Hour</th>\n",
       "      <th>Day</th>\n",
       "      <th>Month</th>\n",
       "      <th>IsRepeatCustomer</th>\n",
       "    </tr>\n",
       "  </thead>\n",
       "  <tbody>\n",
       "    <tr>\n",
       "      <th>0</th>\n",
       "      <td>536365</td>\n",
       "      <td>85123A</td>\n",
       "      <td>WHITE HANGING HEART T-LIGHT HOLDER</td>\n",
       "      <td>6</td>\n",
       "      <td>2010-12-01 08:26:00</td>\n",
       "      <td>2.55</td>\n",
       "      <td>17850.0</td>\n",
       "      <td>United Kingdom</td>\n",
       "      <td>15.30</td>\n",
       "      <td>8</td>\n",
       "      <td>2</td>\n",
       "      <td>12</td>\n",
       "      <td>True</td>\n",
       "    </tr>\n",
       "    <tr>\n",
       "      <th>1</th>\n",
       "      <td>536365</td>\n",
       "      <td>71053</td>\n",
       "      <td>WHITE METAL LANTERN</td>\n",
       "      <td>6</td>\n",
       "      <td>2010-12-01 08:26:00</td>\n",
       "      <td>3.39</td>\n",
       "      <td>17850.0</td>\n",
       "      <td>United Kingdom</td>\n",
       "      <td>20.34</td>\n",
       "      <td>8</td>\n",
       "      <td>2</td>\n",
       "      <td>12</td>\n",
       "      <td>True</td>\n",
       "    </tr>\n",
       "    <tr>\n",
       "      <th>2</th>\n",
       "      <td>536365</td>\n",
       "      <td>84406B</td>\n",
       "      <td>CREAM CUPID HEARTS COAT HANGER</td>\n",
       "      <td>8</td>\n",
       "      <td>2010-12-01 08:26:00</td>\n",
       "      <td>2.75</td>\n",
       "      <td>17850.0</td>\n",
       "      <td>United Kingdom</td>\n",
       "      <td>22.00</td>\n",
       "      <td>8</td>\n",
       "      <td>2</td>\n",
       "      <td>12</td>\n",
       "      <td>True</td>\n",
       "    </tr>\n",
       "    <tr>\n",
       "      <th>3</th>\n",
       "      <td>536365</td>\n",
       "      <td>84029G</td>\n",
       "      <td>KNITTED UNION FLAG HOT WATER BOTTLE</td>\n",
       "      <td>6</td>\n",
       "      <td>2010-12-01 08:26:00</td>\n",
       "      <td>3.39</td>\n",
       "      <td>17850.0</td>\n",
       "      <td>United Kingdom</td>\n",
       "      <td>20.34</td>\n",
       "      <td>8</td>\n",
       "      <td>2</td>\n",
       "      <td>12</td>\n",
       "      <td>True</td>\n",
       "    </tr>\n",
       "    <tr>\n",
       "      <th>4</th>\n",
       "      <td>536365</td>\n",
       "      <td>84029E</td>\n",
       "      <td>RED WOOLLY HOTTIE WHITE HEART.</td>\n",
       "      <td>6</td>\n",
       "      <td>2010-12-01 08:26:00</td>\n",
       "      <td>3.39</td>\n",
       "      <td>17850.0</td>\n",
       "      <td>United Kingdom</td>\n",
       "      <td>20.34</td>\n",
       "      <td>8</td>\n",
       "      <td>2</td>\n",
       "      <td>12</td>\n",
       "      <td>True</td>\n",
       "    </tr>\n",
       "  </tbody>\n",
       "</table>\n",
       "</div>"
      ],
      "text/plain": [
       "   InvoiceNo StockCode                          Description  Quantity  \\\n",
       "0     536365    85123A   WHITE HANGING HEART T-LIGHT HOLDER         6   \n",
       "1     536365     71053                  WHITE METAL LANTERN         6   \n",
       "2     536365    84406B       CREAM CUPID HEARTS COAT HANGER         8   \n",
       "3     536365    84029G  KNITTED UNION FLAG HOT WATER BOTTLE         6   \n",
       "4     536365    84029E       RED WOOLLY HOTTIE WHITE HEART.         6   \n",
       "\n",
       "           InvoiceDate  UnitPrice  CustomerID         Country  TotalPrice  \\\n",
       "0  2010-12-01 08:26:00       2.55     17850.0  United Kingdom       15.30   \n",
       "1  2010-12-01 08:26:00       3.39     17850.0  United Kingdom       20.34   \n",
       "2  2010-12-01 08:26:00       2.75     17850.0  United Kingdom       22.00   \n",
       "3  2010-12-01 08:26:00       3.39     17850.0  United Kingdom       20.34   \n",
       "4  2010-12-01 08:26:00       3.39     17850.0  United Kingdom       20.34   \n",
       "\n",
       "   Hour  Day  Month  IsRepeatCustomer  \n",
       "0     8    2     12              True  \n",
       "1     8    2     12              True  \n",
       "2     8    2     12              True  \n",
       "3     8    2     12              True  \n",
       "4     8    2     12              True  "
      ]
     },
     "execution_count": 2,
     "metadata": {},
     "output_type": "execute_result"
    }
   ],
   "source": [
    "# Set the working directory to the 'Online-Retail-Data-Analysis' folder\n",
    "os.chdir(os.path.abspath('..'))\n",
    "\n",
    "# Define the relative path to the data folder and the CSV file\n",
    "data_relative_path = os.path.join('Data', 'CleanedData.csv')\n",
    "\n",
    "# Construct the absolute path to the CSV file\n",
    "data_path = os.path.join(os.getcwd(), data_relative_path)\n",
    "\n",
    "# Read the CSV file into a Pandas DataFrame\n",
    "cleaned_data = pd.read_csv(data_path, encoding='latin1')\n",
    "\n",
    "cleaned_data.head(5)"
   ]
  },
  {
   "cell_type": "code",
   "execution_count": 3,
   "id": "b6d5c838",
   "metadata": {},
   "outputs": [
    {
     "name": "stdout",
     "output_type": "stream",
     "text": [
      "<class 'pandas.core.frame.DataFrame'>\n",
      "RangeIndex: 392692 entries, 0 to 392691\n",
      "Data columns (total 13 columns):\n",
      " #   Column            Non-Null Count   Dtype  \n",
      "---  ------            --------------   -----  \n",
      " 0   InvoiceNo         392692 non-null  int64  \n",
      " 1   StockCode         392692 non-null  object \n",
      " 2   Description       392692 non-null  object \n",
      " 3   Quantity          392692 non-null  int64  \n",
      " 4   InvoiceDate       392692 non-null  object \n",
      " 5   UnitPrice         392692 non-null  float64\n",
      " 6   CustomerID        392692 non-null  float64\n",
      " 7   Country           392692 non-null  object \n",
      " 8   TotalPrice        392692 non-null  float64\n",
      " 9   Hour              392692 non-null  int64  \n",
      " 10  Day               392692 non-null  int64  \n",
      " 11  Month             392692 non-null  int64  \n",
      " 12  IsRepeatCustomer  392692 non-null  bool   \n",
      "dtypes: bool(1), float64(3), int64(5), object(4)\n",
      "memory usage: 36.3+ MB\n"
     ]
    }
   ],
   "source": [
    "#view data information\n",
    "cleaned_data.info()"
   ]
  },
  {
   "cell_type": "code",
   "execution_count": 4,
   "id": "2e1c3f05",
   "metadata": {
    "scrolled": true
   },
   "outputs": [
    {
     "data": {
      "text/html": [
       "<div>\n",
       "<style scoped>\n",
       "    .dataframe tbody tr th:only-of-type {\n",
       "        vertical-align: middle;\n",
       "    }\n",
       "\n",
       "    .dataframe tbody tr th {\n",
       "        vertical-align: top;\n",
       "    }\n",
       "\n",
       "    .dataframe thead th {\n",
       "        text-align: right;\n",
       "    }\n",
       "</style>\n",
       "<table border=\"1\" class=\"dataframe\">\n",
       "  <thead>\n",
       "    <tr style=\"text-align: right;\">\n",
       "      <th></th>\n",
       "      <th>InvoiceNo</th>\n",
       "      <th>Quantity</th>\n",
       "      <th>UnitPrice</th>\n",
       "      <th>CustomerID</th>\n",
       "      <th>TotalPrice</th>\n",
       "      <th>Hour</th>\n",
       "      <th>Day</th>\n",
       "      <th>Month</th>\n",
       "    </tr>\n",
       "  </thead>\n",
       "  <tbody>\n",
       "    <tr>\n",
       "      <th>count</th>\n",
       "      <td>392692.000000</td>\n",
       "      <td>392692.000000</td>\n",
       "      <td>392692.000000</td>\n",
       "      <td>392692.000000</td>\n",
       "      <td>392692.000000</td>\n",
       "      <td>392692.000000</td>\n",
       "      <td>392692.000000</td>\n",
       "      <td>392692.000000</td>\n",
       "    </tr>\n",
       "    <tr>\n",
       "      <th>mean</th>\n",
       "      <td>560590.875047</td>\n",
       "      <td>13.119702</td>\n",
       "      <td>3.125914</td>\n",
       "      <td>15287.843865</td>\n",
       "      <td>22.631500</td>\n",
       "      <td>12.721532</td>\n",
       "      <td>2.606911</td>\n",
       "      <td>7.601871</td>\n",
       "    </tr>\n",
       "    <tr>\n",
       "      <th>std</th>\n",
       "      <td>13087.063759</td>\n",
       "      <td>180.492832</td>\n",
       "      <td>22.241836</td>\n",
       "      <td>1713.539549</td>\n",
       "      <td>311.099224</td>\n",
       "      <td>2.276661</td>\n",
       "      <td>1.923929</td>\n",
       "      <td>3.415015</td>\n",
       "    </tr>\n",
       "    <tr>\n",
       "      <th>min</th>\n",
       "      <td>536365.000000</td>\n",
       "      <td>1.000000</td>\n",
       "      <td>0.001000</td>\n",
       "      <td>12346.000000</td>\n",
       "      <td>0.001000</td>\n",
       "      <td>6.000000</td>\n",
       "      <td>0.000000</td>\n",
       "      <td>1.000000</td>\n",
       "    </tr>\n",
       "    <tr>\n",
       "      <th>25%</th>\n",
       "      <td>549234.000000</td>\n",
       "      <td>2.000000</td>\n",
       "      <td>1.250000</td>\n",
       "      <td>13955.000000</td>\n",
       "      <td>4.950000</td>\n",
       "      <td>11.000000</td>\n",
       "      <td>1.000000</td>\n",
       "      <td>5.000000</td>\n",
       "    </tr>\n",
       "    <tr>\n",
       "      <th>50%</th>\n",
       "      <td>561874.000000</td>\n",
       "      <td>6.000000</td>\n",
       "      <td>1.950000</td>\n",
       "      <td>15150.000000</td>\n",
       "      <td>12.450000</td>\n",
       "      <td>13.000000</td>\n",
       "      <td>2.000000</td>\n",
       "      <td>8.000000</td>\n",
       "    </tr>\n",
       "    <tr>\n",
       "      <th>75%</th>\n",
       "      <td>572061.000000</td>\n",
       "      <td>12.000000</td>\n",
       "      <td>3.750000</td>\n",
       "      <td>16791.000000</td>\n",
       "      <td>19.800000</td>\n",
       "      <td>14.000000</td>\n",
       "      <td>4.000000</td>\n",
       "      <td>11.000000</td>\n",
       "    </tr>\n",
       "    <tr>\n",
       "      <th>max</th>\n",
       "      <td>581587.000000</td>\n",
       "      <td>80995.000000</td>\n",
       "      <td>8142.750000</td>\n",
       "      <td>18287.000000</td>\n",
       "      <td>168469.600000</td>\n",
       "      <td>20.000000</td>\n",
       "      <td>6.000000</td>\n",
       "      <td>12.000000</td>\n",
       "    </tr>\n",
       "  </tbody>\n",
       "</table>\n",
       "</div>"
      ],
      "text/plain": [
       "           InvoiceNo       Quantity      UnitPrice     CustomerID  \\\n",
       "count  392692.000000  392692.000000  392692.000000  392692.000000   \n",
       "mean   560590.875047      13.119702       3.125914   15287.843865   \n",
       "std     13087.063759     180.492832      22.241836    1713.539549   \n",
       "min    536365.000000       1.000000       0.001000   12346.000000   \n",
       "25%    549234.000000       2.000000       1.250000   13955.000000   \n",
       "50%    561874.000000       6.000000       1.950000   15150.000000   \n",
       "75%    572061.000000      12.000000       3.750000   16791.000000   \n",
       "max    581587.000000   80995.000000    8142.750000   18287.000000   \n",
       "\n",
       "          TotalPrice           Hour            Day          Month  \n",
       "count  392692.000000  392692.000000  392692.000000  392692.000000  \n",
       "mean       22.631500      12.721532       2.606911       7.601871  \n",
       "std       311.099224       2.276661       1.923929       3.415015  \n",
       "min         0.001000       6.000000       0.000000       1.000000  \n",
       "25%         4.950000      11.000000       1.000000       5.000000  \n",
       "50%        12.450000      13.000000       2.000000       8.000000  \n",
       "75%        19.800000      14.000000       4.000000      11.000000  \n",
       "max    168469.600000      20.000000       6.000000      12.000000  "
      ]
     },
     "execution_count": 4,
     "metadata": {},
     "output_type": "execute_result"
    }
   ],
   "source": [
    "#quantitative data\n",
    "cleaned_data.describe()"
   ]
  },
  {
   "cell_type": "markdown",
   "id": "f9dace15",
   "metadata": {},
   "source": [
    "---"
   ]
  },
  {
   "cell_type": "markdown",
   "id": "cf60fdc7",
   "metadata": {},
   "source": [
    "## II. Customer Analysis"
   ]
  },
  {
   "cell_type": "markdown",
   "id": "59a097de",
   "metadata": {},
   "source": [
    "This section is devoted to unraveling the intricacies of customer behavior and preferences. Delving into key metrics such as customer retention, transaction frequenct, and top customers, the analysis aspires to construct a comprehensive portrayal of the customer base. Through insightful analytics, the objective is to identify loyal patrons, discern trends in purchasing behavior, and, ultimately, inform strategies to better meet the needs and expectations of diverse customer segments. Readers are invited to observe the exploration of data that unveils compelling stories about valued customers, setting the stage for targeted marketing initiatives and elevated customer satisfaction."
   ]
  },
  {
   "cell_type": "code",
   "execution_count": 5,
   "id": "c00a985b",
   "metadata": {},
   "outputs": [
    {
     "name": "stdout",
     "output_type": "stream",
     "text": [
      "Number of customers: 4338\n"
     ]
    }
   ],
   "source": [
    "#unique customers\n",
    "print(\"Number of customers:\",cleaned_data['CustomerID'].nunique())"
   ]
  },
  {
   "cell_type": "markdown",
   "id": "cbaeee44",
   "metadata": {},
   "source": [
    "The analysis begins by calculating the number of unique customers, revealing a total of 4338 individuals to be the focus of our examination. This sizable customer base sets the foundation for a comprehensive exploration of purchasing behavior, preferences."
   ]
  },
  {
   "cell_type": "markdown",
   "id": "6a0eb69a",
   "metadata": {},
   "source": [
    "### Customer Retention Rate"
   ]
  },
  {
   "cell_type": "code",
   "execution_count": 6,
   "id": "12737ae3",
   "metadata": {},
   "outputs": [
    {
     "name": "stdout",
     "output_type": "stream",
     "text": [
      "Retention Rate: 65.58%\n"
     ]
    }
   ],
   "source": [
    "#calculate total customers\n",
    "total_customers = cleaned_data['CustomerID'].nunique()\n",
    "\n",
    "#calculate repeat customers\n",
    "repeat_customers = cleaned_data[cleaned_data['IsRepeatCustomer']]['CustomerID'].nunique()\n",
    "\n",
    "#calculate retention rate\n",
    "retention_rate = (repeat_customers / total_customers) * 100\n",
    "\n",
    "print(f'Retention Rate: {retention_rate:.2f}%')"
   ]
  },
  {
   "cell_type": "markdown",
   "id": "65c02792",
   "metadata": {},
   "source": [
    "The analysis of the modified dataset revealed valuable insights into customer retention for our online retail business. With a total customer base of 4338, it was found that 65.58%, have made repeat purchases. This signifies a positive trend in customer loyalty, providing a key indicator of our business's effectiveness in retaining customers over time. A higher retention rate implies a strong level of customer loyalty, which could be attributed to successful marketing campaigns, excellent customer service, or enticing loyalty programs. This analysis provides a foundation for strategic decision-making, allowing us to tailor marketing efforts, enhance customer experience, and ultimately drive long-term business success. Regular monitoring of these metrics will enable us to adapt and refine our business strategies in response to evolving customer behaviors and market dynamics."
   ]
  },
  {
   "cell_type": "markdown",
   "id": "c3eb3c05",
   "metadata": {},
   "source": [
    "### Transaction Frequency"
   ]
  },
  {
   "cell_type": "code",
   "execution_count": 7,
   "id": "ba964b09",
   "metadata": {},
   "outputs": [
    {
     "data": {
      "image/png": "[encoded data removed]",
      "text/plain": [
       "<Figure size 576x576 with 1 Axes>"
      ]
     },
     "metadata": {},
     "output_type": "display_data"
    }
   ],
   "source": [
    "#transaction frequency\n",
    "transaction_frequency = cleaned_data.groupby('CustomerID')['InvoiceNo'].nunique()\n",
    "\n",
    "#define segments based on frequency\n",
    "bins = [0, 1, 5, 10, np.inf]\n",
    "labels = ['1', '2-5', '6-10', '11+']\n",
    "cleaned_data['TransactionFrequency'] = pd.cut(transaction_frequency, bins=bins, labels=labels)\n",
    "\n",
    "#analyze each segment\n",
    "segment_counts = cleaned_data['TransactionFrequency'].value_counts()\n",
    "\n",
    "#plot pie chart\n",
    "plt.figure(figsize=(8, 8))\n",
    "plt.pie(segment_counts, labels=labels, autopct='%1.1f%%', startangle=90, colors=['lightcoral', 'peachpuff', 'lightskyblue', 'lightgreen'])\n",
    "plt.title('Customer Segmentation by Transaction Frequency')\n",
    "plt.show()"
   ]
  },
  {
   "cell_type": "markdown",
   "id": "d915964a",
   "metadata": {},
   "source": [
    "The analysis initiates with an exploration of transaction frequency, wherein customers are categorized into groups based on the number of transactions. Notably, 45.5% of customers make a single purchase, 34.4% engage in 2-5 transactions, 12.3% exhibit 6-10 transactions, and 7.8% are characterized by 11 or more transactions. This segmentation provides valuable insights into the distribution of customer engagement levels, laying the groundwork for a more detailed investigation into the behaviors and preferences of distinct customer segments.\n",
    "\n",
    "1. **Majority of One-Time Buyers:** The significant percentage (45.5%) of customers making a single purchase suggests a substantial portion of the customer base engages in isolated transactions. Understanding the characteristics and preferences of this group may uncover opportunities for targeted promotions or incentives to encourage repeat business.\n",
    "\n",
    "2. **Potential for Loyalty Programs:** The 12.3% of customers exhibiting 6-10 transactions indicate a group with higher-than-average engagement. Exploring this segment further can reveal patterns of loyalty and potential interest in loyalty programs, encouraging sustained customer relationships.\n",
    "\n",
    "3. **Diverse Engagement Levels Across Segments:** The segmented analysis highlights a spectrum of customer engagement levels, ranging from one-time buyers to those making 11 or more transactions. This diversity suggests that implementing a one-size-fits-all approach to marketing and customer engagement may not be optimal. Instead, tailoring strategies based on the distinct needs and preferences within each segment can lead to more effective and personalized interactions. \n",
    "\n",
    "Overall, this segmentation provides a foundation for deeper investigations into the behaviors and preferences of distinct customer segments. It can guide targeted marketing strategies, customer retention initiatives, and the development of personalized approaches to enhance the overall customer experience.\n"
   ]
  },
  {
   "cell_type": "markdown",
   "id": "93e83aec",
   "metadata": {},
   "source": [
    "### Top Customers"
   ]
  },
  {
   "cell_type": "code",
   "execution_count": 8,
   "id": "056a9399",
   "metadata": {},
   "outputs": [
    {
     "data": {
      "text/plain": [
       "CustomerID\n",
       "14646.0    280206.02\n",
       "18102.0    259657.30\n",
       "17450.0    194390.79\n",
       "16446.0    168472.50\n",
       "14911.0    143711.17\n",
       "12415.0    124914.53\n",
       "14156.0    117210.08\n",
       "17511.0     91062.38\n",
       "16029.0     80850.84\n",
       "12346.0     77183.60\n",
       "Name: TotalPrice, dtype: float64"
      ]
     },
     "execution_count": 8,
     "metadata": {},
     "output_type": "execute_result"
    }
   ],
   "source": [
    "#total spending per customer\n",
    "total_spending = cleaned_data.groupby('CustomerID')['TotalPrice'].sum()\n",
    "\n",
    "#orting to get top customers\n",
    "top_customers = total_spending.sort_values(ascending=False).head(10)\n",
    "top_customers"
   ]
  },
  {
   "cell_type": "markdown",
   "id": "aab2229a",
   "metadata": {},
   "source": [
    "Identifying the top customers within our dataset provides profound insights into the dynamics of customer spending. The process involves calculating the total spending per customer and sorting the data to unveil the customers who contribute significantly to our revenue. In this context, the code snippet computes the total spending for each customer and identifies the top 10 customers based on their spending amounts. Delving into the spending patterns of these top customers reveals valuable information about their preferences, favored product categories, and overall purchasing behavior. These insights not only aid in recognizing and appreciating our most valuable clientele but also lay the groundwork for personalized marketing approaches, loyalty programs, and tailored services. \n",
    "\n",
    "By understanding the most purchased products by these high-value customers, the company can refine its offerings to better meet the specific needs and preferences of its most valued clientele, fostering stronger and more profitable customer relationships."
   ]
  },
  {
   "cell_type": "code",
   "execution_count": 9,
   "id": "b40cad05",
   "metadata": {},
   "outputs": [
    {
     "name": "stdout",
     "output_type": "stream",
     "text": [
      "\n",
      "Top Ten Most Purchased Products and Their Costs by Each Top Customer:\n",
      "Description\n",
      "MEDIUM CERAMIC TOP STORAGE JAR     25729.533333\n",
      "PICNIC BASKET WICKER 60 PIECES     19809.750000\n",
      "EMPIRE DESIGN ROSETTE               3202.920000\n",
      "SMALL POPCORN HOLDER                3096.000000\n",
      "VINTAGE DOILY JUMBO BAG RED         1352.900000\n",
      "DOORMAT FAIRY CAKE                   992.138889\n",
      "METAL SIGN TAKE IT OR LEAVE IT       978.525000\n",
      "Manual                               740.389750\n",
      "RED  HARMONICA IN BOX                635.387500\n",
      "GLASS CLOCHE LARGE                   550.800000\n",
      "Name: TotalPrice, dtype: float64\n"
     ]
    }
   ],
   "source": [
    "#store the most purchased product and its cost for each top customer\n",
    "most_purchased_product_info = cleaned_data.groupby('CustomerID').apply(lambda x: x.loc[x['Description'] == x['Description'].mode().iloc[0], ['Description', 'TotalPrice']])\n",
    "most_purchased_product_info.reset_index(drop=True, inplace=True)\n",
    "\n",
    "#display the top ten most purchased products and their costs for each top customer\n",
    "top_ten_most_purchased = most_purchased_product_info.groupby('Description')['TotalPrice'].mean().sort_values(ascending=False).head(10)\n",
    "print(\"\\nTop Ten Most Purchased Products and Their Costs by Each Top Customer:\")\n",
    "print(top_ten_most_purchased)"
   ]
  },
  {
   "cell_type": "markdown",
   "id": "1afafa4a",
   "metadata": {},
   "source": [
    "It appears that these customers are categorized as \"top customers\" primarily because of their substantial purchases of high-value items.\n",
    "\n",
    "---"
   ]
  },
  {
   "cell_type": "markdown",
   "id": "7810b716",
   "metadata": {},
   "source": [
    "## III. Product Analysis"
   ]
  },
  {
   "cell_type": "markdown",
   "id": "22b348d5",
   "metadata": {},
   "source": [
    "As the project delves into the data, the objective is to uncover patterns that illuminate the most popular and lucrative products within the inventory. By analyzing the quantity sold, the aim is to recognize the products that resonate most with customers in terms of demand and popularity. Simultaneously, delving into revenue figures provides a deeper understanding of the financial impact of each product, offering insights into profitability and overall market value."
   ]
  },
  {
   "cell_type": "code",
   "execution_count": 10,
   "id": "ecfd005f",
   "metadata": {},
   "outputs": [
    {
     "name": "stdout",
     "output_type": "stream",
     "text": [
      "Number of products: 3665\n"
     ]
    }
   ],
   "source": [
    "#unique Products\n",
    "print(\"Number of products:\",cleaned_data['StockCode'].nunique())"
   ]
  },
  {
   "cell_type": "markdown",
   "id": "7d9664fb",
   "metadata": {},
   "source": [
    "The analysis begins by calculating the number of unique product, revealing a total of 3665  to be the focus of our examination. This sizable product base sets the foundation for a comprehensive exploration of purchasing behavior, preferences."
   ]
  },
  {
   "cell_type": "markdown",
   "id": "cdeae1bc",
   "metadata": {},
   "source": [
    "### Top Products by Quantity Sold"
   ]
  },
  {
   "cell_type": "code",
   "execution_count": 11,
   "id": "bbb3fb93",
   "metadata": {},
   "outputs": [
    {
     "name": "stdout",
     "output_type": "stream",
     "text": [
      "Overall Total Quantity Sold: 5152002\n"
     ]
    },
    {
     "data": {
      "image/png": "[encoded data removed]",
      "text/plain": [
       "<Figure size 864x432 with 1 Axes>"
      ]
     },
     "metadata": {
      "needs_background": "light"
     },
     "output_type": "display_data"
    }
   ],
   "source": [
    "#calculate total quantity sold for the entire dataset\n",
    "total_quantity = cleaned_data['Quantity'].sum()\n",
    "\n",
    "#print the total quantity\n",
    "print(f\"Overall Total Quantity Sold: {total_quantity}\")\n",
    "\n",
    "\n",
    "#top 10 products by quantity sold\n",
    "top_products_quantity = cleaned_data.groupby('Description')['Quantity'].sum().sort_values(ascending=False).head(10)\n",
    "\n",
    "#bar chart for top products by quantity\n",
    "plt.figure(figsize=(12, 6))\n",
    "top_products_quantity.plot(kind='bar', color='lightcoral')\n",
    "plt.title('Top 10 Products by Quantity Sold')\n",
    "plt.xlabel('Product Description')\n",
    "plt.ylabel('Quantity Sold')\n",
    "plt.show()"
   ]
  },
  {
   "cell_type": "markdown",
   "id": "792fa90a",
   "metadata": {},
   "source": [
    "Identifying top-selling products by quantity provides valuable insights into consumer preferences and market demand. This analysis not only highlights items with the highest sales volume but also uncovers products that resonate most with customers. Businesses can strategically manage inventory, ensuring popular items are well-stocked, and tailor marketing campaigns to proven audience favorites. This information forms a foundation for strategic decision-making, influencing product development, pricing strategies, and overall business growth. It offers actionable intelligence to optimize operations and enhance the overall customer experience by aligning product offerings with consumer behavior."
   ]
  },
  {
   "cell_type": "markdown",
   "id": "4a589031",
   "metadata": {},
   "source": [
    "### Top Product by Revenue Generated"
   ]
  },
  {
   "cell_type": "code",
   "execution_count": 12,
   "id": "8bf19b52",
   "metadata": {},
   "outputs": [
    {
     "name": "stdout",
     "output_type": "stream",
     "text": [
      "Overall Total Revenue: 8887208.89\n"
     ]
    },
    {
     "data": {
      "image/png": "[encoded data removed]",
      "text/plain": [
       "<Figure size 864x432 with 1 Axes>"
      ]
     },
     "metadata": {
      "needs_background": "light"
     },
     "output_type": "display_data"
    }
   ],
   "source": [
    "#calculate total revenue for the entire dataset\n",
    "total_revenue = cleaned_data['TotalPrice'].sum()\n",
    "\n",
    "#print the total revenue\n",
    "print(f\"Overall Total Revenue: {total_revenue:.2f}\")\n",
    "\n",
    "#top 10 products by total revenue\n",
    "top_products_revenue = cleaned_data.groupby('Description')['TotalPrice'].sum().sort_values(ascending=False).head(10)\n",
    "\n",
    "#bar chart for top products by revenue\n",
    "plt.figure(figsize=(12, 6))\n",
    "top_products_revenue.plot(kind='bar', color='skyblue')\n",
    "plt.title('Top 10 Products by Total Revenue')\n",
    "plt.xlabel('Product Description')\n",
    "plt.ylabel('Total Revenue')\n",
    "plt.show()"
   ]
  },
  {
   "cell_type": "markdown",
   "id": "d2003cd1",
   "metadata": {},
   "source": [
    "Identifying top products by revenue provides crucial insights for strategic decision-making. This analysis offers a nuanced understanding of each product's financial impact, guiding businesses to recognize both popular items and those with the highest profitability. By prioritizing revenue, companies can optimize pricing strategies and allocate resources effectively, ensuring products align with market value and generate optimal returns. This approach facilitates a balanced and data-driven product management strategy, aligning offerings with both customer preferences and financial objectives.\n",
    "\n",
    "---"
   ]
  },
  {
   "cell_type": "markdown",
   "id": "4cbf3a24",
   "metadata": {},
   "source": [
    "## IV. Temporal Analysis"
   ]
  },
  {
   "cell_type": "markdown",
   "id": "cb10ac2b",
   "metadata": {},
   "source": [
    "This investigation delves into the ebb and flow of sales on a monthly, day-of-week, and hourly basis, providing invaluable insights into the temporal dynamics of the business. The objective is to uncover patterns that illuminate peak activity periods and potential areas for optimization. The analysis of monthly sales offers a broad perspective on long-term trends, while the examination of day-of-week and hourly sales provides a granular understanding of daily and hourly variations."
   ]
  },
  {
   "cell_type": "markdown",
   "id": "628d813c",
   "metadata": {},
   "source": [
    "### Monthly Sale Trends"
   ]
  },
  {
   "cell_type": "code",
   "execution_count": 13,
   "id": "e86c66a8",
   "metadata": {},
   "outputs": [
    {
     "data": {
      "image/png": "[encoded data removed]",
      "text/plain": [
       "<Figure size 720x432 with 1 Axes>"
      ]
     },
     "metadata": {
      "needs_background": "light"
     },
     "output_type": "display_data"
    }
   ],
   "source": [
    "#monthly sales trends\n",
    "monthly_sales = cleaned_data.groupby('Month')['Quantity'].sum()\n",
    "\n",
    "#set month names as index\n",
    "monthly_sales.index = ['January', 'February', 'March', 'April', 'May', 'June', 'July', 'August', 'September', 'October', 'November', 'December']\n",
    "\n",
    "#plotting the bar graph\n",
    "plt.figure(figsize=(10, 6))\n",
    "monthly_sales.plot(kind='bar', color='lightcoral')\n",
    "plt.title('Monthly Sales Trends')\n",
    "plt.xlabel('Month')\n",
    "plt.ylabel('Total Quantity Sold')\n",
    "plt.show()"
   ]
  },
  {
   "cell_type": "markdown",
   "id": "d753ef6b",
   "metadata": {},
   "source": [
    "Monthly trends reveal a noticeable surge in purchasing activity during the months leading up to December and in December itself. This surge is reasonably attributed to the Christmas season, a period traditionally associated with increased shopping and gift-giving.\n",
    "\n",
    "\n",
    "Armed with the insight into peak purchasing during the months leading to December, and particularly in December itself, the company can strategize and tailor its operations in several ways:\n",
    "\n",
    "1. **Optimized Inventory Management:** Anticipate increased demand during the holiday season and adjust inventory levels accordingly to prevent stockouts and ensure products are readily available.\n",
    "\n",
    "2. **Marketing and Promotions:** Plan targeted marketing campaigns and promotions leading up to and during December, capitalizing on the heightened purchasing behavior during the Christmas season.\n",
    "\n",
    "3. **Supply Chain Planning:** Collaborate with suppliers and optimize supply chain logistics to handle increased demand efficiently and minimize potential disruptions.\n",
    "\n",
    "4. **Customer Engagement:** Enhance customer engagement by creating festive and appealing shopping experiences, leveraging holiday-themed content, and possibly introducing loyalty programs or exclusive offers.\n",
    "\n",
    "5. **Post-Holiday Strategies:** Develop strategies to retain customers and sustain sales momentum post-holiday, possibly through follow-up promotions, loyalty programs, or personalized marketing.\n",
    "\n",
    "By leveraging this information strategically, the company can not only capitalize on the Christmas season but also foster long-term customer relationships and optimize its overall business performance."
   ]
  },
  {
   "cell_type": "markdown",
   "id": "fd27df6f",
   "metadata": {},
   "source": [
    "### Day of Week Sales Trends"
   ]
  },
  {
   "cell_type": "code",
   "execution_count": 14,
   "id": "044f5a73",
   "metadata": {},
   "outputs": [
    {
     "data": {
      "image/png": "[encoded data removed]",
      "text/plain": [
       "<Figure size 720x432 with 1 Axes>"
      ]
     },
     "metadata": {
      "needs_background": "light"
     },
     "output_type": "display_data"
    }
   ],
   "source": [
    "#day of week sales trends\n",
    "daily_sales = cleaned_data.groupby('Day')['Quantity'].sum()\n",
    "\n",
    "#bar chart for daily sales trends\n",
    "plt.figure(figsize=(10, 6))\n",
    "daily_sales.plot(kind='bar', color='lightskyblue')\n",
    "plt.title('Day of Week Sales Trends')\n",
    "plt.xlabel('Day of the Week')\n",
    "plt.ylabel('Quantity Sold')\n",
    "\n",
    "#set xticks with specified labels\n",
    "plt.xticks(range(7), ['Mon', 'Tue', 'Wed', 'Thu', 'Fri', 'Sat', 'Sun'], rotation=0)\n",
    "\n",
    "plt.show()\n"
   ]
  },
  {
   "cell_type": "markdown",
   "id": "0be25b4c",
   "metadata": {},
   "source": [
    "The daily sales trends depict consistent purchasing activity throughout the week, with a notable peak on Thursday followed by a decline on Friday, and a further decrease on Saturday. Interestingly, no sales are recorded on Sunday, suggesting a strategic approach aligned with the observed trends.\n",
    "\n",
    "\n",
    "The observed daily sales trends can offer several valuable insights for strategic decision-making:\n",
    "\n",
    "1. **Optimal Staffing and Resource Allocation:** Adjust staffing levels based on the observed trends, ensuring that resources are optimized during peak days like Thursday and scaled down during lower sales periods on Friday and Saturday.\n",
    "\n",
    "2. **Marketing and Promotions:** Concentrate marketing efforts and promotional activities on Thursdays to capitalize on the peak in purchasing behavior. Consider introducing special promotions or incentives to boost sales during the observed slower days.\n",
    "\n",
    "3. **Inventory Management:** Align inventory management strategies with the observed trends. Ensure that stock levels are adjusted to meet increased demand on Thursdays and are managed efficiently during the slower days to avoid overstock.\n",
    "\n",
    "By leveraging these insights, businesses can make informed decisions to enhance customer satisfaction, streamline operations, and maximize revenue opportunities in alignment with observed daily sales trends.\n"
   ]
  },
  {
   "cell_type": "markdown",
   "id": "c35bb6a4",
   "metadata": {},
   "source": [
    "### Hourly Sales Trends"
   ]
  },
  {
   "cell_type": "code",
   "execution_count": 15,
   "id": "c8f4289f",
   "metadata": {},
   "outputs": [
    {
     "data": {
      "image/png": "[encoded data removed]",
      "text/plain": [
       "<Figure size 720x432 with 1 Axes>"
      ]
     },
     "metadata": {
      "needs_background": "light"
     },
     "output_type": "display_data"
    }
   ],
   "source": [
    "#hourly sales trends\n",
    "hourly_sales = cleaned_data.groupby('Hour')['Quantity'].sum()\n",
    "\n",
    "#line chart for hourly sales trends\n",
    "plt.figure(figsize=(10, 6))\n",
    "hourly_sales.plot(kind='bar', color='lightgreen')\n",
    "plt.title('Hourly Sales Trends')\n",
    "plt.xlabel('Hour of the Day')\n",
    "plt.ylabel('Quantity Sold')\n",
    "plt.show()"
   ]
  },
  {
   "cell_type": "markdown",
   "id": "15726bc1",
   "metadata": {},
   "source": [
    "The hourly time analysis shows peak purchasing at noon and consistently high purchases from 9 AM to 3 PM. This is likely due to lunchtime shopping habits, where customers are actively making purchases during their midday breaks or leisure periods.\n",
    "\n",
    "Marketing strategies suggested based on day-of-week purchasing, such as optimal staffing, promotions, and inventory management, can also be more effectively employed during these peak hours.\n",
    "\n",
    "---"
   ]
  },
  {
   "cell_type": "markdown",
   "id": "49e12342",
   "metadata": {},
   "source": [
    "## V. Country Analysis"
   ]
  },
  {
   "cell_type": "markdown",
   "id": "8ea501c6",
   "metadata": {},
   "source": [
    "This phase entails a thorough examination of the geographical aspects within the Online Retail Dataset. The analysis comprehensively evaluates total sales, the number of customers, and average transaction values, providing insights into interactions and transactions. Notably, the dataset predominantly features transactions from the UK, reflecting its origin as a UK-based company. While this concentration offers valuable insights, it poses challenges in data visualization due to its dominance. A pivotal aspect of the analysis involves identifying instances when the UK's proportion is notably large, documenting these occurrences, and selectively excluding them from visualizations. This approach ensures a more nuanced and informative exploration of country-specific trends. Join the exploration as it navigates through the intricacies of geographical patterns, unraveling insights within the context of our UK-based online retail dataset."
   ]
  },
  {
   "cell_type": "markdown",
   "id": "34ce1843",
   "metadata": {},
   "source": [
    "### Top Countries by Total Sales"
   ]
  },
  {
   "cell_type": "code",
   "execution_count": 16,
   "id": "846d8a95",
   "metadata": {},
   "outputs": [
    {
     "name": "stdout",
     "output_type": "stream",
     "text": [
      "Country\n",
      "United Kingdom    7285024.644\n",
      "Netherlands        285446.340\n",
      "EIRE               265262.460\n",
      "Germany            228678.400\n",
      "France             208934.310\n",
      "Name: TotalPrice, dtype: float64\n"
     ]
    }
   ],
   "source": [
    "#group by 'Country' and calculate total sales\n",
    "country_sales = cleaned_data.groupby('Country')['TotalPrice'].sum()\n",
    "\n",
    "#sort the total sales\n",
    "sorted_country_sales = country_sales.sort_values(ascending=False)\n",
    "\n",
    "#display the top 5 countries by total sales\n",
    "top_5_country_sales = sorted_country_sales.head(5)\n",
    "print(top_5_country_sales)"
   ]
  },
  {
   "cell_type": "markdown",
   "id": "d5d8aa8f",
   "metadata": {},
   "source": [
    "The United Kingdom emerges as the frontrunner in top sales within this dataset. To ensure clarity and readability, the visualization intentionally excludes this dominant data."
   ]
  },
  {
   "cell_type": "code",
   "execution_count": 17,
   "id": "0890fa53",
   "metadata": {},
   "outputs": [
    {
     "data": {
      "image/png": "[encoded data removed]",
      "text/plain": [
       "<Figure size 864x432 with 1 Axes>"
      ]
     },
     "metadata": {
      "needs_background": "light"
     },
     "output_type": "display_data"
    }
   ],
   "source": [
    "#exclude entries for the United Kingdom\n",
    "countries_excluding_uk = cleaned_data[cleaned_data['Country'] != 'United Kingdom']\n",
    "\n",
    "#group by 'Country' and calculate total sales\n",
    "country_sales_excluding_uk = countries_excluding_uk.groupby('Country')['TotalPrice'].sum()\n",
    "\n",
    "#bar chart for country-wise sales excluding the United Kingdom\n",
    "plt.figure(figsize=(12, 6))\n",
    "country_sales_excluding_uk.sort_values(ascending=False).plot(kind='bar', color='lightcoral')\n",
    "plt.title('Top Country by Sales (Excluding United Kingdom)')\n",
    "plt.xlabel('Country')\n",
    "plt.ylabel('Total Sales')\n",
    "plt.show()\n"
   ]
  },
  {
   "cell_type": "markdown",
   "id": "812e0a86",
   "metadata": {},
   "source": [
    "By discerning the top sales performers by country, a comprehensive understanding of each nation's contribution to the overall revenue is gained. Recognizing the key markets that exert a significant influence on the business's financial performance becomes paramount. This insight empowers the company to strategically prioritize marketing initiatives and retail allocation, encompassing the top-performing countries, including the UK."
   ]
  },
  {
   "cell_type": "markdown",
   "id": "f516c1fa",
   "metadata": {},
   "source": [
    "### Top Countries by Number of Customers"
   ]
  },
  {
   "cell_type": "code",
   "execution_count": 18,
   "id": "cd53ef98",
   "metadata": {},
   "outputs": [
    {
     "name": "stdout",
     "output_type": "stream",
     "text": [
      "Country\n",
      "United Kingdom    3920\n",
      "Germany             94\n",
      "France              87\n",
      "Spain               30\n",
      "Belgium             25\n",
      "Name: CustomerID, dtype: int64\n"
     ]
    }
   ],
   "source": [
    "#group by 'Country' and calculate the number of unique customers\n",
    "customer_count_per_country = cleaned_data.groupby('Country')['CustomerID'].nunique()\n",
    "\n",
    "#sort the customer counts\n",
    "sorted_customer_count = customer_count_per_country.sort_values(ascending=False)\n",
    "\n",
    "#display the top 5 countries by the number of unique customers\n",
    "top_5_customer_count = sorted_customer_count.head(5)\n",
    "print(top_5_customer_count)\n"
   ]
  },
  {
   "cell_type": "markdown",
   "id": "0c1c5fb6",
   "metadata": {},
   "source": [
    "The United Kingdom emerges as the frontrunner in highest number of customers within this dataset. To ensure clarity and readability, the visualization intentionally excludes this dominant data."
   ]
  },
  {
   "cell_type": "code",
   "execution_count": 19,
   "id": "9dbd01f4",
   "metadata": {},
   "outputs": [
    {
     "data": {
      "image/png": "[encoded data removed]",
      "text/plain": [
       "<Figure size 864x432 with 1 Axes>"
      ]
     },
     "metadata": {
      "needs_background": "light"
     },
     "output_type": "display_data"
    }
   ],
   "source": [
    "#group by 'Country' and calculate number of customers\n",
    "country_CID_excluding_uk = countries_excluding_uk.groupby('Country')['CustomerID'].sum()\n",
    "\n",
    "# Bar chart for number of customers excluding the United Kingdom\n",
    "plt.figure(figsize=(12, 6))\n",
    "country_CID_excluding_uk.sort_values(ascending=False).plot(kind='bar', color='lightskyblue')\n",
    "plt.title('Top Countries by Number of Customers (Excluding United Kingdom)')\n",
    "plt.xlabel('Country')\n",
    "plt.ylabel('Total Sales')\n",
    "plt.show()"
   ]
  },
  {
   "cell_type": "markdown",
   "id": "c75795c8",
   "metadata": {},
   "source": [
    "Gaining insights into the distribution of customers across various countries provides valuable observations for strategic decision-making. This analysis yields similar insights to those derived from examining top sales, emphasizing the importance of effective market penetration. Additionally, it pinpoints countries with the highest customer counts, indicating substantial potential for growth and opportunities for expanding sales in these regions."
   ]
  },
  {
   "cell_type": "markdown",
   "id": "c3180157",
   "metadata": {},
   "source": [
    "### Top Country by Average Transaction Value"
   ]
  },
  {
   "cell_type": "code",
   "execution_count": 20,
   "id": "9aa5be49",
   "metadata": {},
   "outputs": [
    {
     "name": "stdout",
     "output_type": "stream",
     "text": [
      "Country\n",
      "Netherlands    121.003111\n",
      "Australia      117.234386\n",
      "Japan          116.561900\n",
      "Singapore       95.852658\n",
      "Sweden          85.261844\n",
      "Name: TotalPrice, dtype: float64\n"
     ]
    }
   ],
   "source": [
    "#group by 'Country' and calculate the average transaction value\n",
    "avg_transaction_value = cleaned_data.groupby('Country')['TotalPrice'].mean()\n",
    "\n",
    "#sort the average transaction values\n",
    "sorted_avg_transaction_value = avg_transaction_value.sort_values(ascending=False)\n",
    "\n",
    "#display the top 5 countries by the average transaction value\n",
    "top_5_avg_transaction_value = sorted_avg_transaction_value.head(5)\n",
    "print(top_5_avg_transaction_value)\n"
   ]
  },
  {
   "cell_type": "markdown",
   "id": "bffaf4b6",
   "metadata": {},
   "source": [
    "Importantly, the UK does not exhibit a disproportionately high presence in this analysis, making it suitable for inclusion in the visualization."
   ]
  },
  {
   "cell_type": "code",
   "execution_count": 21,
   "id": "1d8813f6",
   "metadata": {},
   "outputs": [
    {
     "data": {
      "image/png": "[encoded data removed]",
      "text/plain": [
       "<Figure size 864x432 with 1 Axes>"
      ]
     },
     "metadata": {
      "needs_background": "light"
     },
     "output_type": "display_data"
    }
   ],
   "source": [
    "#calculate average transaction value per country\n",
    "avg_transaction_value = cleaned_data.groupby('Country')['TotalPrice'].mean()\n",
    "\n",
    "#bar chart for average transaction value per country\n",
    "plt.figure(figsize=(12, 6))\n",
    "avg_transaction_value.sort_values(ascending=False).plot(kind='bar', color='lightgreen')\n",
    "plt.title('Top Countries by Average Transaction Value')\n",
    "plt.xlabel('Country')\n",
    "plt.ylabel('Average Transaction Value')\n",
    "plt.show()"
   ]
  },
  {
   "cell_type": "markdown",
   "id": "03591083",
   "metadata": {},
   "source": [
    "Analyzing transaction values by country is crucial for strategic decision-making in online retail. Identifying key markets through understanding revenue distribution optimizes resource allocation. Recognizing countries with higher transaction values guides tailored marketing strategies. Comparing values across countries aids in effective competitive benchmarking, positioning businesses strategically in the global market. These insights empower businesses to elevate profitability, customer engagement, and competitiveness within the dynamic online retail landscape."
   ]
  },
  {
   "cell_type": "markdown",
   "id": "8f9c637e",
   "metadata": {},
   "source": [
    "### Top Country by Transaction Frequency"
   ]
  },
  {
   "cell_type": "code",
   "execution_count": 22,
   "id": "ce7fecd8",
   "metadata": {},
   "outputs": [
    {
     "name": "stdout",
     "output_type": "stream",
     "text": [
      "Country\n",
      "United Kingdom    16646\n",
      "Germany             457\n",
      "France              389\n",
      "EIRE                260\n",
      "Belgium              98\n",
      "Name: InvoiceNo, dtype: int64\n"
     ]
    }
   ],
   "source": [
    "#count transaction frequency per country\n",
    "transaction_frequency = cleaned_data.groupby('Country')['InvoiceNo'].nunique()\n",
    "\n",
    "#sort the transaction frequencies\n",
    "sorted_transaction_frequency = transaction_frequency.sort_values(ascending=False)\n",
    "\n",
    "#display the top 5 transaction frequencies\n",
    "top_5_transaction_frequency = sorted_transaction_frequency.head(5)\n",
    "print(top_5_transaction_frequency)"
   ]
  },
  {
   "cell_type": "markdown",
   "id": "d43f57a2",
   "metadata": {},
   "source": [
    "The United Kingdom emerges as the frontrunner in highest transaction frequency within this dataset. To ensure clarity and readability, the visualization intentionally excludes this dominant data."
   ]
  },
  {
   "cell_type": "code",
   "execution_count": 23,
   "id": "b0052128",
   "metadata": {},
   "outputs": [
    {
     "data": {
      "image/png": "[encoded data removed]",
      "text/plain": [
       "<Figure size 864x432 with 1 Axes>"
      ]
     },
     "metadata": {
      "needs_background": "light"
     },
     "output_type": "display_data"
    }
   ],
   "source": [
    "#group by 'Country' and calculate total sales\n",
    "country_IN_excluding_uk = countries_excluding_uk.groupby('Country')['InvoiceNo'].sum()\n",
    "\n",
    "#bar chart for country-wise sales excluding the United Kingdom\n",
    "plt.figure(figsize=(12, 6))\n",
    "country_IN_excluding_uk.sort_values(ascending=False).plot(kind='bar', color='peachpuff')\n",
    "plt.title('Top Country by Transaction Frequency (Excluding United Kingdom)')\n",
    "plt.xlabel('Country')\n",
    "plt.ylabel('InvoiceNo')\n",
    "plt.show()\n"
   ]
  },
  {
   "cell_type": "markdown",
   "id": "134522a0",
   "metadata": {},
   "source": [
    "Showcasing the top country by transaction frequency offers insights into customer behavior, loyalty, and market dynamics. This information can inform various business strategies, including marketing, inventory management, and overall market expansion efforts."
   ]
  },
  {
   "cell_type": "markdown",
   "id": "bad1835c",
   "metadata": {},
   "source": [
    "### Overall Top Country Analysis"
   ]
  },
  {
   "cell_type": "markdown",
   "id": "112bf43b",
   "metadata": {},
   "source": [
    "Overall, the company stands to benefit significantly by concentrating its transaction-focused efforts primarily in the UK, with additional strategic emphasis on Germany, France, Ireland (EIRE), and Spain. Prioritizing marketing strategies tailored to these top-performing countries is crucial to maximize overall effectiveness and yield the most favorable results.\n",
    "\n",
    "---"
   ]
  },
  {
   "cell_type": "markdown",
   "id": "fae8087f",
   "metadata": {},
   "source": [
    "## VI. Canceled Orders  "
   ]
  },
  {
   "cell_type": "markdown",
   "id": "c928c4b6",
   "metadata": {},
   "source": [
    "### Overview of Canceled Orders Characteristics"
   ]
  },
  {
   "cell_type": "markdown",
   "id": "ccaa1fe2",
   "metadata": {},
   "source": [
    "After segregating the canceled orders into this dataset, an extensive cleaning process was conducted in the Online Retail Data Cleaning Notebook. Furthermore, various crucial features were integrated to enhance the dataset, laying the groundwork for a more insightful and comprehensive analysis in subsequent phases. This preparatory step guarantees that the dataset is well-prepared for a detailed exploration of customer behavior, product dynamics, time trends, and country-specific insights during the Exploratory Data Analysis (EDA) phase.\n",
    "\n",
    "The only distinctive attribute deviating from the cleaned_data is that **IsRepeatCustomer** has been replaced with **RepeatCanceled** in the modified dataset.\n",
    "\n",
    "- **RepeatCanceled:** Binary flag, indicating whether a customer has made more than one cancelation ('True') or only a single cancelation ('False')."
   ]
  },
  {
   "cell_type": "markdown",
   "id": "e3d1e859",
   "metadata": {},
   "source": [
    "Before delving into more specific analyses, a pause is taken to examine the cleaned_canceled dataset and its fundamental features. This initial exploration is designed to provide a snapshot of the dataset's characteristics, enabling a quick understanding of its structure and distribution. By inspecting basic features, the stage is set for a more in-depth exploration, facilitating the extraction of meaningful insights during the subsequent phases of the analysis."
   ]
  },
  {
   "cell_type": "code",
   "execution_count": 30,
   "id": "b2d78f80",
   "metadata": {},
   "outputs": [
    {
     "data": {
      "text/html": [
       "<div>\n",
       "<style scoped>\n",
       "    .dataframe tbody tr th:only-of-type {\n",
       "        vertical-align: middle;\n",
       "    }\n",
       "\n",
       "    .dataframe tbody tr th {\n",
       "        vertical-align: top;\n",
       "    }\n",
       "\n",
       "    .dataframe thead th {\n",
       "        text-align: right;\n",
       "    }\n",
       "</style>\n",
       "<table border=\"1\" class=\"dataframe\">\n",
       "  <thead>\n",
       "    <tr style=\"text-align: right;\">\n",
       "      <th></th>\n",
       "      <th>InvoiceNo</th>\n",
       "      <th>StockCode</th>\n",
       "      <th>Description</th>\n",
       "      <th>Quantity</th>\n",
       "      <th>InvoiceDate</th>\n",
       "      <th>UnitPrice</th>\n",
       "      <th>CustomerID</th>\n",
       "      <th>Country</th>\n",
       "      <th>TotalPrice</th>\n",
       "      <th>Hour</th>\n",
       "      <th>Day</th>\n",
       "      <th>Month</th>\n",
       "      <th>RepeatCanceled</th>\n",
       "    </tr>\n",
       "  </thead>\n",
       "  <tbody>\n",
       "    <tr>\n",
       "      <th>0</th>\n",
       "      <td>C536383</td>\n",
       "      <td>35004C</td>\n",
       "      <td>SET OF 3 COLOURED  FLYING DUCKS</td>\n",
       "      <td>-1</td>\n",
       "      <td>2010-12-01 09:49:00</td>\n",
       "      <td>4.65</td>\n",
       "      <td>15311.0</td>\n",
       "      <td>United Kingdom</td>\n",
       "      <td>-4.65</td>\n",
       "      <td>9</td>\n",
       "      <td>2</td>\n",
       "      <td>12</td>\n",
       "      <td>True</td>\n",
       "    </tr>\n",
       "    <tr>\n",
       "      <th>1</th>\n",
       "      <td>C536391</td>\n",
       "      <td>22556</td>\n",
       "      <td>PLASTERS IN TIN CIRCUS PARADE</td>\n",
       "      <td>-12</td>\n",
       "      <td>2010-12-01 10:24:00</td>\n",
       "      <td>1.65</td>\n",
       "      <td>17548.0</td>\n",
       "      <td>United Kingdom</td>\n",
       "      <td>-19.80</td>\n",
       "      <td>10</td>\n",
       "      <td>2</td>\n",
       "      <td>12</td>\n",
       "      <td>True</td>\n",
       "    </tr>\n",
       "    <tr>\n",
       "      <th>2</th>\n",
       "      <td>C536391</td>\n",
       "      <td>21984</td>\n",
       "      <td>PACK OF 12 PINK PAISLEY TISSUES</td>\n",
       "      <td>-24</td>\n",
       "      <td>2010-12-01 10:24:00</td>\n",
       "      <td>0.29</td>\n",
       "      <td>17548.0</td>\n",
       "      <td>United Kingdom</td>\n",
       "      <td>-6.96</td>\n",
       "      <td>10</td>\n",
       "      <td>2</td>\n",
       "      <td>12</td>\n",
       "      <td>True</td>\n",
       "    </tr>\n",
       "    <tr>\n",
       "      <th>3</th>\n",
       "      <td>C536391</td>\n",
       "      <td>21983</td>\n",
       "      <td>PACK OF 12 BLUE PAISLEY TISSUES</td>\n",
       "      <td>-24</td>\n",
       "      <td>2010-12-01 10:24:00</td>\n",
       "      <td>0.29</td>\n",
       "      <td>17548.0</td>\n",
       "      <td>United Kingdom</td>\n",
       "      <td>-6.96</td>\n",
       "      <td>10</td>\n",
       "      <td>2</td>\n",
       "      <td>12</td>\n",
       "      <td>True</td>\n",
       "    </tr>\n",
       "    <tr>\n",
       "      <th>4</th>\n",
       "      <td>C536391</td>\n",
       "      <td>21980</td>\n",
       "      <td>PACK OF 12 RED RETROSPOT TISSUES</td>\n",
       "      <td>-24</td>\n",
       "      <td>2010-12-01 10:24:00</td>\n",
       "      <td>0.29</td>\n",
       "      <td>17548.0</td>\n",
       "      <td>United Kingdom</td>\n",
       "      <td>-6.96</td>\n",
       "      <td>10</td>\n",
       "      <td>2</td>\n",
       "      <td>12</td>\n",
       "      <td>True</td>\n",
       "    </tr>\n",
       "  </tbody>\n",
       "</table>\n",
       "</div>"
      ],
      "text/plain": [
       "  InvoiceNo StockCode                        Description  Quantity  \\\n",
       "0   C536383    35004C    SET OF 3 COLOURED  FLYING DUCKS        -1   \n",
       "1   C536391     22556     PLASTERS IN TIN CIRCUS PARADE        -12   \n",
       "2   C536391     21984   PACK OF 12 PINK PAISLEY TISSUES        -24   \n",
       "3   C536391     21983   PACK OF 12 BLUE PAISLEY TISSUES        -24   \n",
       "4   C536391     21980  PACK OF 12 RED RETROSPOT TISSUES        -24   \n",
       "\n",
       "           InvoiceDate  UnitPrice  CustomerID         Country  TotalPrice  \\\n",
       "0  2010-12-01 09:49:00       4.65     15311.0  United Kingdom       -4.65   \n",
       "1  2010-12-01 10:24:00       1.65     17548.0  United Kingdom      -19.80   \n",
       "2  2010-12-01 10:24:00       0.29     17548.0  United Kingdom       -6.96   \n",
       "3  2010-12-01 10:24:00       0.29     17548.0  United Kingdom       -6.96   \n",
       "4  2010-12-01 10:24:00       0.29     17548.0  United Kingdom       -6.96   \n",
       "\n",
       "   Hour  Day  Month  RepeatCanceled  \n",
       "0     9    2     12            True  \n",
       "1    10    2     12            True  \n",
       "2    10    2     12            True  \n",
       "3    10    2     12            True  \n",
       "4    10    2     12            True  "
      ]
     },
     "execution_count": 30,
     "metadata": {},
     "output_type": "execute_result"
    }
   ],
   "source": [
    "# Define the relative path to the data folder and the CSV file\n",
    "data_relative_path = os.path.join('Data', 'CleanedCanceled.csv')\n",
    "\n",
    "# Construct the absolute path to the CSV file\n",
    "data_path = os.path.join(os.getcwd(), data_relative_path)\n",
    "\n",
    "# Read the CSV file into a Pandas DataFrame\n",
    "cleaned_canceled = pd.read_csv(data_path, encoding='latin1')\n",
    "\n",
    "cleaned_canceled.head(5)"
   ]
  },
  {
   "cell_type": "code",
   "execution_count": 25,
   "id": "d0e676d8",
   "metadata": {},
   "outputs": [
    {
     "name": "stdout",
     "output_type": "stream",
     "text": [
      "<class 'pandas.core.frame.DataFrame'>\n",
      "RangeIndex: 8507 entries, 0 to 8506\n",
      "Data columns (total 13 columns):\n",
      " #   Column          Non-Null Count  Dtype  \n",
      "---  ------          --------------  -----  \n",
      " 0   InvoiceNo       8507 non-null   object \n",
      " 1   StockCode       8507 non-null   object \n",
      " 2   Description     8507 non-null   object \n",
      " 3   Quantity        8507 non-null   int64  \n",
      " 4   InvoiceDate     8507 non-null   object \n",
      " 5   UnitPrice       8507 non-null   float64\n",
      " 6   CustomerID      8507 non-null   float64\n",
      " 7   Country         8507 non-null   object \n",
      " 8   TotalPrice      8507 non-null   float64\n",
      " 9   Hour            8507 non-null   int64  \n",
      " 10  Day             8507 non-null   int64  \n",
      " 11  Month           8507 non-null   int64  \n",
      " 12  RepeatCanceled  8507 non-null   bool   \n",
      "dtypes: bool(1), float64(3), int64(4), object(5)\n",
      "memory usage: 806.0+ KB\n"
     ]
    }
   ],
   "source": [
    "#view data information\n",
    "cleaned_canceled.info()"
   ]
  },
  {
   "cell_type": "code",
   "execution_count": 26,
   "id": "f10802b8",
   "metadata": {},
   "outputs": [
    {
     "data": {
      "text/html": [
       "<div>\n",
       "<style scoped>\n",
       "    .dataframe tbody tr th:only-of-type {\n",
       "        vertical-align: middle;\n",
       "    }\n",
       "\n",
       "    .dataframe tbody tr th {\n",
       "        vertical-align: top;\n",
       "    }\n",
       "\n",
       "    .dataframe thead th {\n",
       "        text-align: right;\n",
       "    }\n",
       "</style>\n",
       "<table border=\"1\" class=\"dataframe\">\n",
       "  <thead>\n",
       "    <tr style=\"text-align: right;\">\n",
       "      <th></th>\n",
       "      <th>Quantity</th>\n",
       "      <th>UnitPrice</th>\n",
       "      <th>CustomerID</th>\n",
       "      <th>TotalPrice</th>\n",
       "      <th>Hour</th>\n",
       "      <th>Day</th>\n",
       "      <th>Month</th>\n",
       "    </tr>\n",
       "  </thead>\n",
       "  <tbody>\n",
       "    <tr>\n",
       "      <th>count</th>\n",
       "      <td>8507.000000</td>\n",
       "      <td>8507.000000</td>\n",
       "      <td>8507.000000</td>\n",
       "      <td>8507.000000</td>\n",
       "      <td>8507.000000</td>\n",
       "      <td>8507.000000</td>\n",
       "      <td>8507.000000</td>\n",
       "    </tr>\n",
       "    <tr>\n",
       "      <th>mean</th>\n",
       "      <td>-31.469613</td>\n",
       "      <td>4.445504</td>\n",
       "      <td>14994.950159</td>\n",
       "      <td>-55.460293</td>\n",
       "      <td>13.164570</td>\n",
       "      <td>2.246738</td>\n",
       "      <td>7.313742</td>\n",
       "    </tr>\n",
       "    <tr>\n",
       "      <th>std</th>\n",
       "      <td>1196.981277</td>\n",
       "      <td>9.211853</td>\n",
       "      <td>1705.785987</td>\n",
       "      <td>2014.017603</td>\n",
       "      <td>2.725717</td>\n",
       "      <td>1.567852</td>\n",
       "      <td>3.522652</td>\n",
       "    </tr>\n",
       "    <tr>\n",
       "      <th>min</th>\n",
       "      <td>-80995.000000</td>\n",
       "      <td>0.030000</td>\n",
       "      <td>12346.000000</td>\n",
       "      <td>-168469.600000</td>\n",
       "      <td>6.000000</td>\n",
       "      <td>0.000000</td>\n",
       "      <td>1.000000</td>\n",
       "    </tr>\n",
       "    <tr>\n",
       "      <th>25%</th>\n",
       "      <td>-6.000000</td>\n",
       "      <td>1.450000</td>\n",
       "      <td>13523.000000</td>\n",
       "      <td>-16.600000</td>\n",
       "      <td>11.000000</td>\n",
       "      <td>1.000000</td>\n",
       "      <td>4.000000</td>\n",
       "    </tr>\n",
       "    <tr>\n",
       "      <th>50%</th>\n",
       "      <td>-2.000000</td>\n",
       "      <td>2.550000</td>\n",
       "      <td>14901.000000</td>\n",
       "      <td>-8.300000</td>\n",
       "      <td>13.000000</td>\n",
       "      <td>2.000000</td>\n",
       "      <td>8.000000</td>\n",
       "    </tr>\n",
       "    <tr>\n",
       "      <th>75%</th>\n",
       "      <td>-1.000000</td>\n",
       "      <td>4.950000</td>\n",
       "      <td>16393.000000</td>\n",
       "      <td>-3.300000</td>\n",
       "      <td>15.000000</td>\n",
       "      <td>3.000000</td>\n",
       "      <td>10.000000</td>\n",
       "    </tr>\n",
       "    <tr>\n",
       "      <th>max</th>\n",
       "      <td>-1.000000</td>\n",
       "      <td>295.000000</td>\n",
       "      <td>18282.000000</td>\n",
       "      <td>-0.120000</td>\n",
       "      <td>20.000000</td>\n",
       "      <td>6.000000</td>\n",
       "      <td>12.000000</td>\n",
       "    </tr>\n",
       "  </tbody>\n",
       "</table>\n",
       "</div>"
      ],
      "text/plain": [
       "           Quantity    UnitPrice    CustomerID     TotalPrice         Hour  \\\n",
       "count   8507.000000  8507.000000   8507.000000    8507.000000  8507.000000   \n",
       "mean     -31.469613     4.445504  14994.950159     -55.460293    13.164570   \n",
       "std     1196.981277     9.211853   1705.785987    2014.017603     2.725717   \n",
       "min   -80995.000000     0.030000  12346.000000 -168469.600000     6.000000   \n",
       "25%       -6.000000     1.450000  13523.000000     -16.600000    11.000000   \n",
       "50%       -2.000000     2.550000  14901.000000      -8.300000    13.000000   \n",
       "75%       -1.000000     4.950000  16393.000000      -3.300000    15.000000   \n",
       "max       -1.000000   295.000000  18282.000000      -0.120000    20.000000   \n",
       "\n",
       "               Day        Month  \n",
       "count  8507.000000  8507.000000  \n",
       "mean      2.246738     7.313742  \n",
       "std       1.567852     3.522652  \n",
       "min       0.000000     1.000000  \n",
       "25%       1.000000     4.000000  \n",
       "50%       2.000000     8.000000  \n",
       "75%       3.000000    10.000000  \n",
       "max       6.000000    12.000000  "
      ]
     },
     "execution_count": 26,
     "metadata": {},
     "output_type": "execute_result"
    }
   ],
   "source": [
    "#quantitative data\n",
    "cleaned_canceled.describe()"
   ]
  },
  {
   "cell_type": "markdown",
   "id": "77662918",
   "metadata": {},
   "source": [
    "### Cancelation Frequency"
   ]
  },
  {
   "cell_type": "markdown",
   "id": "b07d1192",
   "metadata": {},
   "source": [
    "In the analysis of canceled orders, the process involves calculating the total number of unique customers and pinpointing repeat customers within cancellations. The resulting recancellation rate of 42.89% indicates that customers expressing dissatisfaction with one order are predisposed to encountering issues with subsequent orders as well."
   ]
  },
  {
   "cell_type": "code",
   "execution_count": 27,
   "id": "545cec81",
   "metadata": {},
   "outputs": [
    {
     "name": "stdout",
     "output_type": "stream",
     "text": [
      "Recancellation Rate: 42.89%\n"
     ]
    }
   ],
   "source": [
    "#calculate total customers\n",
    "total_customers = cleaned_canceled['CustomerID'].nunique()\n",
    "\n",
    "#calculate repeat customers\n",
    "repeat_customers = cleaned_canceled[cleaned_canceled['RepeatCanceled']]['CustomerID'].nunique()\n",
    "\n",
    "#calculate retention rate\n",
    "retention_rate = (repeat_customers / total_customers) * 100\n",
    "\n",
    "print(f'Recancellation Rate: {retention_rate:.2f}%')"
   ]
  },
  {
   "cell_type": "markdown",
   "id": "c66db60a",
   "metadata": {},
   "source": [
    "### Cancelation Rate"
   ]
  },
  {
   "cell_type": "markdown",
   "id": "f5542259",
   "metadata": {},
   "source": [
    "The objective here is to determine the percentage of canceled orders among the total. It's noteworthy that only 2.12% of all orders are canceled, indicating a favorable and low cancellation rate."
   ]
  },
  {
   "cell_type": "code",
   "execution_count": 28,
   "id": "65aee699",
   "metadata": {},
   "outputs": [
    {
     "name": "stdout",
     "output_type": "stream",
     "text": [
      "Total number of canceled orders: 8507\n",
      "Total number of orders: 401199\n",
      "Cancellation Ratio: 2.12%\n"
     ]
    }
   ],
   "source": [
    "#calculate total number of entries in cleaned_canceled\n",
    "total_entries_canceled = len(cleaned_canceled)\n",
    "\n",
    "#calculate total number of entries across both datasets\n",
    "total_entries_combined = len(pd.concat([cleaned_data, cleaned_canceled]))\n",
    "\n",
    "#calculate the ratio\n",
    "cancellation_ratio = total_entries_canceled / total_entries_combined\n",
    "\n",
    "#convert the ratio to a percentage\n",
    "cancellation_ratio_percent = cancellation_ratio * 100\n",
    "\n",
    "#display results\n",
    "print(f\"Total number of canceled orders: {total_entries_canceled}\")\n",
    "print(f\"Total number of orders: {total_entries_combined}\")\n",
    "print(f\"Cancellation Ratio: {cancellation_ratio_percent:.2f}%\")\n"
   ]
  },
  {
   "cell_type": "markdown",
   "id": "43e6b200",
   "metadata": {},
   "source": [
    "### Temporal Analysis: Monthly Cancelation"
   ]
  },
  {
   "cell_type": "markdown",
   "id": "93f48f65",
   "metadata": {},
   "source": [
    "The temporal analysis of monthly sales reveals a notable trend where customers are more inclined to cancel orders during December and January. This aligns with the holiday season, suggesting that factors related to increased demand, shipping delays, or other holiday-related considerations may contribute to a higher likelihood of cancellations during these months."
   ]
  },
  {
   "cell_type": "code",
   "execution_count": 29,
   "id": "33667cc8",
   "metadata": {},
   "outputs": [
    {
     "data": {
      "image/png": "[encoded data removed]",
      "text/plain": [
       "<Figure size 720x432 with 1 Axes>"
      ]
     },
     "metadata": {
      "needs_background": "light"
     },
     "output_type": "display_data"
    }
   ],
   "source": [
    "#calculate the monthly cancelations\n",
    "monthly_sales_abs = cleaned_canceled.groupby('Month')['Quantity'].sum().abs()\n",
    "\n",
    "#set month names as index\n",
    "monthly_sales_abs.index = ['January', 'February', 'March', 'April', 'May', 'June', 'July', 'August', 'September', 'October', 'November', 'December']\n",
    "\n",
    "#plotting the bar graph\n",
    "plt.figure(figsize=(10, 6))\n",
    "monthly_sales_abs.plot(kind='bar', color='lightcoral')\n",
    "plt.title('Monthly Cancelations')\n",
    "plt.xlabel('Month')\n",
    "plt.ylabel('Total Quantity Sold')\n",
    "plt.show()\n"
   ]
  },
  {
   "cell_type": "markdown",
   "id": "2dbf90a8",
   "metadata": {},
   "source": [
    "## VII. Conclusion\n",
    "\n",
    "\n",
    "In concluding our exploration of the UCI Online Retail dataset, we have unearthed valuable insights that can significantly influence strategic decision-making. Our journey through customer analysis, product trends, and temporal patterns provides a holistic view of the dataset's dynamics.\n",
    "\n",
    "The identification of customer segments and popular products offers actionable intelligence for targeted marketing and inventory management. Temporal analysis reveals patterns that can inform operational strategies over different timeframes.\n",
    "\n",
    "As we wrap up, the key takeaway lies in leveraging these insights for enhanced business performance. Whether optimizing marketing strategies, refining inventory decisions, or understanding customer behavior, the dataset's revelations set the stage for informed actions. This EDA lays a foundation for continued exploration and more targeted interventions in the evolving landscape of online retail."
   ]
  }
 ],
 "metadata": {
  "kernelspec": {
   "display_name": "Python 3 (ipykernel)",
   "language": "python",
   "name": "python3"
  },
  "language_info": {
   "codemirror_mode": {
    "name": "ipython",
    "version": 3
   },
   "file_extension": ".py",
   "mimetype": "text/x-python",
   "name": "python",
   "nbconvert_exporter": "python",
   "pygments_lexer": "ipython3",
   "version": "3.9.12"
  }
 },
 "nbformat": 4,
 "nbformat_minor": 5
}
