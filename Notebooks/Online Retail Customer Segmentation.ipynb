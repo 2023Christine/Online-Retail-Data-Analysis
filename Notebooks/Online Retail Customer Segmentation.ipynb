{
 "cells": [
  {
   "cell_type": "markdown",
   "id": "e5eb9dec",
   "metadata": {},
   "source": [
    "# Online Retail Customer Segmentation\n",
    "<hr style=\"border: 2px solid #000000;\">"
   ]
  },
  {
   "cell_type": "code",
   "execution_count": null,
   "id": "d41ca61b",
   "metadata": {},
   "outputs": [],
   "source": [
    "import numpy as np\n",
    "import pandas as pd\n",
    "import matplotlib.pyplot as plt \n",
    "import seaborn as sns\n",
    "from sklearn.preprocessing import StandardScaler\n",
    "from sklearn.cluster import KMeans\n",
    "import os"
   ]
  },
  {
   "cell_type": "markdown",
   "id": "716dd423",
   "metadata": {},
   "source": [
    "---\n",
    "\n",
    "# Table of Contents\n",
    "1. [Introduction](#I.-Introduction)\n",
    "2. [RFM Analysis](#II.-RFM-Analysis)\n",
    "3. [K Means-Clustering](#IV.-K-Means-Clustering)\n",
    "4. [Post-Segmentation Analysis](#V.-Post-Segmentation-Analysis)\n",
    "5. [Conclusion](#VI-Conclusion)\n",
    "\n",
    "---"
   ]
  },
  {
   "cell_type": "markdown",
   "id": "5e841bfa",
   "metadata": {},
   "source": [
    "## Introduction"
   ]
  },
  {
   "cell_type": "markdown",
   "id": "de07d79b",
   "metadata": {},
   "source": [
    "Welcome to the \"Online Retail Customer Segmentation\" notebook, dedicated to exploring the UCI Online Retail Data. This phase marks a pivotal juncture in the analytical journey, poised to unveil latent patterns and customer segments within the dataset. The richness of the data necessitates a thorough exploration to discern intricate behaviors, identify high-value customers, and tailor strategies for optimal business outcomes.\n",
    "\n",
    "In the pursuit of unraveling the narrative within the data, this notebook employs a comprehensive approach, amalgamating RFM analysis and K-Means clustering. By scrutinizing Recency, Frequency, and Monetary Value, we aim to delineate distinct customer segments, each with its own unique characteristics and potential business implications."
   ]
  },
  {
   "cell_type": "markdown",
   "id": "f802c2a0",
   "metadata": {},
   "source": [
    "This data set which contains transactions occurring between 01/12/2010 and 09/12/2011 for a UK-based and registered non-store online retail. Source: http://archive.ics.uci.edu/ml/datasets/Online+Retail\n",
    "\n",
    "The dataset underwent a thorough cleaning process in the Online Retail Data Cleaning Notebook, where various measures were implemented to enhance its quality and usability. Additionally, several key features were incorporated to facilitate a more insightful and comprehensive analysis in subsequent phases. This preparatory step ensures that the dataset is primed for a detailed exploration of customer behavior, product dynamics, time trends, and country-specific insights during the Exploratory Data Analysis (EDA) phase.\n",
    "\n",
    "Each key feature in the dataset represents a unique transaction, and understanding its structure is essential for subsequent data analysis and cleaning.\n",
    "\n",
    "Examination of the fundamental features that characterize each transaction reveals:\n",
    "\n",
    "- **InvoiceNo:** A 6-digit integral number serving as a unique identifier for each transaction. \n",
    "- **StockCode:** A 5-digit integral number assigned to each distinct product, uniquely identifying items in the dataset.\n",
    "- **Description:** The nominal field that holds the product or item name.\n",
    "- **Quantity:** Numeric field representing the quantities of each product per transaction.\n",
    "- **InvoiceDate:** Numeric field indicating the date and time when a transaction occurred.\n",
    "- **UnitPrice:** Numeric field denoting the unit price of each product in sterling (£).\n",
    "- **CustomerID:** A 5-digit integral number serving as a unique identifier for each customer.\n",
    "- **Country:** Nominal field indicating the country where a customer resides.\n",
    "- **TotalPrice:** This column represents the total monetary value of each transaction, calculated by multiplying the quantity of items purchased by their respective unit prices.\n",
    "- **Hour:** Specific hour of the day when each transaction occurred, extracted from the 'InvoiceDate' timestamp.\n",
    "- **Day:** Day of the week (0 for Monday, 1 for Tuesday, and so on) when each transaction took place, derived from the 'InvoiceDate' timestamp.\n",
    "- **Month:** Numerical representation of the month when each transaction occurred, extracted from the 'InvoiceDate' timestamp.\n",
    "- **IsRepeatCustomer:** Binary flag, indicating whether a customer has made more than one purchase ('True') or only a single purchase ('False')."
   ]
  },
  {
   "cell_type": "markdown",
   "id": "31bbabdb",
   "metadata": {},
   "source": [
    "### Overview of Dataset Characteristics"
   ]
  },
  {
   "cell_type": "code",
   "execution_count": null,
   "id": "5ab4aa76",
   "metadata": {},
   "outputs": [],
   "source": [
    "# Set the working directory to the 'Online-Retail-Data-Analysis' folder\n",
    "os.chdir(os.path.abspath('..'))\n",
    "\n",
    "# Define the relative path to the data folder and the CSV file\n",
    "data_relative_path = os.path.join('Data', 'CleanedData.csv')\n",
    "\n",
    "# Construct the absolute path to the CSV file\n",
    "data_path = os.path.join(os.getcwd(), data_relative_path)\n",
    "\n",
    "# Read the CSV file into a Pandas DataFrame\n",
    "cleaned_data = pd.read_csv(data_path, encoding='latin1')\n",
    "\n",
    "cleaned_data.head(5)"
   ]
  },
  {
   "cell_type": "code",
   "execution_count": null,
   "id": "9803986b",
   "metadata": {},
   "outputs": [],
   "source": [
    "#view data information\n",
    "cleaned_data.info()"
   ]
  },
  {
   "cell_type": "code",
   "execution_count": null,
   "id": "fc008032",
   "metadata": {},
   "outputs": [],
   "source": [
    "#quantitative data\n",
    "cleaned_data.describe()"
   ]
  },
  {
   "cell_type": "markdown",
   "id": "d29dabb0",
   "metadata": {},
   "source": [
    "---"
   ]
  },
  {
   "cell_type": "markdown",
   "id": "b7b9020e",
   "metadata": {},
   "source": [
    "## RFM Analysis"
   ]
  },
  {
   "cell_type": "markdown",
   "id": "70a6ed66",
   "metadata": {},
   "source": [
    "To gain a deeper understanding of customer behavior and customize marketing strategies, a Customer Segmentation analysis is carried out using RFM (Recency, Frequency, Monetary) metrics. The RFM analysis involves grouping the data by 'CustomerID' and computing essential metrics like Recency, Frequency, and Monetary Value. "
   ]
  },
  {
   "cell_type": "code",
   "execution_count": null,
   "id": "93c21785",
   "metadata": {},
   "outputs": [],
   "source": [
    "# Convert 'InvoiceDate' to datetime format\n",
    "cleaned_data['InvoiceDate'] = pd.to_datetime(cleaned_data['InvoiceDate'])\n",
    "\n",
    "# RFM Analysis\n",
    "rfm_df = cleaned_data.groupby('CustomerID').agg({\n",
    "    'InvoiceDate': lambda x: (cleaned_data['InvoiceDate'].max() - x.max()).days,  # Recency\n",
    "    'InvoiceNo': 'nunique',  # Frequency\n",
    "    'TotalPrice': 'sum'  # Monetary Value\n",
    "}).rename(columns={\n",
    "    'InvoiceDate': 'Recency',\n",
    "    'InvoiceNo': 'Frequency',\n",
    "    'TotalPrice': 'MonetaryValue'\n",
    "}).reset_index()\n",
    "\n",
    "# Scaling RFM values\n",
    "scaler = StandardScaler()\n",
    "rfm_scaled = scaler.fit_transform(rfm_df[['Recency', 'Frequency', 'MonetaryValue']])\n"
   ]
  },
  {
   "cell_type": "markdown",
   "id": "42cf1bc3",
   "metadata": {},
   "source": [
    "### Checking Skewness"
   ]
  },
  {
   "cell_type": "code",
   "execution_count": null,
   "id": "09a7738d",
   "metadata": {},
   "outputs": [],
   "source": [
    "# Plotting distributions\n",
    "plt.figure(figsize=(12, 5))\n",
    "plt.subplot(1, 3, 1)\n",
    "sns.histplot(rfm_df['Recency'], kde=True)\n",
    "plt.title('Recency Distribution')\n",
    "\n",
    "plt.subplot(1, 3, 2)\n",
    "sns.histplot(rfm_df['Frequency'], kde=True)\n",
    "plt.title('Frequency Distribution')\n",
    "\n",
    "plt.subplot(1, 3, 3)\n",
    "sns.histplot(rfm_df['MonetaryValue'], kde=True)\n",
    "plt.title('MonetaryValue Distribution')\n",
    "\n",
    "plt.tight_layout()\n",
    "plt.show()"
   ]
  },
  {
   "cell_type": "markdown",
   "id": "c84b659e",
   "metadata": {},
   "source": [
    "When the data is highly left-skewed (meaning a long tail on the left side of the distribution), using a logarithmic transformation can be beneficial. The logarithmic transformation, particularly the natural logarithm (base e), can help to reduce the impact of extreme values and make the distribution more symmetric."
   ]
  },
  {
   "cell_type": "code",
   "execution_count": null,
   "id": "2986d0d8",
   "metadata": {},
   "outputs": [],
   "source": [
    "# Apply log transformation\n",
    "rfm_df[['Recency', 'Frequency', 'MonetaryValue']] = np.log1p(rfm_df[['Recency', 'Frequency', 'MonetaryValue']])\n",
    "\n",
    "# Plotting distributions\n",
    "plt.figure(figsize=(12, 5))\n",
    "plt.subplot(1, 3, 1)\n",
    "sns.histplot(rfm_df['Recency'], kde=True)\n",
    "plt.title('Recency Distribution (Log Transformed)')\n",
    "\n",
    "plt.subplot(1, 3, 2)\n",
    "sns.histplot(rfm_df['Frequency'], kde=True)\n",
    "plt.title('Frequency Distribution (Log Transformed)')\n",
    "\n",
    "plt.subplot(1, 3, 3)\n",
    "sns.histplot(rfm_df['MonetaryValue'], kde=True)\n",
    "plt.title('MonetaryValue Distribution (Log Transformed)')\n",
    "\n",
    "plt.tight_layout()\n",
    "plt.show()"
   ]
  },
  {
   "cell_type": "markdown",
   "id": "01875a44",
   "metadata": {},
   "source": [
    "## K Means Clustering"
   ]
  },
  {
   "cell_type": "markdown",
   "id": "4805a499",
   "metadata": {},
   "source": [
    "The Elbow method is employed to visualize the within-cluster sum of squares (WCSS) for varying numbers of clusters (k) in k-means clustering, aiding in pinpointing the optimal value for k. The plot suggests an optimal k value of 3 or 4, and I have opted to use 4 for further analysis."
   ]
  },
  {
   "cell_type": "code",
   "execution_count": null,
   "id": "b0932071",
   "metadata": {},
   "outputs": [],
   "source": [
    "# Elbow Method Plot\n",
    "wcss = [KMeans(n_clusters=i, init='k-means++', random_state=7).fit(rfm_scaled).inertia_ for i in range(1, 11)]\n",
    "plt.plot(range(1, 11), wcss)\n",
    "plt.xlabel('Number of Clusters')\n",
    "plt.ylabel('WCSS (Within-Cluster Sum of Squares)')\n",
    "plt.title('Elbow Method for Optimal k')\n",
    "plt.show()"
   ]
  },
  {
   "cell_type": "markdown",
   "id": "3ef9b444",
   "metadata": {},
   "source": [
    "Employing k-means clustering is crucial for customer segmentation and strategic optimization. K-means clustering, an unsupervised machine learning method, categorizes customers based on RFM features. This segmentation enables targeted marketing, tailoring campaigns to specific customer behaviors and preferences. By automating the segmentation process, k-means clustering ensures adaptability to evolving customer dynamics. This approach enhances resource allocation, customer engagement, and satisfaction, ultimately contributing to long-term success through refined product offerings and improved experiences.\n",
    "\n",
    "The clusters generated reveal the presence of four distinct groups. A deeper exploration of these groups opens avenues for more in-depth analysis and insights into customer behavior and characteristics within each cluster."
   ]
  },
  {
   "cell_type": "code",
   "execution_count": null,
   "id": "d79900a5",
   "metadata": {},
   "outputs": [],
   "source": [
    "# K-Means Clustering\n",
    "k = 4\n",
    "kmeans = KMeans(n_clusters=k, init='k-means++', random_state=42)\n",
    "rfm_df['Cluster'] = kmeans.fit_predict(rfm_scaled)\n",
    "\n",
    "# Cluster Summary\n",
    "cluster_summary = rfm_df.groupby('Cluster').agg({\n",
    "    'Recency': 'mean',\n",
    "    'Frequency': 'mean',\n",
    "    'MonetaryValue': 'mean',\n",
    "    'CustomerID': 'count'\n",
    "}).rename(columns={'CustomerID': 'Count'})\n",
    "\n",
    "# Visualization\n",
    "fig = plt.figure(figsize=(10, 8))\n",
    "ax = fig.add_subplot(111, projection='3d')\n",
    "ax.scatter(rfm_df['Recency'], rfm_df['Frequency'], rfm_df['MonetaryValue'], c=rfm_df['Cluster'], cmap='viridis')\n",
    "ax.set_xlabel('Recency')\n",
    "ax.set_ylabel('Frequency')\n",
    "ax.set_zlabel('Monetary Value')\n",
    "ax.set_title('Customer Segmentation - K-Means Clustering')\n",
    "plt.show()"
   ]
  },
  {
   "cell_type": "markdown",
   "id": "09a06209",
   "metadata": {},
   "source": [
    "## Post Segmentation Analysis"
   ]
  },
  {
   "cell_type": "code",
   "execution_count": null,
   "id": "08845986",
   "metadata": {},
   "outputs": [],
   "source": [
    "# Assuming 'rfm_df' contains the results of the K-Means clustering\n",
    "# 'Cluster' column indicates the cluster assignment for each customer\n",
    "\n",
    "# Analyze characteristics of each segment\n",
    "segment_analysis = rfm_df.groupby('Cluster').agg({\n",
    "    'Recency': ['mean', 'min', 'max', 'std'],\n",
    "    'Frequency': ['mean', 'min', 'max', 'std'],\n",
    "    'MonetaryValue': ['mean', 'min', 'max', 'std'],\n",
    "    'CustomerID': 'count'\n",
    "}).rename(columns={'CustomerID': 'Count'})\n",
    "\n",
    "# Display the results\n",
    "print(segment_analysis)\n",
    "\n",
    "# Visualize characteristics of each segment\n",
    "fig, axes = plt.subplots(nrows=1, ncols=3, figsize=(18, 6))\n",
    "\n",
    "# Recency\n",
    "sns.barplot(x=segment_analysis.index, y=('Recency', 'mean'), data=segment_analysis, ax=axes[0])\n",
    "axes[0].set_title('Average Recency for Each Segment')\n",
    "\n",
    "# Frequency\n",
    "sns.barplot(x=segment_analysis.index, y=('Frequency', 'mean'), data=segment_analysis, ax=axes[1])\n",
    "axes[1].set_title('Average Frequency for Each Segment')\n",
    "\n",
    "# MonetaryValue\n",
    "sns.barplot(x=segment_analysis.index, y=('MonetaryValue', 'mean'), data=segment_analysis, ax=axes[2])\n",
    "axes[2].set_title('Average Monetary Value for Each Segment')\n",
    "\n",
    "plt.tight_layout()\n",
    "plt.show()\n"
   ]
  },
  {
   "cell_type": "markdown",
   "id": "f1814002",
   "metadata": {},
   "source": [
    "In this customer segmentation analysis, we have utilized K-Means clustering to categorize customers into distinct clusters based on their Recency, Frequency, and Monetary Value (RFM) metrics. The analysis aims to provide actionable insights into customer behavior and preferences, allowing for targeted marketing strategies and personalized approaches. The clusters have been labeled and interpreted, shedding light on the characteristics of each segment. As we delve into the details of each cluster, including recency, frequency, and monetary metrics, we gain valuable insights into the engagement and spending patterns of our customer base. The subsequent sections highlight specific clusters, offer general observations, and propose actionable strategies to enhance customer engagement and optimize business outcomes.\n",
    "\n",
    "\n",
    "### Cluster 0: \"Inactive/Low-Spending Customers\"\n",
    "\n",
    "- **Recency:** Mean of 5.48 days, indicating infrequent recent purchases.\n",
    "- **Frequency:** Low average frequency (0.88), suggesting minimal purchasing activity.\n",
    "- **MonetaryValue:** Relatively low mean monetary value (5.74), indicating lower spending.\n",
    "\n",
    "### Cluster 1: \"Active/Regular Customers\"\n",
    "\n",
    "- **Recency:** Very low mean recency of 1.84 days, suggesting recent and regular activity.\n",
    "- **Frequency:** Higher average frequency (3.04) indicates frequent and regular purchases.\n",
    "- **MonetaryValue:** Significant mean monetary value (9.09), indicating higher spending.\n",
    "\n",
    "### Cluster 2: \"High-Value Customers\"\n",
    "\n",
    "- **Recency:** Very low mean recency of 1.14 days, indicating recent and frequent activity.\n",
    "- **Frequency:** High average frequency (4.05) indicates frequent and substantial purchases.\n",
    "- **MonetaryValue:** Very high mean monetary value (11.56), indicating high-value customers.\n",
    "\n",
    "### Cluster 3: \"Medium-Value Customers\"\n",
    "\n",
    "- **Recency:** Mean recency of 3.32 days, indicating some recent activity.\n",
    "- **Frequency:** Moderate average frequency (1.38) suggests moderate purchase frequency.\n",
    "- **MonetaryValue:** Moderate mean monetary value (6.69), indicating medium-level spending.\n",
    "\n",
    "#### General Observations:\n",
    "\n",
    "- Clusters 1 and 2 are particularly interesting as they represent active and high-value customers, respectively.\n",
    "- Cluster 0 represents less active or low-spending customers.\n",
    "- Cluster 3 represents customers with moderate activity and spending.\n",
    "\n",
    "#### Actionable Insights:\n",
    "\n",
    "- Consider targeted marketing strategies for Clusters 1 and 2 to retain and possibly increase their engagement.\n",
    "- For Cluster 0, consider re-engagement strategies to increase their activity and spending.\n",
    "- Monitor and analyze customer behavior within each cluster for ongoing optimization.\n"
   ]
  },
  {
   "cell_type": "markdown",
   "id": "d452b95e",
   "metadata": {},
   "source": [
    "## Conclusion"
   ]
  }
 ],
 "metadata": {
  "kernelspec": {
   "display_name": "Python 3 (ipykernel)",
   "language": "python",
   "name": "python3"
  },
  "language_info": {
   "codemirror_mode": {
    "name": "ipython",
    "version": 3
   },
   "file_extension": ".py",
   "mimetype": "text/x-python",
   "name": "python",
   "nbconvert_exporter": "python",
   "pygments_lexer": "ipython3",
   "version": "3.9.12"
  }
 },
 "nbformat": 4,
 "nbformat_minor": 5
}
