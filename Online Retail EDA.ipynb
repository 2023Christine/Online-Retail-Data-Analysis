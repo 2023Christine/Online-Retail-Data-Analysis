{
 "cells": [
  {
   "cell_type": "code",
   "execution_count": null,
   "id": "896b58d5",
   "metadata": {},
   "outputs": [],
   "source": [
    "import numpy as np\n",
    "import pandas as pd\n",
    "import matplotlib.pyplot as plt \n",
    "import seaborn as sns"
   ]
  },
  {
   "cell_type": "markdown",
   "id": "73919324",
   "metadata": {},
   "source": [
    "# Exploratory Data Analysis"
   ]
  },
  {
   "cell_type": "code",
   "execution_count": null,
   "id": "10e23f36",
   "metadata": {},
   "outputs": [],
   "source": [
    "#read in dataset\n",
    "cleaned_data = pd.read_csv('CleanedData.csv',encoding='latin1',low_memory=False)\n",
    "cleaned_data.head(5)"
   ]
  },
  {
   "cell_type": "code",
   "execution_count": null,
   "id": "b6d5c838",
   "metadata": {},
   "outputs": [],
   "source": [
    "cleaned_data.describe()"
   ]
  },
  {
   "cell_type": "code",
   "execution_count": null,
   "id": "2e1c3f05",
   "metadata": {},
   "outputs": [],
   "source": [
    "cleaned_data.info()"
   ]
  },
  {
   "cell_type": "markdown",
   "id": "cf60fdc7",
   "metadata": {},
   "source": [
    "## Customer Analysis"
   ]
  },
  {
   "cell_type": "code",
   "execution_count": null,
   "id": "c00a985b",
   "metadata": {},
   "outputs": [],
   "source": [
    "#Unique Customers\n",
    "print(\"Number of customers:\",cleaned_data['CustomerID'].nunique())"
   ]
  },
  {
   "cell_type": "markdown",
   "id": "c3eb3c05",
   "metadata": {},
   "source": [
    "### Transaction Frequency"
   ]
  },
  {
   "cell_type": "code",
   "execution_count": null,
   "id": "ba964b09",
   "metadata": {},
   "outputs": [],
   "source": [
    "#Transaction Frequency\n",
    "transaction_frequency = cleaned_data.groupby('CustomerID')['InvoiceNo'].nunique()\n",
    "\n",
    "# Define segments based on transaction frequency\n",
    "bins = [0, 1, 5, 10, np.inf]\n",
    "labels = ['1', '2-5', '6-10', '11+']\n",
    "cleaned_data['TransactionFrequency'] = pd.cut(transaction_frequency, bins=bins, labels=labels)\n",
    "\n",
    "# Now, analyze each segment\n",
    "segment_counts = cleaned_data['TransactionFrequency'].value_counts()\n",
    "\n",
    "# Plotting a pie chart\n",
    "plt.figure(figsize=(8, 8))\n",
    "plt.pie(segment_counts, labels=labels, autopct='%1.1f%%', startangle=90, colors=['lightcoral', 'peachpuff', 'lightskyblue', 'lightgreen'])\n",
    "plt.title('Customer Segmentation by Transaction Frequency')\n",
    "plt.show()"
   ]
  },
  {
   "cell_type": "markdown",
   "id": "93e83aec",
   "metadata": {},
   "source": [
    "### Top Customers"
   ]
  },
  {
   "cell_type": "code",
   "execution_count": null,
   "id": "056a9399",
   "metadata": {},
   "outputs": [],
   "source": [
    "# Total spending per customer\n",
    "total_spending = cleaned_data.groupby('CustomerID')['TotalPrice'].sum()\n",
    "\n",
    "# Sorting to get top customers\n",
    "top_customers = total_spending.sort_values(ascending=False).head(10)\n",
    "\n",
    "# Total spending per customer\n",
    "total_spending = cleaned_data.groupby('CustomerID')['TotalPrice'].sum()\n",
    "\n",
    "# Sorting to get top customers\n",
    "top_customers = total_spending.sort_values(ascending=False).head(10)\n",
    "top_customers"
   ]
  },
  {
   "cell_type": "markdown",
   "id": "9c105461",
   "metadata": {},
   "source": [
    "### Customer Retention"
   ]
  },
  {
   "cell_type": "code",
   "execution_count": null,
   "id": "10bc1137",
   "metadata": {},
   "outputs": [],
   "source": [
    "# Identify repeat customers\n",
    "repeat_customers = cleaned_data[cleaned_data['TransactionFrequency'] > '1']\n",
    "\n",
    "# Calculate retention rate\n",
    "retention_rate = len(repeat_customers['CustomerID'].unique()) / len(cleaned_data['CustomerID'].unique())"
   ]
  },
  {
   "cell_type": "code",
   "execution_count": null,
   "id": "e6dcf877",
   "metadata": {},
   "outputs": [],
   "source": [
    "# Calculate the percentage of repeat customers\n",
    "percent_repeat_customers = retention_rate * 100\n",
    "\n",
    "# Calculate the churn rate (1 - retention rate)\n",
    "churn_rate = 1 - retention_rate\n",
    "\n",
    "# Print the percentage of repeat customers\n",
    "print(f\"Percentage of Repeat Customers: {percent_repeat_customers:.2f}%\")"
   ]
  },
  {
   "cell_type": "markdown",
   "id": "7810b716",
   "metadata": {},
   "source": [
    "## Product Analysis"
   ]
  },
  {
   "cell_type": "code",
   "execution_count": null,
   "id": "ecfd005f",
   "metadata": {},
   "outputs": [],
   "source": [
    "#Unique Products\n",
    "print(\"Number of products:\",cleaned_data['StockCode'].nunique())"
   ]
  },
  {
   "cell_type": "markdown",
   "id": "76aa7afc",
   "metadata": {},
   "source": [
    "### Top Products"
   ]
  },
  {
   "cell_type": "markdown",
   "id": "cdeae1bc",
   "metadata": {},
   "source": [
    "#### Top Products By Quantity Sold"
   ]
  },
  {
   "cell_type": "code",
   "execution_count": null,
   "id": "bbb3fb93",
   "metadata": {},
   "outputs": [],
   "source": [
    "# Calculate total quantity sold for the entire dataset\n",
    "total_quantity = cleaned_data['Quantity'].sum()\n",
    "\n",
    "# Print the total quantity\n",
    "print(f\"Overall Total Quantity Sold: {total_quantity}\")\n",
    "\n",
    "\n",
    "# Top 10 products by quantity sold\n",
    "top_products_quantity = cleaned_data.groupby('Description')['Quantity'].sum().sort_values(ascending=False).head(10)\n",
    "\n",
    "# Bar chart for top products by quantity\n",
    "plt.figure(figsize=(12, 6))\n",
    "top_products_quantity.plot(kind='bar', color='lightcoral')\n",
    "plt.title('Top 10 Products by Quantity Sold')\n",
    "plt.xlabel('Product Description')\n",
    "plt.ylabel('Quantity Sold')\n",
    "plt.show()"
   ]
  },
  {
   "cell_type": "markdown",
   "id": "4a589031",
   "metadata": {},
   "source": [
    "### Top Product By Revenue Generated"
   ]
  },
  {
   "cell_type": "code",
   "execution_count": null,
   "id": "8bf19b52",
   "metadata": {},
   "outputs": [],
   "source": [
    "# Calculate total revenue for the entire dataset\n",
    "total_revenue = cleaned_data['TotalPrice'].sum()\n",
    "\n",
    "# Print the total revenue\n",
    "print(f\"Overall Total Revenue: {total_revenue:.2f}\")\n",
    "\n",
    "# Top 10 products by total revenue\n",
    "top_products_revenue = cleaned_data.groupby('Description')['TotalPrice'].sum().sort_values(ascending=False).head(10)\n",
    "\n",
    "# Bar chart for top products by revenue\n",
    "plt.figure(figsize=(12, 6))\n",
    "top_products_revenue.plot(kind='bar', color='skyblue')\n",
    "plt.title('Top 10 Products by Total Revenue')\n",
    "plt.xlabel('Product Description')\n",
    "plt.ylabel('Total Revenue')\n",
    "plt.show()"
   ]
  },
  {
   "cell_type": "markdown",
   "id": "4cbf3a24",
   "metadata": {},
   "source": [
    "## Time Analysis"
   ]
  },
  {
   "cell_type": "code",
   "execution_count": null,
   "id": "e86c66a8",
   "metadata": {},
   "outputs": [],
   "source": [
    "# Monthly sales trends\n",
    "monthly_sales = cleaned_data.groupby('Month')['Quantity'].sum()\n",
    "\n",
    "# Set month names as index\n",
    "monthly_sales.index = ['January', 'February', 'March', 'April', 'May', 'June', 'July', 'August', 'September', 'October', 'November', 'December']\n",
    "\n",
    "# Plotting the bar graph\n",
    "plt.figure(figsize=(10, 6))\n",
    "monthly_sales.plot(kind='bar', color='lightcoral')\n",
    "plt.title('Monthly Sales Trends')\n",
    "plt.xlabel('Month')\n",
    "plt.ylabel('Total Quantity Sold')\n",
    "plt.show()"
   ]
  },
  {
   "cell_type": "code",
   "execution_count": null,
   "id": "044f5a73",
   "metadata": {},
   "outputs": [],
   "source": [
    "# Daily sales trends\n",
    "daily_sales = cleaned_data.groupby('Day')['Quantity'].sum()\n",
    "\n",
    "# Bar chart for daily sales trends\n",
    "plt.figure(figsize=(10, 6))\n",
    "daily_sales.plot(kind='bar', color='lightskyblue')\n",
    "plt.title('Daily Sales Trends')\n",
    "plt.xlabel('Day of the Week')\n",
    "plt.ylabel('Quantity Sold')\n",
    "\n",
    "# Set xticks with specified labels\n",
    "plt.xticks(range(7), ['Mon', 'Tue', 'Wed', 'Thu', 'Fri', 'Sat', 'Sun'], rotation=0)\n",
    "\n",
    "plt.show()\n"
   ]
  },
  {
   "cell_type": "code",
   "execution_count": null,
   "id": "c8f4289f",
   "metadata": {},
   "outputs": [],
   "source": [
    "# Hourly sales trends\n",
    "hourly_sales = cleaned_data.groupby('Hour')['Quantity'].sum()\n",
    "\n",
    "# Line chart for hourly sales trends\n",
    "plt.figure(figsize=(10, 6))\n",
    "hourly_sales.plot(kind='bar', color='lightgreen')\n",
    "plt.title('Hourly Sales Trends')\n",
    "plt.xlabel('Hour of the Day')\n",
    "plt.ylabel('Quantity Sold')\n",
    "plt.show()\n"
   ]
  },
  {
   "cell_type": "markdown",
   "id": "49e12342",
   "metadata": {},
   "source": [
    "## Country Analysis"
   ]
  },
  {
   "cell_type": "code",
   "execution_count": null,
   "id": "846d8a95",
   "metadata": {},
   "outputs": [],
   "source": [
    "# Group by 'Country' and calculate total sales\n",
    "country_sales = cleaned_data.groupby('Country')['TotalPrice'].sum()\n",
    "\n",
    "# Sort the total sales\n",
    "sorted_country_sales = country_sales.sort_values(ascending=False)\n",
    "\n",
    "# Display the top 5 countries by total sales\n",
    "top_5_country_sales = sorted_country_sales.head(5)\n",
    "print(top_5_country_sales)"
   ]
  },
  {
   "cell_type": "code",
   "execution_count": null,
   "id": "0890fa53",
   "metadata": {},
   "outputs": [],
   "source": [
    "# Exclude entries for the United Kingdom\n",
    "countries_excluding_uk = cleaned_data[cleaned_data['Country'] != 'United Kingdom']\n",
    "\n",
    "# Group by 'Country' and calculate total sales\n",
    "country_sales_excluding_uk = countries_excluding_uk.groupby('Country')['TotalPrice'].sum()\n",
    "\n",
    "# Bar chart for country-wise sales excluding the United Kingdom\n",
    "plt.figure(figsize=(12, 6))\n",
    "country_sales_excluding_uk.sort_values(ascending=False).plot(kind='bar', color='lightcoral')\n",
    "plt.title('Country-wise Sales (Excluding United Kingdom)')\n",
    "plt.xlabel('Country')\n",
    "plt.ylabel('Total Sales')\n",
    "plt.show()\n"
   ]
  },
  {
   "cell_type": "code",
   "execution_count": null,
   "id": "cd53ef98",
   "metadata": {},
   "outputs": [],
   "source": [
    "# Group by 'Country' and calculate the number of unique customers\n",
    "customer_count_per_country = cleaned_data.groupby('Country')['CustomerID'].nunique()\n",
    "\n",
    "# Sort the customer counts\n",
    "sorted_customer_count = customer_count_per_country.sort_values(ascending=False)\n",
    "\n",
    "# Display the top 5 countries by the number of unique customers\n",
    "top_5_customer_count = sorted_customer_count.head(5)\n",
    "print(top_5_customer_count)\n"
   ]
  },
  {
   "cell_type": "code",
   "execution_count": null,
   "id": "9dbd01f4",
   "metadata": {},
   "outputs": [],
   "source": [
    "# Group by 'Country' and calculate total sales\n",
    "country_CID_excluding_uk = countries_excluding_uk.groupby('Country')['CustomerID'].sum()\n",
    "\n",
    "# Bar chart for country-wise sales excluding the United Kingdom\n",
    "plt.figure(figsize=(12, 6))\n",
    "country_CID_excluding_uk.sort_values(ascending=False).plot(kind='bar', color='lightskyblue')\n",
    "plt.title('Country-wise Sales (Excluding United Kingdom)')\n",
    "plt.xlabel('Country')\n",
    "plt.ylabel('Total Sales')\n",
    "plt.show()"
   ]
  },
  {
   "cell_type": "code",
   "execution_count": null,
   "id": "9aa5be49",
   "metadata": {},
   "outputs": [],
   "source": [
    "# Group by 'Country' and calculate the average transaction value\n",
    "avg_transaction_value = cleaned_data.groupby('Country')['TotalPrice'].mean()\n",
    "\n",
    "# Sort the average transaction values\n",
    "sorted_avg_transaction_value = avg_transaction_value.sort_values(ascending=False)\n",
    "\n",
    "# Display the top 5 countries by the average transaction value\n",
    "top_5_avg_transaction_value = sorted_avg_transaction_value.head(5)\n",
    "print(top_5_avg_transaction_value)\n"
   ]
  },
  {
   "cell_type": "code",
   "execution_count": null,
   "id": "1d8813f6",
   "metadata": {},
   "outputs": [],
   "source": [
    "# Calculate average transaction value per country\n",
    "avg_transaction_value = cleaned_data.groupby('Country')['TotalPrice'].mean()\n",
    "\n",
    "# Bar chart for average transaction value per country\n",
    "plt.figure(figsize=(12, 6))\n",
    "avg_transaction_value.sort_values(ascending=False).plot(kind='bar', color='lightgreen')\n",
    "plt.title('Average Transaction Value per Country')\n",
    "plt.xlabel('Country')\n",
    "plt.ylabel('Average Transaction Value')\n",
    "plt.show()"
   ]
  },
  {
   "cell_type": "code",
   "execution_count": null,
   "id": "ce7fecd8",
   "metadata": {},
   "outputs": [],
   "source": [
    "# Count transaction frequency per country\n",
    "transaction_frequency = cleaned_data.groupby('Country')['InvoiceNo'].nunique()\n",
    "\n",
    "# Sort the transaction frequencies\n",
    "sorted_transaction_frequency = transaction_frequency.sort_values(ascending=False)\n",
    "\n",
    "# Display the top 5 transaction frequencies\n",
    "top_5_transaction_frequency = sorted_transaction_frequency.head(5)\n",
    "print(top_5_transaction_frequency)"
   ]
  },
  {
   "cell_type": "code",
   "execution_count": null,
   "id": "b0052128",
   "metadata": {},
   "outputs": [],
   "source": [
    "# Group by 'Country' and calculate total sales\n",
    "country_sales_excluding_uk = countries_excluding_uk.groupby('Country')['TotalPrice'].sum()\n",
    "\n",
    "# Bar chart for country-wise sales excluding the United Kingdom\n",
    "plt.figure(figsize=(12, 6))\n",
    "country_sales_excluding_uk.sort_values(ascending=False).plot(kind='bar', color='peachpuff')\n",
    "plt.title('Country-wise Sales (Excluding United Kingdom)')\n",
    "plt.xlabel('Country')\n",
    "plt.ylabel('Total Sales')\n",
    "plt.show()\n"
   ]
  }
 ],
 "metadata": {
  "kernelspec": {
   "display_name": "Python 3 (ipykernel)",
   "language": "python",
   "name": "python3"
  },
  "language_info": {
   "codemirror_mode": {
    "name": "ipython",
    "version": 3
   },
   "file_extension": ".py",
   "mimetype": "text/x-python",
   "name": "python",
   "nbconvert_exporter": "python",
   "pygments_lexer": "ipython3",
   "version": "3.9.12"
  }
 },
 "nbformat": 4,
 "nbformat_minor": 5
}
